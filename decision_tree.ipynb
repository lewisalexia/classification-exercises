{
 "cells": [
  {
   "cell_type": "code",
   "execution_count": 1,
   "id": "a325fa85-ad54-4edc-8984-5a48f01ad77e",
   "metadata": {},
   "outputs": [
    {
     "name": "stdout",
     "output_type": "stream",
     "text": [
      "Load In successful, awaiting commands...\n",
      "Load In successful, awaiting commands...\n"
     ]
    }
   ],
   "source": [
    "import acquire as acq\n",
    "import prepare as prep\n",
    "import matplotlib.pyplot as plt\n",
    "import seaborn as sns\n",
    "import pandas as pd\n",
    "import numpy as np\n",
    "from sklearn.tree import DecisionTreeClassifier, DecisionTreeRegressor, plot_tree\n",
    "from sklearn.metrics import classification_report, confusion_matrix"
   ]
  },
  {
   "cell_type": "markdown",
   "id": "4e460bf1-2975-4af8-8e5e-ad7802880f25",
   "metadata": {},
   "source": [
    "> # Part A"
   ]
  },
  {
   "cell_type": "markdown",
   "id": "2c4e1e4a",
   "metadata": {},
   "source": [
    ">> ### Acquire"
   ]
  },
  {
   "cell_type": "markdown",
   "id": "aa124244-932c-44ce-8e92-187024da197f",
   "metadata": {},
   "source": [
    "Using the titanic data:"
   ]
  },
  {
   "cell_type": "code",
   "execution_count": 2,
   "id": "fdb93a46-12e4-4297-ac82-0ade300b1125",
   "metadata": {},
   "outputs": [
    {
     "name": "stdout",
     "output_type": "stream",
     "text": [
      "csv file found and loaded\n"
     ]
    },
    {
     "data": {
      "text/html": [
       "<div>\n",
       "<style scoped>\n",
       "    .dataframe tbody tr th:only-of-type {\n",
       "        vertical-align: middle;\n",
       "    }\n",
       "\n",
       "    .dataframe tbody tr th {\n",
       "        vertical-align: top;\n",
       "    }\n",
       "\n",
       "    .dataframe thead th {\n",
       "        text-align: right;\n",
       "    }\n",
       "</style>\n",
       "<table border=\"1\" class=\"dataframe\">\n",
       "  <thead>\n",
       "    <tr style=\"text-align: right;\">\n",
       "      <th></th>\n",
       "      <th>passenger_id</th>\n",
       "      <th>survived</th>\n",
       "      <th>pclass</th>\n",
       "      <th>sex</th>\n",
       "      <th>age</th>\n",
       "      <th>sibsp</th>\n",
       "      <th>parch</th>\n",
       "      <th>fare</th>\n",
       "      <th>embarked</th>\n",
       "      <th>class</th>\n",
       "      <th>deck</th>\n",
       "      <th>embark_town</th>\n",
       "      <th>alone</th>\n",
       "    </tr>\n",
       "  </thead>\n",
       "  <tbody>\n",
       "    <tr>\n",
       "      <th>0</th>\n",
       "      <td>0</td>\n",
       "      <td>0</td>\n",
       "      <td>3</td>\n",
       "      <td>male</td>\n",
       "      <td>22.0</td>\n",
       "      <td>1</td>\n",
       "      <td>0</td>\n",
       "      <td>7.2500</td>\n",
       "      <td>S</td>\n",
       "      <td>Third</td>\n",
       "      <td>NaN</td>\n",
       "      <td>Southampton</td>\n",
       "      <td>0</td>\n",
       "    </tr>\n",
       "    <tr>\n",
       "      <th>1</th>\n",
       "      <td>1</td>\n",
       "      <td>1</td>\n",
       "      <td>1</td>\n",
       "      <td>female</td>\n",
       "      <td>38.0</td>\n",
       "      <td>1</td>\n",
       "      <td>0</td>\n",
       "      <td>71.2833</td>\n",
       "      <td>C</td>\n",
       "      <td>First</td>\n",
       "      <td>C</td>\n",
       "      <td>Cherbourg</td>\n",
       "      <td>0</td>\n",
       "    </tr>\n",
       "    <tr>\n",
       "      <th>2</th>\n",
       "      <td>2</td>\n",
       "      <td>1</td>\n",
       "      <td>3</td>\n",
       "      <td>female</td>\n",
       "      <td>26.0</td>\n",
       "      <td>0</td>\n",
       "      <td>0</td>\n",
       "      <td>7.9250</td>\n",
       "      <td>S</td>\n",
       "      <td>Third</td>\n",
       "      <td>NaN</td>\n",
       "      <td>Southampton</td>\n",
       "      <td>1</td>\n",
       "    </tr>\n",
       "    <tr>\n",
       "      <th>3</th>\n",
       "      <td>3</td>\n",
       "      <td>1</td>\n",
       "      <td>1</td>\n",
       "      <td>female</td>\n",
       "      <td>35.0</td>\n",
       "      <td>1</td>\n",
       "      <td>0</td>\n",
       "      <td>53.1000</td>\n",
       "      <td>S</td>\n",
       "      <td>First</td>\n",
       "      <td>C</td>\n",
       "      <td>Southampton</td>\n",
       "      <td>0</td>\n",
       "    </tr>\n",
       "    <tr>\n",
       "      <th>4</th>\n",
       "      <td>4</td>\n",
       "      <td>0</td>\n",
       "      <td>3</td>\n",
       "      <td>male</td>\n",
       "      <td>35.0</td>\n",
       "      <td>0</td>\n",
       "      <td>0</td>\n",
       "      <td>8.0500</td>\n",
       "      <td>S</td>\n",
       "      <td>Third</td>\n",
       "      <td>NaN</td>\n",
       "      <td>Southampton</td>\n",
       "      <td>1</td>\n",
       "    </tr>\n",
       "  </tbody>\n",
       "</table>\n",
       "</div>"
      ],
      "text/plain": [
       "   passenger_id  survived  pclass     sex   age  sibsp  parch     fare  \\\n",
       "0             0         0       3    male  22.0      1      0   7.2500   \n",
       "1             1         1       1  female  38.0      1      0  71.2833   \n",
       "2             2         1       3  female  26.0      0      0   7.9250   \n",
       "3             3         1       1  female  35.0      1      0  53.1000   \n",
       "4             4         0       3    male  35.0      0      0   8.0500   \n",
       "\n",
       "  embarked  class deck  embark_town  alone  \n",
       "0        S  Third  NaN  Southampton      0  \n",
       "1        C  First    C    Cherbourg      0  \n",
       "2        S  Third  NaN  Southampton      1  \n",
       "3        S  First    C  Southampton      0  \n",
       "4        S  Third  NaN  Southampton      1  "
      ]
     },
     "execution_count": 2,
     "metadata": {},
     "output_type": "execute_result"
    }
   ],
   "source": [
    "df = acq.get_titanic_data()\n",
    "df.head()"
   ]
  },
  {
   "cell_type": "markdown",
   "id": "10d4b311",
   "metadata": {},
   "source": [
    ">> ### Prepare"
   ]
  },
  {
   "cell_type": "code",
   "execution_count": 3,
   "id": "ca1c291e-71e3-4ca5-a937-1ae9b92f720b",
   "metadata": {
    "scrolled": true
   },
   "outputs": [],
   "source": [
    "dft = prep.clean_titanic(df)"
   ]
  },
  {
   "cell_type": "code",
   "execution_count": 4,
   "id": "279283cd",
   "metadata": {},
   "outputs": [],
   "source": [
    "dft = dft[['passenger_id',\n",
    " 'survived',\n",
    " 'pclass',\n",
    " 'sibsp',\n",
    " 'parch',\n",
    " 'fare',\n",
    " 'embark_town',\n",
    " 'alone',\n",
    " 'sex_male',\n",
    " 'embark_town_Queenstown',\n",
    " 'embark_town_Southampton']]"
   ]
  },
  {
   "cell_type": "markdown",
   "id": "9f3948c1",
   "metadata": {},
   "source": [
    "### removed the sex column for the model as it is redundant"
   ]
  },
  {
   "cell_type": "markdown",
   "id": "d43c8427",
   "metadata": {},
   "source": [
    "need to take out the embark_town column as well as it is already encoded and i remember the names"
   ]
  },
  {
   "cell_type": "code",
   "execution_count": 5,
   "id": "ec8c3820",
   "metadata": {},
   "outputs": [
    {
     "data": {
      "text/html": [
       "<div>\n",
       "<style scoped>\n",
       "    .dataframe tbody tr th:only-of-type {\n",
       "        vertical-align: middle;\n",
       "    }\n",
       "\n",
       "    .dataframe tbody tr th {\n",
       "        vertical-align: top;\n",
       "    }\n",
       "\n",
       "    .dataframe thead th {\n",
       "        text-align: right;\n",
       "    }\n",
       "</style>\n",
       "<table border=\"1\" class=\"dataframe\">\n",
       "  <thead>\n",
       "    <tr style=\"text-align: right;\">\n",
       "      <th></th>\n",
       "      <th>passenger_id</th>\n",
       "      <th>survived</th>\n",
       "      <th>pclass</th>\n",
       "      <th>sibsp</th>\n",
       "      <th>parch</th>\n",
       "      <th>fare</th>\n",
       "      <th>embark_town</th>\n",
       "      <th>alone</th>\n",
       "      <th>sex_male</th>\n",
       "      <th>embark_town_Queenstown</th>\n",
       "      <th>embark_town_Southampton</th>\n",
       "    </tr>\n",
       "  </thead>\n",
       "  <tbody>\n",
       "    <tr>\n",
       "      <th>0</th>\n",
       "      <td>0</td>\n",
       "      <td>0</td>\n",
       "      <td>3</td>\n",
       "      <td>1</td>\n",
       "      <td>0</td>\n",
       "      <td>7.2500</td>\n",
       "      <td>Southampton</td>\n",
       "      <td>0</td>\n",
       "      <td>1</td>\n",
       "      <td>0</td>\n",
       "      <td>1</td>\n",
       "    </tr>\n",
       "    <tr>\n",
       "      <th>1</th>\n",
       "      <td>1</td>\n",
       "      <td>1</td>\n",
       "      <td>1</td>\n",
       "      <td>1</td>\n",
       "      <td>0</td>\n",
       "      <td>71.2833</td>\n",
       "      <td>Cherbourg</td>\n",
       "      <td>0</td>\n",
       "      <td>0</td>\n",
       "      <td>0</td>\n",
       "      <td>0</td>\n",
       "    </tr>\n",
       "    <tr>\n",
       "      <th>2</th>\n",
       "      <td>2</td>\n",
       "      <td>1</td>\n",
       "      <td>3</td>\n",
       "      <td>0</td>\n",
       "      <td>0</td>\n",
       "      <td>7.9250</td>\n",
       "      <td>Southampton</td>\n",
       "      <td>1</td>\n",
       "      <td>0</td>\n",
       "      <td>0</td>\n",
       "      <td>1</td>\n",
       "    </tr>\n",
       "    <tr>\n",
       "      <th>3</th>\n",
       "      <td>3</td>\n",
       "      <td>1</td>\n",
       "      <td>1</td>\n",
       "      <td>1</td>\n",
       "      <td>0</td>\n",
       "      <td>53.1000</td>\n",
       "      <td>Southampton</td>\n",
       "      <td>0</td>\n",
       "      <td>0</td>\n",
       "      <td>0</td>\n",
       "      <td>1</td>\n",
       "    </tr>\n",
       "    <tr>\n",
       "      <th>4</th>\n",
       "      <td>4</td>\n",
       "      <td>0</td>\n",
       "      <td>3</td>\n",
       "      <td>0</td>\n",
       "      <td>0</td>\n",
       "      <td>8.0500</td>\n",
       "      <td>Southampton</td>\n",
       "      <td>1</td>\n",
       "      <td>1</td>\n",
       "      <td>0</td>\n",
       "      <td>1</td>\n",
       "    </tr>\n",
       "  </tbody>\n",
       "</table>\n",
       "</div>"
      ],
      "text/plain": [
       "   passenger_id  survived  pclass  sibsp  parch     fare  embark_town  alone  \\\n",
       "0             0         0       3      1      0   7.2500  Southampton      0   \n",
       "1             1         1       1      1      0  71.2833    Cherbourg      0   \n",
       "2             2         1       3      0      0   7.9250  Southampton      1   \n",
       "3             3         1       1      1      0  53.1000  Southampton      0   \n",
       "4             4         0       3      0      0   8.0500  Southampton      1   \n",
       "\n",
       "   sex_male  embark_town_Queenstown  embark_town_Southampton  \n",
       "0         1                       0                        1  \n",
       "1         0                       0                        0  \n",
       "2         0                       0                        1  \n",
       "3         0                       0                        1  \n",
       "4         1                       0                        1  "
      ]
     },
     "execution_count": 5,
     "metadata": {},
     "output_type": "execute_result"
    }
   ],
   "source": [
    "dft.head()"
   ]
  },
  {
   "cell_type": "code",
   "execution_count": 6,
   "id": "0bee4209",
   "metadata": {},
   "outputs": [],
   "source": [
    "df = dft[['passenger_id',\n",
    " 'survived',\n",
    " 'pclass',\n",
    " 'sibsp',\n",
    " 'parch',\n",
    " 'fare',\n",
    " 'alone',\n",
    " 'sex_male',\n",
    " 'embark_town_Queenstown',\n",
    " 'embark_town_Southampton']]"
   ]
  },
  {
   "cell_type": "code",
   "execution_count": 7,
   "id": "3ebb1e07",
   "metadata": {},
   "outputs": [
    {
     "data": {
      "text/html": [
       "<div>\n",
       "<style scoped>\n",
       "    .dataframe tbody tr th:only-of-type {\n",
       "        vertical-align: middle;\n",
       "    }\n",
       "\n",
       "    .dataframe tbody tr th {\n",
       "        vertical-align: top;\n",
       "    }\n",
       "\n",
       "    .dataframe thead th {\n",
       "        text-align: right;\n",
       "    }\n",
       "</style>\n",
       "<table border=\"1\" class=\"dataframe\">\n",
       "  <thead>\n",
       "    <tr style=\"text-align: right;\">\n",
       "      <th></th>\n",
       "      <th>passenger_id</th>\n",
       "      <th>survived</th>\n",
       "      <th>pclass</th>\n",
       "      <th>sibsp</th>\n",
       "      <th>parch</th>\n",
       "      <th>fare</th>\n",
       "      <th>alone</th>\n",
       "      <th>sex_male</th>\n",
       "      <th>embark_town_Queenstown</th>\n",
       "      <th>embark_town_Southampton</th>\n",
       "    </tr>\n",
       "  </thead>\n",
       "  <tbody>\n",
       "    <tr>\n",
       "      <th>0</th>\n",
       "      <td>0</td>\n",
       "      <td>0</td>\n",
       "      <td>3</td>\n",
       "      <td>1</td>\n",
       "      <td>0</td>\n",
       "      <td>7.2500</td>\n",
       "      <td>0</td>\n",
       "      <td>1</td>\n",
       "      <td>0</td>\n",
       "      <td>1</td>\n",
       "    </tr>\n",
       "    <tr>\n",
       "      <th>1</th>\n",
       "      <td>1</td>\n",
       "      <td>1</td>\n",
       "      <td>1</td>\n",
       "      <td>1</td>\n",
       "      <td>0</td>\n",
       "      <td>71.2833</td>\n",
       "      <td>0</td>\n",
       "      <td>0</td>\n",
       "      <td>0</td>\n",
       "      <td>0</td>\n",
       "    </tr>\n",
       "    <tr>\n",
       "      <th>2</th>\n",
       "      <td>2</td>\n",
       "      <td>1</td>\n",
       "      <td>3</td>\n",
       "      <td>0</td>\n",
       "      <td>0</td>\n",
       "      <td>7.9250</td>\n",
       "      <td>1</td>\n",
       "      <td>0</td>\n",
       "      <td>0</td>\n",
       "      <td>1</td>\n",
       "    </tr>\n",
       "    <tr>\n",
       "      <th>3</th>\n",
       "      <td>3</td>\n",
       "      <td>1</td>\n",
       "      <td>1</td>\n",
       "      <td>1</td>\n",
       "      <td>0</td>\n",
       "      <td>53.1000</td>\n",
       "      <td>0</td>\n",
       "      <td>0</td>\n",
       "      <td>0</td>\n",
       "      <td>1</td>\n",
       "    </tr>\n",
       "    <tr>\n",
       "      <th>4</th>\n",
       "      <td>4</td>\n",
       "      <td>0</td>\n",
       "      <td>3</td>\n",
       "      <td>0</td>\n",
       "      <td>0</td>\n",
       "      <td>8.0500</td>\n",
       "      <td>1</td>\n",
       "      <td>1</td>\n",
       "      <td>0</td>\n",
       "      <td>1</td>\n",
       "    </tr>\n",
       "  </tbody>\n",
       "</table>\n",
       "</div>"
      ],
      "text/plain": [
       "   passenger_id  survived  pclass  sibsp  parch     fare  alone  sex_male  \\\n",
       "0             0         0       3      1      0   7.2500      0         1   \n",
       "1             1         1       1      1      0  71.2833      0         0   \n",
       "2             2         1       3      0      0   7.9250      1         0   \n",
       "3             3         1       1      1      0  53.1000      0         0   \n",
       "4             4         0       3      0      0   8.0500      1         1   \n",
       "\n",
       "   embark_town_Queenstown  embark_town_Southampton  \n",
       "0                       0                        1  \n",
       "1                       0                        0  \n",
       "2                       0                        1  \n",
       "3                       0                        1  \n",
       "4                       0                        1  "
      ]
     },
     "execution_count": 7,
     "metadata": {},
     "output_type": "execute_result"
    }
   ],
   "source": [
    "df.head()"
   ]
  },
  {
   "cell_type": "markdown",
   "id": "79fd2e31",
   "metadata": {},
   "source": [
    "Now to split the data into train, validate, and test.\n",
    "\n",
    "Target variable identified as 'survived'"
   ]
  },
  {
   "cell_type": "code",
   "execution_count": 8,
   "id": "df7b7f89",
   "metadata": {},
   "outputs": [],
   "source": [
    "train, validate, test = prep.split_titanic(df)"
   ]
  },
  {
   "cell_type": "code",
   "execution_count": 9,
   "id": "ea01775f",
   "metadata": {},
   "outputs": [
    {
     "data": {
      "text/plain": [
       "((534, 10), (178, 10), (179, 10))"
      ]
     },
     "execution_count": 9,
     "metadata": {},
     "output_type": "execute_result"
    }
   ],
   "source": [
    "#confimed sample sizes are 60/20/20\n",
    "train.shape, validate.shape, test.shape"
   ]
  },
  {
   "cell_type": "code",
   "execution_count": 10,
   "id": "838a5722",
   "metadata": {},
   "outputs": [
    {
     "data": {
      "text/html": [
       "<div>\n",
       "<style scoped>\n",
       "    .dataframe tbody tr th:only-of-type {\n",
       "        vertical-align: middle;\n",
       "    }\n",
       "\n",
       "    .dataframe tbody tr th {\n",
       "        vertical-align: top;\n",
       "    }\n",
       "\n",
       "    .dataframe thead th {\n",
       "        text-align: right;\n",
       "    }\n",
       "</style>\n",
       "<table border=\"1\" class=\"dataframe\">\n",
       "  <thead>\n",
       "    <tr style=\"text-align: right;\">\n",
       "      <th></th>\n",
       "      <th>passenger_id</th>\n",
       "      <th>survived</th>\n",
       "      <th>pclass</th>\n",
       "      <th>sibsp</th>\n",
       "      <th>parch</th>\n",
       "      <th>fare</th>\n",
       "      <th>alone</th>\n",
       "      <th>sex_male</th>\n",
       "      <th>embark_town_Queenstown</th>\n",
       "      <th>embark_town_Southampton</th>\n",
       "    </tr>\n",
       "  </thead>\n",
       "  <tbody>\n",
       "    <tr>\n",
       "      <th>455</th>\n",
       "      <td>455</td>\n",
       "      <td>1</td>\n",
       "      <td>3</td>\n",
       "      <td>0</td>\n",
       "      <td>0</td>\n",
       "      <td>7.8958</td>\n",
       "      <td>1</td>\n",
       "      <td>1</td>\n",
       "      <td>0</td>\n",
       "      <td>0</td>\n",
       "    </tr>\n",
       "    <tr>\n",
       "      <th>380</th>\n",
       "      <td>380</td>\n",
       "      <td>1</td>\n",
       "      <td>1</td>\n",
       "      <td>0</td>\n",
       "      <td>0</td>\n",
       "      <td>227.5250</td>\n",
       "      <td>1</td>\n",
       "      <td>0</td>\n",
       "      <td>0</td>\n",
       "      <td>0</td>\n",
       "    </tr>\n",
       "    <tr>\n",
       "      <th>492</th>\n",
       "      <td>492</td>\n",
       "      <td>0</td>\n",
       "      <td>1</td>\n",
       "      <td>0</td>\n",
       "      <td>0</td>\n",
       "      <td>30.5000</td>\n",
       "      <td>1</td>\n",
       "      <td>1</td>\n",
       "      <td>0</td>\n",
       "      <td>1</td>\n",
       "    </tr>\n",
       "    <tr>\n",
       "      <th>55</th>\n",
       "      <td>55</td>\n",
       "      <td>1</td>\n",
       "      <td>1</td>\n",
       "      <td>0</td>\n",
       "      <td>0</td>\n",
       "      <td>35.5000</td>\n",
       "      <td>1</td>\n",
       "      <td>1</td>\n",
       "      <td>0</td>\n",
       "      <td>1</td>\n",
       "    </tr>\n",
       "    <tr>\n",
       "      <th>243</th>\n",
       "      <td>243</td>\n",
       "      <td>0</td>\n",
       "      <td>3</td>\n",
       "      <td>0</td>\n",
       "      <td>0</td>\n",
       "      <td>7.1250</td>\n",
       "      <td>1</td>\n",
       "      <td>1</td>\n",
       "      <td>0</td>\n",
       "      <td>1</td>\n",
       "    </tr>\n",
       "  </tbody>\n",
       "</table>\n",
       "</div>"
      ],
      "text/plain": [
       "     passenger_id  survived  pclass  sibsp  parch      fare  alone  sex_male  \\\n",
       "455           455         1       3      0      0    7.8958      1         1   \n",
       "380           380         1       1      0      0  227.5250      1         0   \n",
       "492           492         0       1      0      0   30.5000      1         1   \n",
       "55             55         1       1      0      0   35.5000      1         1   \n",
       "243           243         0       3      0      0    7.1250      1         1   \n",
       "\n",
       "     embark_town_Queenstown  embark_town_Southampton  \n",
       "455                       0                        0  \n",
       "380                       0                        0  \n",
       "492                       0                        1  \n",
       "55                        0                        1  \n",
       "243                       0                        1  "
      ]
     },
     "execution_count": 10,
     "metadata": {},
     "output_type": "execute_result"
    }
   ],
   "source": [
    "# ONLY LOOKING AT TRAIN\n",
    "train.head()"
   ]
  },
  {
   "cell_type": "markdown",
   "id": "34610de4",
   "metadata": {},
   "source": [
    ">> ### Explore"
   ]
  },
  {
   "cell_type": "markdown",
   "id": "b4b0632e-96c0-44cf-b5e8-ec3ec71995e2",
   "metadata": {},
   "source": [
    "1. What is your baseline prediction? What is your baseline accuracy? remember: your baseline prediction for a classification problem is predicting the most prevelant class in the training dataset (the mode). When you make those predictions, what is your accuracy? This is your baseline accuracy.\n",
    "\n"
   ]
  },
  {
   "cell_type": "code",
   "execution_count": 11,
   "id": "70d1a6ce-92ca-4709-9926-27a80deca29d",
   "metadata": {},
   "outputs": [],
   "source": [
    "train.survived.value_counts()\n",
    "# did not survive has higher counts = baseline prediction\n",
    "train['baseline'] = 0"
   ]
  },
  {
   "cell_type": "code",
   "execution_count": 12,
   "id": "6302f2dc",
   "metadata": {},
   "outputs": [
    {
     "data": {
      "text/html": [
       "<div>\n",
       "<style scoped>\n",
       "    .dataframe tbody tr th:only-of-type {\n",
       "        vertical-align: middle;\n",
       "    }\n",
       "\n",
       "    .dataframe tbody tr th {\n",
       "        vertical-align: top;\n",
       "    }\n",
       "\n",
       "    .dataframe thead th {\n",
       "        text-align: right;\n",
       "    }\n",
       "</style>\n",
       "<table border=\"1\" class=\"dataframe\">\n",
       "  <thead>\n",
       "    <tr style=\"text-align: right;\">\n",
       "      <th></th>\n",
       "      <th>passenger_id</th>\n",
       "      <th>survived</th>\n",
       "      <th>pclass</th>\n",
       "      <th>sibsp</th>\n",
       "      <th>parch</th>\n",
       "      <th>fare</th>\n",
       "      <th>alone</th>\n",
       "      <th>sex_male</th>\n",
       "      <th>embark_town_Queenstown</th>\n",
       "      <th>embark_town_Southampton</th>\n",
       "      <th>baseline</th>\n",
       "    </tr>\n",
       "  </thead>\n",
       "  <tbody>\n",
       "    <tr>\n",
       "      <th>455</th>\n",
       "      <td>455</td>\n",
       "      <td>1</td>\n",
       "      <td>3</td>\n",
       "      <td>0</td>\n",
       "      <td>0</td>\n",
       "      <td>7.8958</td>\n",
       "      <td>1</td>\n",
       "      <td>1</td>\n",
       "      <td>0</td>\n",
       "      <td>0</td>\n",
       "      <td>0</td>\n",
       "    </tr>\n",
       "    <tr>\n",
       "      <th>380</th>\n",
       "      <td>380</td>\n",
       "      <td>1</td>\n",
       "      <td>1</td>\n",
       "      <td>0</td>\n",
       "      <td>0</td>\n",
       "      <td>227.5250</td>\n",
       "      <td>1</td>\n",
       "      <td>0</td>\n",
       "      <td>0</td>\n",
       "      <td>0</td>\n",
       "      <td>0</td>\n",
       "    </tr>\n",
       "    <tr>\n",
       "      <th>492</th>\n",
       "      <td>492</td>\n",
       "      <td>0</td>\n",
       "      <td>1</td>\n",
       "      <td>0</td>\n",
       "      <td>0</td>\n",
       "      <td>30.5000</td>\n",
       "      <td>1</td>\n",
       "      <td>1</td>\n",
       "      <td>0</td>\n",
       "      <td>1</td>\n",
       "      <td>0</td>\n",
       "    </tr>\n",
       "    <tr>\n",
       "      <th>55</th>\n",
       "      <td>55</td>\n",
       "      <td>1</td>\n",
       "      <td>1</td>\n",
       "      <td>0</td>\n",
       "      <td>0</td>\n",
       "      <td>35.5000</td>\n",
       "      <td>1</td>\n",
       "      <td>1</td>\n",
       "      <td>0</td>\n",
       "      <td>1</td>\n",
       "      <td>0</td>\n",
       "    </tr>\n",
       "    <tr>\n",
       "      <th>243</th>\n",
       "      <td>243</td>\n",
       "      <td>0</td>\n",
       "      <td>3</td>\n",
       "      <td>0</td>\n",
       "      <td>0</td>\n",
       "      <td>7.1250</td>\n",
       "      <td>1</td>\n",
       "      <td>1</td>\n",
       "      <td>0</td>\n",
       "      <td>1</td>\n",
       "      <td>0</td>\n",
       "    </tr>\n",
       "  </tbody>\n",
       "</table>\n",
       "</div>"
      ],
      "text/plain": [
       "     passenger_id  survived  pclass  sibsp  parch      fare  alone  sex_male  \\\n",
       "455           455         1       3      0      0    7.8958      1         1   \n",
       "380           380         1       1      0      0  227.5250      1         0   \n",
       "492           492         0       1      0      0   30.5000      1         1   \n",
       "55             55         1       1      0      0   35.5000      1         1   \n",
       "243           243         0       3      0      0    7.1250      1         1   \n",
       "\n",
       "     embark_town_Queenstown  embark_town_Southampton  baseline  \n",
       "455                       0                        0         0  \n",
       "380                       0                        0         0  \n",
       "492                       0                        1         0  \n",
       "55                        0                        1         0  \n",
       "243                       0                        1         0  "
      ]
     },
     "execution_count": 12,
     "metadata": {},
     "output_type": "execute_result"
    }
   ],
   "source": [
    "train.head() # checking to make sure baseline column was made"
   ]
  },
  {
   "cell_type": "code",
   "execution_count": 13,
   "id": "0d72f15f",
   "metadata": {},
   "outputs": [
    {
     "data": {
      "text/plain": [
       "0    329\n",
       "1    205\n",
       "Name: survived, dtype: int64"
      ]
     },
     "execution_count": 13,
     "metadata": {},
     "output_type": "execute_result"
    }
   ],
   "source": [
    "train.survived.value_counts()"
   ]
  },
  {
   "cell_type": "code",
   "execution_count": 14,
   "id": "c2cdf244",
   "metadata": {},
   "outputs": [
    {
     "data": {
      "text/plain": [
       "61.61"
      ]
     },
     "execution_count": 14,
     "metadata": {},
     "output_type": "execute_result"
    }
   ],
   "source": [
    "# establishing baseline accuracy\n",
    "baseline_accuracy = round((329/(205+329)*100),2)\n",
    "baseline_accuracy"
   ]
  },
  {
   "cell_type": "code",
   "execution_count": 15,
   "id": "fa74096d",
   "metadata": {},
   "outputs": [],
   "source": [
    "# drop columns not needed or not encoded\n",
    "train = train.drop(columns=['passenger_id', 'baseline'])"
   ]
  },
  {
   "cell_type": "code",
   "execution_count": 16,
   "id": "3cb802aa",
   "metadata": {},
   "outputs": [
    {
     "name": "stdout",
     "output_type": "stream",
     "text": [
      "survived\n",
      "pclass\n",
      "sibsp\n",
      "parch\n",
      "fare\n",
      "alone\n",
      "sex_male\n",
      "embark_town_Queenstown\n",
      "embark_town_Southampton\n"
     ]
    }
   ],
   "source": [
    "# I am trying to find the most significant categorical variables to send in\n",
    "\n",
    "col_cat = []  #this is for my categorical varibles\n",
    "col_num = [] #this is for my numeric varibles\n",
    "\n",
    "for col in train.columns:\n",
    "    print(col)#this is for my numeric variables\n",
    "    if len(train[col].unique()) < 3: # making anything with less than 3 unique variables a categorical\n",
    "        col_cat.append(col)\n",
    "    else:\n",
    "        col_num.append(col)"
   ]
  },
  {
   "cell_type": "code",
   "execution_count": 17,
   "id": "c2547ed1",
   "metadata": {},
   "outputs": [
    {
     "data": {
      "text/plain": [
       "['survived',\n",
       " 'alone',\n",
       " 'sex_male',\n",
       " 'embark_town_Queenstown',\n",
       " 'embark_town_Southampton']"
      ]
     },
     "execution_count": 17,
     "metadata": {},
     "output_type": "execute_result"
    }
   ],
   "source": [
    "col_cat"
   ]
  },
  {
   "cell_type": "code",
   "execution_count": 18,
   "id": "6f422053",
   "metadata": {},
   "outputs": [
    {
     "data": {
      "text/plain": [
       "['pclass', 'sibsp', 'parch', 'fare']"
      ]
     },
     "execution_count": 18,
     "metadata": {},
     "output_type": "execute_result"
    }
   ],
   "source": [
    "col_num"
   ]
  },
  {
   "cell_type": "markdown",
   "id": "82098044",
   "metadata": {},
   "source": [
    "## `Exploring Categoricals`"
   ]
  },
  {
   "cell_type": "code",
   "execution_count": 19,
   "id": "0d000712",
   "metadata": {
    "scrolled": true
   },
   "outputs": [
    {
     "name": "stdout",
     "output_type": "stream",
     "text": [
      "\n",
      "SURVIVED\n",
      "0    329\n",
      "1    205\n",
      "Name: survived, dtype: int64\n",
      "0    0.616105\n",
      "1    0.383895\n",
      "Name: survived, dtype: float64\n"
     ]
    },
    {
     "data": {
      "image/png": "[encoded data removed]",
      "text/plain": [
       "<Figure size 640x480 with 1 Axes>"
      ]
     },
     "metadata": {},
     "output_type": "display_data"
    },
    {
     "name": "stdout",
     "output_type": "stream",
     "text": [
      "\n",
      "\n",
      "HYPOTHESIZE\n",
      "H_0: survived does not affect survival\n",
      "H_a: survived affects survival\n",
      "\n",
      "VISUALIZE\n"
     ]
    },
    {
     "data": {
      "image/png": "[encoded data removed]",
      "text/plain": [
       "<Figure size 640x480 with 1 Axes>"
      ]
     },
     "metadata": {},
     "output_type": "display_data"
    },
    {
     "name": "stdout",
     "output_type": "stream",
     "text": [
      "\n",
      "ANALYZE and SUMMARIZE\n",
      "Observed\n",
      "[[329   0]\n",
      " [  0 205]]\n",
      "\n",
      "Expected\n",
      "[[202 126]\n",
      " [126  78]]\n",
      "\n",
      "----\n",
      "chi^2 = 529.7804\n",
      "p-value = 0.0000\n",
      "----\n",
      "We reject the null hypothesis.\n",
      "\n",
      "\n",
      "\n",
      "ALONE\n",
      "1    335\n",
      "0    199\n",
      "Name: alone, dtype: int64\n",
      "1    0.627341\n",
      "0    0.372659\n",
      "Name: alone, dtype: float64\n"
     ]
    },
    {
     "data": {
      "image/png": "[encoded data removed]",
      "text/plain": [
       "<Figure size 640x480 with 1 Axes>"
      ]
     },
     "metadata": {},
     "output_type": "display_data"
    },
    {
     "name": "stdout",
     "output_type": "stream",
     "text": [
      "\n",
      "\n",
      "HYPOTHESIZE\n",
      "H_0: alone does not affect survival\n",
      "H_a: alone affects survival\n",
      "\n",
      "VISUALIZE\n"
     ]
    },
    {
     "data": {
      "image/png": "[encoded data removed]",
      "text/plain": [
       "<Figure size 640x480 with 1 Axes>"
      ]
     },
     "metadata": {},
     "output_type": "display_data"
    },
    {
     "name": "stdout",
     "output_type": "stream",
     "text": [
      "\n",
      "ANALYZE and SUMMARIZE\n",
      "Observed\n",
      "[[ 97 102]\n",
      " [232 103]]\n",
      "\n",
      "Expected\n",
      "[[122  76]\n",
      " [206 128]]\n",
      "\n",
      "----\n",
      "chi^2 = 21.3448\n",
      "p-value = 0.0000\n",
      "----\n",
      "We reject the null hypothesis.\n",
      "\n",
      "\n",
      "\n",
      "SEX_MALE\n",
      "1    348\n",
      "0    186\n",
      "Name: sex_male, dtype: int64\n",
      "1    0.651685\n",
      "0    0.348315\n",
      "Name: sex_male, dtype: float64\n"
     ]
    },
    {
     "data": {
      "image/png": "[encoded data removed]",
      "text/plain": [
       "<Figure size 640x480 with 1 Axes>"
      ]
     },
     "metadata": {},
     "output_type": "display_data"
    },
    {
     "name": "stdout",
     "output_type": "stream",
     "text": [
      "\n",
      "\n",
      "HYPOTHESIZE\n",
      "H_0: sex male does not affect survival\n",
      "H_a: sex male affects survival\n",
      "\n",
      "VISUALIZE\n"
     ]
    },
    {
     "data": {
      "image/png": "[encoded data removed]",
      "text/plain": [
       "<Figure size 640x480 with 1 Axes>"
      ]
     },
     "metadata": {},
     "output_type": "display_data"
    },
    {
     "name": "stdout",
     "output_type": "stream",
     "text": [
      "\n",
      "ANALYZE and SUMMARIZE\n",
      "Observed\n",
      "[[ 46 140]\n",
      " [283  65]]\n",
      "\n",
      "Expected\n",
      "[[114  71]\n",
      " [214 133]]\n",
      "\n",
      "----\n",
      "chi^2 = 161.7405\n",
      "p-value = 0.0000\n",
      "----\n",
      "We reject the null hypothesis.\n",
      "\n",
      "\n",
      "\n",
      "EMBARK_TOWN_QUEENSTOWN\n",
      "0    488\n",
      "1     46\n",
      "Name: embark_town_Queenstown, dtype: int64\n",
      "0    0.913858\n",
      "1    0.086142\n",
      "Name: embark_town_Queenstown, dtype: float64\n"
     ]
    },
    {
     "data": {
      "image/png": "[encoded data removed]",
      "text/plain": [
       "<Figure size 640x480 with 1 Axes>"
      ]
     },
     "metadata": {},
     "output_type": "display_data"
    },
    {
     "name": "stdout",
     "output_type": "stream",
     "text": [
      "\n",
      "\n",
      "HYPOTHESIZE\n",
      "H_0: embark town queenstown does not affect survival\n",
      "H_a: embark town queenstown affects survival\n",
      "\n",
      "VISUALIZE\n"
     ]
    },
    {
     "data": {
      "image/png": "[encoded data removed]",
      "text/plain": [
       "<Figure size 640x480 with 1 Axes>"
      ]
     },
     "metadata": {},
     "output_type": "display_data"
    },
    {
     "name": "stdout",
     "output_type": "stream",
     "text": [
      "\n",
      "ANALYZE and SUMMARIZE\n",
      "Observed\n",
      "[[304 184]\n",
      " [ 25  21]]\n",
      "\n",
      "Expected\n",
      "[[300 187]\n",
      " [ 28  17]]\n",
      "\n",
      "----\n",
      "chi^2 = 0.8117\n",
      "p-value = 0.3676\n",
      "----\n",
      "We fail to reject the null hypothesis.\n",
      "\n",
      "\n",
      "\n",
      "EMBARK_TOWN_SOUTHAMPTON\n",
      "1    381\n",
      "0    153\n",
      "Name: embark_town_Southampton, dtype: int64\n",
      "1    0.713483\n",
      "0    0.286517\n",
      "Name: embark_town_Southampton, dtype: float64\n"
     ]
    },
    {
     "data": {
      "image/png": "[encoded data removed]",
      "text/plain": [
       "<Figure size 640x480 with 1 Axes>"
      ]
     },
     "metadata": {},
     "output_type": "display_data"
    },
    {
     "name": "stdout",
     "output_type": "stream",
     "text": [
      "\n",
      "\n",
      "HYPOTHESIZE\n",
      "H_0: embark town southampton does not affect survival\n",
      "H_a: embark town southampton affects survival\n",
      "\n",
      "VISUALIZE\n"
     ]
    },
    {
     "data": {
      "image/png": "[encoded data removed]",
      "text/plain": [
       "<Figure size 640x480 with 1 Axes>"
      ]
     },
     "metadata": {},
     "output_type": "display_data"
    },
    {
     "name": "stdout",
     "output_type": "stream",
     "text": [
      "\n",
      "ANALYZE and SUMMARIZE\n",
      "Observed\n",
      "[[ 75  78]\n",
      " [254 127]]\n",
      "\n",
      "Expected\n",
      "[[ 94  58]\n",
      " [234 146]]\n",
      "\n",
      "----\n",
      "chi^2 = 13.6367\n",
      "p-value = 0.0002\n",
      "----\n",
      "We reject the null hypothesis.\n",
      "\n",
      "\n"
     ]
    }
   ],
   "source": [
    "for col in col_cat:\n",
    "    print()\n",
    "    print(col.upper())\n",
    "    print(train[col].value_counts())\n",
    "    print(train[col].value_counts(normalize=True))\n",
    "    train[col].value_counts().plot.bar()\n",
    "    plt.show()\n",
    "    print()\n",
    "    print()\n",
    "    print(f'HYPOTHESIZE')\n",
    "    print(f\"H_0: {col.lower().replace('_',' ')} does not affect survival\")\n",
    "    print(f\"H_a: {col.lower().replace('_',' ')} affects survival\")\n",
    "    print()\n",
    "    print(f'VISUALIZE')\n",
    "    sns.barplot(x=train[col], y=train['survived'])\n",
    "    plt.title(f\"{col.lower().replace('_',' ')} vs survived\")\n",
    "    plt.show()\n",
    "    print()\n",
    "    print('ANALYZE and SUMMARIZE')\n",
    "    observed = pd.crosstab(train[col], train.survived)\n",
    "    acq.chi2_test(observed)\n",
    "    print()\n",
    "    print()"
   ]
  },
  {
   "cell_type": "markdown",
   "id": "3eb75a6b",
   "metadata": {},
   "source": [
    "## `Exploring Numericals`"
   ]
  },
  {
   "cell_type": "code",
   "execution_count": 20,
   "id": "5bbf7260",
   "metadata": {
    "scrolled": true
   },
   "outputs": [
    {
     "data": {
      "image/png": "[encoded data removed]",
      "text/plain": [
       "<Figure size 640x480 with 1 Axes>"
      ]
     },
     "metadata": {},
     "output_type": "display_data"
    },
    {
     "name": "stdout",
     "output_type": "stream",
     "text": [
      "\n"
     ]
    },
    {
     "data": {
      "image/png": "[encoded data removed]",
      "text/plain": [
       "<Figure size 640x480 with 1 Axes>"
      ]
     },
     "metadata": {},
     "output_type": "display_data"
    },
    {
     "name": "stdout",
     "output_type": "stream",
     "text": [
      "\n"
     ]
    },
    {
     "data": {
      "image/png": "[encoded data removed]",
      "text/plain": [
       "<Figure size 640x480 with 1 Axes>"
      ]
     },
     "metadata": {},
     "output_type": "display_data"
    },
    {
     "name": "stdout",
     "output_type": "stream",
     "text": [
      "\n"
     ]
    },
    {
     "data": {
      "image/png": "[encoded data removed]",
      "text/plain": [
       "<Figure size 640x480 with 1 Axes>"
      ]
     },
     "metadata": {},
     "output_type": "display_data"
    },
    {
     "name": "stdout",
     "output_type": "stream",
     "text": [
      "\n"
     ]
    }
   ],
   "source": [
    "for col in col_num:\n",
    "    sns.barplot(data=train, x='survived', y=col)\n",
    "    plt.title(f\"Is survived independent of {col.lower().replace('_',' ')}?\")\n",
    "    pop_mn = train[col].mean()\n",
    "    plt.axhline(pop_mn, label=(f\"{col.lower().replace('_',' ')} mean\"))\n",
    "    plt.legend()\n",
    "    plt.show()\n",
    "    print()"
   ]
  },
  {
   "cell_type": "markdown",
   "id": "d4d20406",
   "metadata": {},
   "source": [
    "## `Takeaways`"
   ]
  },
  {
   "cell_type": "markdown",
   "id": "0d3179ca",
   "metadata": {},
   "source": [
    "Categorical Takeaways: \n",
    "\n",
    "* significant:\n",
    "    * gender, alone\n",
    "\n",
    "* not significant:\n",
    "    * embark_town (more people survived who got on at Queenstown than at Southampton)\n",
    "\n",
    "Numerical Takeaways:\n",
    "\n",
    "* significant:\n",
    "    * pclass, parch, fare\n",
    "\n",
    "* not significant:\n",
    "    * passenger id, sibsp"
   ]
  },
  {
   "cell_type": "markdown",
   "id": "21ace5ed",
   "metadata": {},
   "source": [
    "## `Selecting ALL Features`"
   ]
  },
  {
   "cell_type": "code",
   "execution_count": 21,
   "id": "86676037",
   "metadata": {},
   "outputs": [
    {
     "data": {
      "text/html": [
       "<div>\n",
       "<style scoped>\n",
       "    .dataframe tbody tr th:only-of-type {\n",
       "        vertical-align: middle;\n",
       "    }\n",
       "\n",
       "    .dataframe tbody tr th {\n",
       "        vertical-align: top;\n",
       "    }\n",
       "\n",
       "    .dataframe thead th {\n",
       "        text-align: right;\n",
       "    }\n",
       "</style>\n",
       "<table border=\"1\" class=\"dataframe\">\n",
       "  <thead>\n",
       "    <tr style=\"text-align: right;\">\n",
       "      <th></th>\n",
       "      <th>survived</th>\n",
       "      <th>pclass</th>\n",
       "      <th>sibsp</th>\n",
       "      <th>parch</th>\n",
       "      <th>fare</th>\n",
       "      <th>alone</th>\n",
       "      <th>sex_male</th>\n",
       "      <th>embark_town_Queenstown</th>\n",
       "      <th>embark_town_Southampton</th>\n",
       "    </tr>\n",
       "  </thead>\n",
       "  <tbody>\n",
       "    <tr>\n",
       "      <th>455</th>\n",
       "      <td>1</td>\n",
       "      <td>3</td>\n",
       "      <td>0</td>\n",
       "      <td>0</td>\n",
       "      <td>7.8958</td>\n",
       "      <td>1</td>\n",
       "      <td>1</td>\n",
       "      <td>0</td>\n",
       "      <td>0</td>\n",
       "    </tr>\n",
       "    <tr>\n",
       "      <th>380</th>\n",
       "      <td>1</td>\n",
       "      <td>1</td>\n",
       "      <td>0</td>\n",
       "      <td>0</td>\n",
       "      <td>227.5250</td>\n",
       "      <td>1</td>\n",
       "      <td>0</td>\n",
       "      <td>0</td>\n",
       "      <td>0</td>\n",
       "    </tr>\n",
       "    <tr>\n",
       "      <th>492</th>\n",
       "      <td>0</td>\n",
       "      <td>1</td>\n",
       "      <td>0</td>\n",
       "      <td>0</td>\n",
       "      <td>30.5000</td>\n",
       "      <td>1</td>\n",
       "      <td>1</td>\n",
       "      <td>0</td>\n",
       "      <td>1</td>\n",
       "    </tr>\n",
       "    <tr>\n",
       "      <th>55</th>\n",
       "      <td>1</td>\n",
       "      <td>1</td>\n",
       "      <td>0</td>\n",
       "      <td>0</td>\n",
       "      <td>35.5000</td>\n",
       "      <td>1</td>\n",
       "      <td>1</td>\n",
       "      <td>0</td>\n",
       "      <td>1</td>\n",
       "    </tr>\n",
       "    <tr>\n",
       "      <th>243</th>\n",
       "      <td>0</td>\n",
       "      <td>3</td>\n",
       "      <td>0</td>\n",
       "      <td>0</td>\n",
       "      <td>7.1250</td>\n",
       "      <td>1</td>\n",
       "      <td>1</td>\n",
       "      <td>0</td>\n",
       "      <td>1</td>\n",
       "    </tr>\n",
       "  </tbody>\n",
       "</table>\n",
       "</div>"
      ],
      "text/plain": [
       "     survived  pclass  sibsp  parch      fare  alone  sex_male  \\\n",
       "455         1       3      0      0    7.8958      1         1   \n",
       "380         1       1      0      0  227.5250      1         0   \n",
       "492         0       1      0      0   30.5000      1         1   \n",
       "55          1       1      0      0   35.5000      1         1   \n",
       "243         0       3      0      0    7.1250      1         1   \n",
       "\n",
       "     embark_town_Queenstown  embark_town_Southampton  \n",
       "455                       0                        0  \n",
       "380                       0                        0  \n",
       "492                       0                        1  \n",
       "55                        0                        1  \n",
       "243                       0                        1  "
      ]
     },
     "execution_count": 21,
     "metadata": {},
     "output_type": "execute_result"
    }
   ],
   "source": [
    "train.head()"
   ]
  },
  {
   "cell_type": "code",
   "execution_count": 22,
   "id": "02c8c591",
   "metadata": {},
   "outputs": [
    {
     "data": {
      "text/html": [
       "<div>\n",
       "<style scoped>\n",
       "    .dataframe tbody tr th:only-of-type {\n",
       "        vertical-align: middle;\n",
       "    }\n",
       "\n",
       "    .dataframe tbody tr th {\n",
       "        vertical-align: top;\n",
       "    }\n",
       "\n",
       "    .dataframe thead th {\n",
       "        text-align: right;\n",
       "    }\n",
       "</style>\n",
       "<table border=\"1\" class=\"dataframe\">\n",
       "  <thead>\n",
       "    <tr style=\"text-align: right;\">\n",
       "      <th></th>\n",
       "      <th>pclass</th>\n",
       "      <th>sibsp</th>\n",
       "      <th>parch</th>\n",
       "      <th>fare</th>\n",
       "      <th>alone</th>\n",
       "      <th>sex_male</th>\n",
       "      <th>embark_town_Queenstown</th>\n",
       "      <th>embark_town_Southampton</th>\n",
       "    </tr>\n",
       "  </thead>\n",
       "  <tbody>\n",
       "    <tr>\n",
       "      <th>455</th>\n",
       "      <td>3</td>\n",
       "      <td>0</td>\n",
       "      <td>0</td>\n",
       "      <td>7.8958</td>\n",
       "      <td>1</td>\n",
       "      <td>1</td>\n",
       "      <td>0</td>\n",
       "      <td>0</td>\n",
       "    </tr>\n",
       "    <tr>\n",
       "      <th>380</th>\n",
       "      <td>1</td>\n",
       "      <td>0</td>\n",
       "      <td>0</td>\n",
       "      <td>227.5250</td>\n",
       "      <td>1</td>\n",
       "      <td>0</td>\n",
       "      <td>0</td>\n",
       "      <td>0</td>\n",
       "    </tr>\n",
       "    <tr>\n",
       "      <th>492</th>\n",
       "      <td>1</td>\n",
       "      <td>0</td>\n",
       "      <td>0</td>\n",
       "      <td>30.5000</td>\n",
       "      <td>1</td>\n",
       "      <td>1</td>\n",
       "      <td>0</td>\n",
       "      <td>1</td>\n",
       "    </tr>\n",
       "    <tr>\n",
       "      <th>55</th>\n",
       "      <td>1</td>\n",
       "      <td>0</td>\n",
       "      <td>0</td>\n",
       "      <td>35.5000</td>\n",
       "      <td>1</td>\n",
       "      <td>1</td>\n",
       "      <td>0</td>\n",
       "      <td>1</td>\n",
       "    </tr>\n",
       "    <tr>\n",
       "      <th>243</th>\n",
       "      <td>3</td>\n",
       "      <td>0</td>\n",
       "      <td>0</td>\n",
       "      <td>7.1250</td>\n",
       "      <td>1</td>\n",
       "      <td>1</td>\n",
       "      <td>0</td>\n",
       "      <td>1</td>\n",
       "    </tr>\n",
       "  </tbody>\n",
       "</table>\n",
       "</div>"
      ],
      "text/plain": [
       "     pclass  sibsp  parch      fare  alone  sex_male  embark_town_Queenstown  \\\n",
       "455       3      0      0    7.8958      1         1                       0   \n",
       "380       1      0      0  227.5250      1         0                       0   \n",
       "492       1      0      0   30.5000      1         1                       0   \n",
       "55        1      0      0   35.5000      1         1                       0   \n",
       "243       3      0      0    7.1250      1         1                       0   \n",
       "\n",
       "     embark_town_Southampton  \n",
       "455                        0  \n",
       "380                        0  \n",
       "492                        1  \n",
       "55                         1  \n",
       "243                        1  "
      ]
     },
     "execution_count": 22,
     "metadata": {},
     "output_type": "execute_result"
    }
   ],
   "source": [
    "# setting features\n",
    "X_train = train[['pclass',\n",
    "                 'sibsp',\n",
    "                 'parch',\n",
    "                 'fare',\n",
    "                 'alone',\n",
    "                 'sex_male',\n",
    "                 'embark_town_Queenstown',\n",
    "                 'embark_town_Southampton'\n",
    "]]\n",
    "X_train.head()"
   ]
  },
  {
   "cell_type": "code",
   "execution_count": 23,
   "id": "65fef540",
   "metadata": {},
   "outputs": [],
   "source": [
    "# setting validate and test features\n",
    "X_validate = validate[['pclass',\n",
    "                   'sibsp',\n",
    "                   'parch',\n",
    "                   'fare',\n",
    "                   'alone',\n",
    "                   'sex_male',\n",
    "                   'embark_town_Queenstown',\n",
    "                   'embark_town_Southampton'\n",
    "]]\n",
    "X_test = test[['pclass',\n",
    "                   'sibsp',\n",
    "                   'parch',\n",
    "                   'fare',\n",
    "                   'alone',\n",
    "                   'sex_male',\n",
    "                   'embark_town_Queenstown',\n",
    "                   'embark_town_Southampton'\n",
    "]]"
   ]
  },
  {
   "cell_type": "code",
   "execution_count": 24,
   "id": "e64d634b",
   "metadata": {},
   "outputs": [],
   "source": [
    "# setting target variable\n",
    "target = 'survived'"
   ]
  },
  {
   "cell_type": "code",
   "execution_count": 25,
   "id": "65bb7a1b",
   "metadata": {},
   "outputs": [
    {
     "data": {
      "text/plain": [
       "455    1\n",
       "380    1\n",
       "492    0\n",
       "55     1\n",
       "243    0\n",
       "Name: survived, dtype: int64"
      ]
     },
     "execution_count": 25,
     "metadata": {},
     "output_type": "execute_result"
    }
   ],
   "source": [
    "# create variable and verify that it is a series and one column\n",
    "y_train = train[target]\n",
    "y_train.head()"
   ]
  },
  {
   "cell_type": "code",
   "execution_count": 26,
   "id": "57ed3f9e",
   "metadata": {},
   "outputs": [],
   "source": [
    "# create for validate and test\n",
    "y_validate = validate[target]\n",
    "y_test = test[target]"
   ]
  },
  {
   "cell_type": "markdown",
   "id": "eddd3246",
   "metadata": {},
   "source": [
    "## `Make the Object`"
   ]
  },
  {
   "cell_type": "markdown",
   "id": "9657467b-cf0a-40d7-bd72-6eff13be34ee",
   "metadata": {},
   "source": [
    "2. Fit the decision tree classifier to your training sample and transform (i.e. make predictions on the training sample)"
   ]
  },
  {
   "cell_type": "code",
   "execution_count": 27,
   "id": "e9296195",
   "metadata": {},
   "outputs": [
    {
     "data": {
      "text/plain": [
       "DecisionTreeClassifier()"
      ]
     },
     "execution_count": 27,
     "metadata": {},
     "output_type": "execute_result"
    }
   ],
   "source": [
    "clf = DecisionTreeClassifier()\n",
    "clf"
   ]
  },
  {
   "cell_type": "code",
   "execution_count": 28,
   "id": "cba9908e-e6df-425d-a2e8-690e72013379",
   "metadata": {
    "scrolled": true
   },
   "outputs": [
    {
     "data": {
      "text/plain": [
       "DecisionTreeClassifier()"
      ]
     },
     "execution_count": 28,
     "metadata": {},
     "output_type": "execute_result"
    }
   ],
   "source": [
    "# fitting training data to model\n",
    "clf.fit(X_train, y_train)"
   ]
  },
  {
   "cell_type": "code",
   "execution_count": 29,
   "id": "d8eeb630",
   "metadata": {},
   "outputs": [
    {
     "data": {
      "text/plain": [
       "0.9456928838951311"
      ]
     },
     "execution_count": 29,
     "metadata": {},
     "output_type": "execute_result"
    }
   ],
   "source": [
    "# transforming the model\n",
    "clf.score(X_train, y_train)"
   ]
  },
  {
   "cell_type": "markdown",
   "id": "40992a57",
   "metadata": {},
   "source": [
    "## `Takeaways`\n",
    "\n",
    "* FISHY..."
   ]
  },
  {
   "cell_type": "markdown",
   "id": "beb523ac-02f2-4635-8710-62995056caaa",
   "metadata": {},
   "source": [
    "3. Compute: Accuracy, true positive rate, false positive rate, true negative rate, false negative rate, precision, recall, f1-score, and support."
   ]
  },
  {
   "cell_type": "code",
   "execution_count": 30,
   "id": "03ca1d81",
   "metadata": {},
   "outputs": [],
   "source": [
    "# run classification report and confusion matrix!"
   ]
  },
  {
   "cell_type": "code",
   "execution_count": 31,
   "id": "324f3e21",
   "metadata": {},
   "outputs": [
    {
     "data": {
      "text/plain": [
       "[0, 1]"
      ]
     },
     "execution_count": 31,
     "metadata": {},
     "output_type": "execute_result"
    }
   ],
   "source": [
    "#find labels in our dataset & sort\n",
    "labels = sorted(y_train.unique())\n",
    "labels"
   ]
  },
  {
   "cell_type": "code",
   "execution_count": 32,
   "id": "55ff6128",
   "metadata": {},
   "outputs": [
    {
     "data": {
      "text/plain": [
       "array([0, 1, 0, 1, 0])"
      ]
     },
     "execution_count": 32,
     "metadata": {},
     "output_type": "execute_result"
    }
   ],
   "source": [
    "# get y_pred values\n",
    "clf.predict(X_train)[:5]"
   ]
  },
  {
   "cell_type": "code",
   "execution_count": 33,
   "id": "70c28b10",
   "metadata": {},
   "outputs": [
    {
     "data": {
      "text/plain": [
       "array([0, 1, 0, 1, 0])"
      ]
     },
     "execution_count": 33,
     "metadata": {},
     "output_type": "execute_result"
    }
   ],
   "source": [
    "# create y_pred variable\n",
    "y_pred = clf.predict(X_train)\n",
    "y_pred[:5]"
   ]
  },
  {
   "cell_type": "code",
   "execution_count": 34,
   "id": "c72629bc",
   "metadata": {},
   "outputs": [
    {
     "data": {
      "text/plain": [
       "array([[327,   2],\n",
       "       [ 27, 178]])"
      ]
     },
     "execution_count": 34,
     "metadata": {},
     "output_type": "execute_result"
    }
   ],
   "source": [
    "confusion_matrix(y_train, y_pred)"
   ]
  },
  {
   "cell_type": "code",
   "execution_count": 35,
   "id": "267d36ba-6629-4198-bba1-5d8e0aa1a269",
   "metadata": {},
   "outputs": [
    {
     "data": {
      "text/html": [
       "<div>\n",
       "<style scoped>\n",
       "    .dataframe tbody tr th:only-of-type {\n",
       "        vertical-align: middle;\n",
       "    }\n",
       "\n",
       "    .dataframe tbody tr th {\n",
       "        vertical-align: top;\n",
       "    }\n",
       "\n",
       "    .dataframe thead th {\n",
       "        text-align: right;\n",
       "    }\n",
       "</style>\n",
       "<table border=\"1\" class=\"dataframe\">\n",
       "  <thead>\n",
       "    <tr style=\"text-align: right;\">\n",
       "      <th></th>\n",
       "      <th>0</th>\n",
       "      <th>1</th>\n",
       "    </tr>\n",
       "  </thead>\n",
       "  <tbody>\n",
       "    <tr>\n",
       "      <th>0</th>\n",
       "      <td>327</td>\n",
       "      <td>2</td>\n",
       "    </tr>\n",
       "    <tr>\n",
       "      <th>1</th>\n",
       "      <td>27</td>\n",
       "      <td>178</td>\n",
       "    </tr>\n",
       "  </tbody>\n",
       "</table>\n",
       "</div>"
      ],
      "text/plain": [
       "     0    1\n",
       "0  327    2\n",
       "1   27  178"
      ]
     },
     "execution_count": 35,
     "metadata": {},
     "output_type": "execute_result"
    }
   ],
   "source": [
    "#make pretty with df\n",
    "pd.DataFrame(confusion_matrix(y_train, y_pred),\n",
    "            index=labels,\n",
    "            columns=labels)"
   ]
  },
  {
   "cell_type": "code",
   "execution_count": 36,
   "id": "bdba95c3",
   "metadata": {
    "scrolled": true
   },
   "outputs": [
    {
     "name": "stdout",
     "output_type": "stream",
     "text": [
      "              precision    recall  f1-score   support\n",
      "\n",
      "           0       0.92      0.99      0.96       329\n",
      "           1       0.99      0.87      0.92       205\n",
      "\n",
      "    accuracy                           0.95       534\n",
      "   macro avg       0.96      0.93      0.94       534\n",
      "weighted avg       0.95      0.95      0.94       534\n",
      "\n"
     ]
    }
   ],
   "source": [
    "# classification report\n",
    "print(classification_report(y_train, y_pred))"
   ]
  },
  {
   "cell_type": "markdown",
   "id": "14ca6d2a",
   "metadata": {},
   "source": [
    ">>> ## Terrible model..."
   ]
  },
  {
   "cell_type": "markdown",
   "id": "3955503e-ef4a-40be-9297-b054e0aaa439",
   "metadata": {},
   "source": [
    "4. Run through steps 2-4 using a different max_depth value."
   ]
  },
  {
   "cell_type": "markdown",
   "id": "ad894386",
   "metadata": {},
   "source": [
    "## `Takeaways`"
   ]
  },
  {
   "cell_type": "markdown",
   "id": "af274087",
   "metadata": {},
   "source": [
    "Categorical Takeaways: \n",
    "\n",
    "* significant:\n",
    "    * gender, alone\n",
    "\n",
    "* not significant:\n",
    "    * embark_town (more people survived who got on at Queenstown than at Southampton)\n",
    "\n",
    "Numerical Takeaways:\n",
    "\n",
    "* significant:\n",
    "    * pclass, parch, fare\n",
    "\n",
    "* not significant:\n",
    "    * passenger id, sibsp"
   ]
  },
  {
   "cell_type": "code",
   "execution_count": 37,
   "id": "4c9b9786",
   "metadata": {},
   "outputs": [
    {
     "data": {
      "text/plain": [
       "['pclass',\n",
       " 'sibsp',\n",
       " 'parch',\n",
       " 'fare',\n",
       " 'alone',\n",
       " 'sex_male',\n",
       " 'embark_town_Queenstown',\n",
       " 'embark_town_Southampton']"
      ]
     },
     "execution_count": 37,
     "metadata": {},
     "output_type": "execute_result"
    }
   ],
   "source": [
    "X_train.columns.tolist()"
   ]
  },
  {
   "cell_type": "code",
   "execution_count": 38,
   "id": "f5831770",
   "metadata": {},
   "outputs": [],
   "source": [
    "# model isn't changing from 100% accuracy so I need to eliminate features\n",
    "# see above takeaways to eliminate\n",
    "X_train = train[[\n",
    " 'pclass',\n",
    " 'parch',\n",
    " 'fare',\n",
    " 'alone',\n",
    " 'sex_male']]"
   ]
  },
  {
   "cell_type": "code",
   "execution_count": 39,
   "id": "1c5a0716",
   "metadata": {},
   "outputs": [],
   "source": [
    "clf2 = DecisionTreeClassifier(max_depth=8)"
   ]
  },
  {
   "cell_type": "code",
   "execution_count": 40,
   "id": "c1402928",
   "metadata": {},
   "outputs": [
    {
     "data": {
      "text/plain": [
       "DecisionTreeClassifier(max_depth=8)"
      ]
     },
     "execution_count": 40,
     "metadata": {},
     "output_type": "execute_result"
    }
   ],
   "source": [
    "clf2.fit(X_train, y_train)"
   ]
  },
  {
   "cell_type": "code",
   "execution_count": 41,
   "id": "fe9b194e",
   "metadata": {},
   "outputs": [
    {
     "data": {
      "text/plain": [
       "0.9044943820224719"
      ]
     },
     "execution_count": 41,
     "metadata": {},
     "output_type": "execute_result"
    }
   ],
   "source": [
    "clf2.score(X_train, y_train)"
   ]
  },
  {
   "cell_type": "markdown",
   "id": "2ed9ea6f",
   "metadata": {},
   "source": [
    "#### `Changed from 100% to 82%!!!! model 2 is looking promising`"
   ]
  },
  {
   "cell_type": "markdown",
   "id": "e33f4e29-3d7d-48de-aad8-ee4f55d82c2e",
   "metadata": {},
   "source": [
    "5. Which model performs better on your in-sample data?\n",
    "\n",
    "    * model 2 (clf2!)"
   ]
  },
  {
   "cell_type": "code",
   "execution_count": 42,
   "id": "57009910",
   "metadata": {},
   "outputs": [
    {
     "data": {
      "image/png": "[encoded data removed]",
      "text/plain": [
       "<Figure size 800x800 with 1 Axes>"
      ]
     },
     "metadata": {},
     "output_type": "display_data"
    }
   ],
   "source": [
    "plt.figure(figsize=(8,8))\n",
    "plot_tree(clf2, #our fitted object\n",
    "         feature_names=X_train.columns, #puts in our features for the questions\n",
    "          filled=True #colors our leaves and branches based on the class\n",
    "         )\n",
    "plt.show()"
   ]
  },
  {
   "cell_type": "markdown",
   "id": "e086f2fc-8fdf-4523-91c6-3a1c0a9ead5a",
   "metadata": {},
   "source": [
    "6. Which model performs best on your out-of-sample data, the validate set?"
   ]
  },
  {
   "cell_type": "code",
   "execution_count": 43,
   "id": "df3ac292-c773-41ff-a21e-09fc156a9021",
   "metadata": {},
   "outputs": [
    {
     "data": {
      "text/plain": [
       "DecisionTreeClassifier()"
      ]
     },
     "execution_count": 43,
     "metadata": {},
     "output_type": "execute_result"
    }
   ],
   "source": [
    "# trying model 1 on validate set\n",
    "clf.fit(X_validate, y_validate)"
   ]
  },
  {
   "cell_type": "code",
   "execution_count": 44,
   "id": "86db7751",
   "metadata": {},
   "outputs": [
    {
     "data": {
      "text/plain": [
       "0.9382022471910112"
      ]
     },
     "execution_count": 44,
     "metadata": {},
     "output_type": "execute_result"
    }
   ],
   "source": [
    "clf.score(X_validate, y_validate)"
   ]
  },
  {
   "cell_type": "markdown",
   "id": "951ed587",
   "metadata": {},
   "source": [
    "YUCK"
   ]
  },
  {
   "cell_type": "code",
   "execution_count": 45,
   "id": "cd5f9f49",
   "metadata": {},
   "outputs": [
    {
     "data": {
      "text/plain": [
       "DecisionTreeClassifier(max_depth=8)"
      ]
     },
     "execution_count": 45,
     "metadata": {},
     "output_type": "execute_result"
    }
   ],
   "source": [
    "# trying model 2 on validate set\n",
    "clf2.fit(X_validate, y_validate)"
   ]
  },
  {
   "cell_type": "code",
   "execution_count": 46,
   "id": "8e3fe6a6",
   "metadata": {},
   "outputs": [
    {
     "data": {
      "text/plain": [
       "0.8876404494382022"
      ]
     },
     "execution_count": 46,
     "metadata": {},
     "output_type": "execute_result"
    }
   ],
   "source": [
    "clf2.score(X_validate, y_validate)"
   ]
  },
  {
   "cell_type": "markdown",
   "id": "720673a2",
   "metadata": {},
   "source": [
    "YAY!"
   ]
  },
  {
   "cell_type": "code",
   "execution_count": 47,
   "id": "3bfe2dab",
   "metadata": {},
   "outputs": [
    {
     "data": {
      "text/plain": [
       "61.61"
      ]
     },
     "execution_count": 47,
     "metadata": {},
     "output_type": "execute_result"
    }
   ],
   "source": [
    "baseline_accuracy"
   ]
  },
  {
   "cell_type": "markdown",
   "id": "7a8ab787",
   "metadata": {},
   "source": [
    "## `Takeaways`"
   ]
  },
  {
   "cell_type": "markdown",
   "id": "9ddee2c8",
   "metadata": {},
   "source": [
    "#### model 2 (clf2) is the best fit on the validate set with 83% accuracy beating the baseline of 62%."
   ]
  },
  {
   "cell_type": "markdown",
   "id": "25d6c43e-fc1d-469c-8d3c-98e56942ae5a",
   "metadata": {},
   "source": [
    "> ## Part B: TELCO"
   ]
  },
  {
   "cell_type": "markdown",
   "id": "f6ff0566",
   "metadata": {},
   "source": [
    ">> ### Acquire"
   ]
  },
  {
   "cell_type": "code",
   "execution_count": 48,
   "id": "465c7f50",
   "metadata": {},
   "outputs": [
    {
     "name": "stdout",
     "output_type": "stream",
     "text": [
      "csv file found and loaded\n"
     ]
    },
    {
     "data": {
      "text/html": [
       "<div>\n",
       "<style scoped>\n",
       "    .dataframe tbody tr th:only-of-type {\n",
       "        vertical-align: middle;\n",
       "    }\n",
       "\n",
       "    .dataframe tbody tr th {\n",
       "        vertical-align: top;\n",
       "    }\n",
       "\n",
       "    .dataframe thead th {\n",
       "        text-align: right;\n",
       "    }\n",
       "</style>\n",
       "<table border=\"1\" class=\"dataframe\">\n",
       "  <thead>\n",
       "    <tr style=\"text-align: right;\">\n",
       "      <th></th>\n",
       "      <th>payment_type_id</th>\n",
       "      <th>internet_service_type_id</th>\n",
       "      <th>contract_type_id</th>\n",
       "      <th>customer_id</th>\n",
       "      <th>gender</th>\n",
       "      <th>senior_citizen</th>\n",
       "      <th>partner</th>\n",
       "      <th>dependents</th>\n",
       "      <th>tenure</th>\n",
       "      <th>phone_service</th>\n",
       "      <th>...</th>\n",
       "      <th>tech_support</th>\n",
       "      <th>streaming_tv</th>\n",
       "      <th>streaming_movies</th>\n",
       "      <th>paperless_billing</th>\n",
       "      <th>monthly_charges</th>\n",
       "      <th>total_charges</th>\n",
       "      <th>churn</th>\n",
       "      <th>contract_type</th>\n",
       "      <th>internet_service_type</th>\n",
       "      <th>payment_type</th>\n",
       "    </tr>\n",
       "  </thead>\n",
       "  <tbody>\n",
       "    <tr>\n",
       "      <th>0</th>\n",
       "      <td>2</td>\n",
       "      <td>1</td>\n",
       "      <td>2</td>\n",
       "      <td>0002-ORFBO</td>\n",
       "      <td>Female</td>\n",
       "      <td>0</td>\n",
       "      <td>Yes</td>\n",
       "      <td>Yes</td>\n",
       "      <td>9</td>\n",
       "      <td>Yes</td>\n",
       "      <td>...</td>\n",
       "      <td>Yes</td>\n",
       "      <td>Yes</td>\n",
       "      <td>No</td>\n",
       "      <td>Yes</td>\n",
       "      <td>65.6</td>\n",
       "      <td>593.3</td>\n",
       "      <td>No</td>\n",
       "      <td>One year</td>\n",
       "      <td>DSL</td>\n",
       "      <td>Mailed check</td>\n",
       "    </tr>\n",
       "    <tr>\n",
       "      <th>1</th>\n",
       "      <td>2</td>\n",
       "      <td>1</td>\n",
       "      <td>1</td>\n",
       "      <td>0003-MKNFE</td>\n",
       "      <td>Male</td>\n",
       "      <td>0</td>\n",
       "      <td>No</td>\n",
       "      <td>No</td>\n",
       "      <td>9</td>\n",
       "      <td>Yes</td>\n",
       "      <td>...</td>\n",
       "      <td>No</td>\n",
       "      <td>No</td>\n",
       "      <td>Yes</td>\n",
       "      <td>No</td>\n",
       "      <td>59.9</td>\n",
       "      <td>542.4</td>\n",
       "      <td>No</td>\n",
       "      <td>Month-to-month</td>\n",
       "      <td>DSL</td>\n",
       "      <td>Mailed check</td>\n",
       "    </tr>\n",
       "    <tr>\n",
       "      <th>2</th>\n",
       "      <td>1</td>\n",
       "      <td>2</td>\n",
       "      <td>1</td>\n",
       "      <td>0004-TLHLJ</td>\n",
       "      <td>Male</td>\n",
       "      <td>0</td>\n",
       "      <td>No</td>\n",
       "      <td>No</td>\n",
       "      <td>4</td>\n",
       "      <td>Yes</td>\n",
       "      <td>...</td>\n",
       "      <td>No</td>\n",
       "      <td>No</td>\n",
       "      <td>No</td>\n",
       "      <td>Yes</td>\n",
       "      <td>73.9</td>\n",
       "      <td>280.85</td>\n",
       "      <td>Yes</td>\n",
       "      <td>Month-to-month</td>\n",
       "      <td>Fiber optic</td>\n",
       "      <td>Electronic check</td>\n",
       "    </tr>\n",
       "    <tr>\n",
       "      <th>3</th>\n",
       "      <td>1</td>\n",
       "      <td>2</td>\n",
       "      <td>1</td>\n",
       "      <td>0011-IGKFF</td>\n",
       "      <td>Male</td>\n",
       "      <td>1</td>\n",
       "      <td>Yes</td>\n",
       "      <td>No</td>\n",
       "      <td>13</td>\n",
       "      <td>Yes</td>\n",
       "      <td>...</td>\n",
       "      <td>No</td>\n",
       "      <td>Yes</td>\n",
       "      <td>Yes</td>\n",
       "      <td>Yes</td>\n",
       "      <td>98.0</td>\n",
       "      <td>1237.85</td>\n",
       "      <td>Yes</td>\n",
       "      <td>Month-to-month</td>\n",
       "      <td>Fiber optic</td>\n",
       "      <td>Electronic check</td>\n",
       "    </tr>\n",
       "    <tr>\n",
       "      <th>4</th>\n",
       "      <td>2</td>\n",
       "      <td>2</td>\n",
       "      <td>1</td>\n",
       "      <td>0013-EXCHZ</td>\n",
       "      <td>Female</td>\n",
       "      <td>1</td>\n",
       "      <td>Yes</td>\n",
       "      <td>No</td>\n",
       "      <td>3</td>\n",
       "      <td>Yes</td>\n",
       "      <td>...</td>\n",
       "      <td>Yes</td>\n",
       "      <td>Yes</td>\n",
       "      <td>No</td>\n",
       "      <td>Yes</td>\n",
       "      <td>83.9</td>\n",
       "      <td>267.4</td>\n",
       "      <td>Yes</td>\n",
       "      <td>Month-to-month</td>\n",
       "      <td>Fiber optic</td>\n",
       "      <td>Mailed check</td>\n",
       "    </tr>\n",
       "  </tbody>\n",
       "</table>\n",
       "<p>5 rows × 24 columns</p>\n",
       "</div>"
      ],
      "text/plain": [
       "   payment_type_id  internet_service_type_id  contract_type_id customer_id  \\\n",
       "0                2                         1                 2  0002-ORFBO   \n",
       "1                2                         1                 1  0003-MKNFE   \n",
       "2                1                         2                 1  0004-TLHLJ   \n",
       "3                1                         2                 1  0011-IGKFF   \n",
       "4                2                         2                 1  0013-EXCHZ   \n",
       "\n",
       "   gender  senior_citizen partner dependents  tenure phone_service  ...  \\\n",
       "0  Female               0     Yes        Yes       9           Yes  ...   \n",
       "1    Male               0      No         No       9           Yes  ...   \n",
       "2    Male               0      No         No       4           Yes  ...   \n",
       "3    Male               1     Yes         No      13           Yes  ...   \n",
       "4  Female               1     Yes         No       3           Yes  ...   \n",
       "\n",
       "  tech_support streaming_tv streaming_movies paperless_billing  \\\n",
       "0          Yes          Yes               No               Yes   \n",
       "1           No           No              Yes                No   \n",
       "2           No           No               No               Yes   \n",
       "3           No          Yes              Yes               Yes   \n",
       "4          Yes          Yes               No               Yes   \n",
       "\n",
       "  monthly_charges total_charges churn   contract_type  internet_service_type  \\\n",
       "0            65.6         593.3    No        One year                    DSL   \n",
       "1            59.9         542.4    No  Month-to-month                    DSL   \n",
       "2            73.9        280.85   Yes  Month-to-month            Fiber optic   \n",
       "3            98.0       1237.85   Yes  Month-to-month            Fiber optic   \n",
       "4            83.9         267.4   Yes  Month-to-month            Fiber optic   \n",
       "\n",
       "       payment_type  \n",
       "0      Mailed check  \n",
       "1      Mailed check  \n",
       "2  Electronic check  \n",
       "3  Electronic check  \n",
       "4      Mailed check  \n",
       "\n",
       "[5 rows x 24 columns]"
      ]
     },
     "execution_count": 48,
     "metadata": {},
     "output_type": "execute_result"
    }
   ],
   "source": [
    "df = acq.get_telco_churn()\n",
    "df.head()"
   ]
  },
  {
   "cell_type": "markdown",
   "id": "ac3f8f0b",
   "metadata": {},
   "source": [
    ">> ### Prepare"
   ]
  },
  {
   "cell_type": "code",
   "execution_count": 49,
   "id": "db1b3a40",
   "metadata": {},
   "outputs": [],
   "source": [
    "dft = prep.clean_telco(df)"
   ]
  },
  {
   "cell_type": "code",
   "execution_count": 50,
   "id": "8f5178c4",
   "metadata": {},
   "outputs": [],
   "source": [
    "train, validate, test = prep.split_telco(dft)"
   ]
  },
  {
   "cell_type": "code",
   "execution_count": 51,
   "id": "0dc1157b",
   "metadata": {},
   "outputs": [
    {
     "data": {
      "text/plain": [
       "((4225, 28), (1409, 28), (1409, 28))"
      ]
     },
     "execution_count": 51,
     "metadata": {},
     "output_type": "execute_result"
    }
   ],
   "source": [
    "#confimed sample sizes are 60/20/20\n",
    "train.shape, validate.shape, test.shape"
   ]
  },
  {
   "cell_type": "code",
   "execution_count": 52,
   "id": "86b71587",
   "metadata": {},
   "outputs": [
    {
     "data": {
      "text/html": [
       "<div>\n",
       "<style scoped>\n",
       "    .dataframe tbody tr th:only-of-type {\n",
       "        vertical-align: middle;\n",
       "    }\n",
       "\n",
       "    .dataframe tbody tr th {\n",
       "        vertical-align: top;\n",
       "    }\n",
       "\n",
       "    .dataframe thead th {\n",
       "        text-align: right;\n",
       "    }\n",
       "</style>\n",
       "<table border=\"1\" class=\"dataframe\">\n",
       "  <thead>\n",
       "    <tr style=\"text-align: right;\">\n",
       "      <th></th>\n",
       "      <th>customer_id</th>\n",
       "      <th>gender</th>\n",
       "      <th>senior_citizen</th>\n",
       "      <th>partner</th>\n",
       "      <th>dependents</th>\n",
       "      <th>tenure</th>\n",
       "      <th>phone_service</th>\n",
       "      <th>multiple_lines</th>\n",
       "      <th>online_security</th>\n",
       "      <th>online_backup</th>\n",
       "      <th>...</th>\n",
       "      <th>contract_type</th>\n",
       "      <th>internet_service_type</th>\n",
       "      <th>payment_type</th>\n",
       "      <th>contract_type_One year</th>\n",
       "      <th>contract_type_Two year</th>\n",
       "      <th>payment_type_Credit card (automatic)</th>\n",
       "      <th>payment_type_Electronic check</th>\n",
       "      <th>payment_type_Mailed check</th>\n",
       "      <th>internet_service_type_Fiber optic</th>\n",
       "      <th>internet_service_type_None</th>\n",
       "    </tr>\n",
       "  </thead>\n",
       "  <tbody>\n",
       "    <tr>\n",
       "      <th>5911</th>\n",
       "      <td>8319-QBEHW</td>\n",
       "      <td>1</td>\n",
       "      <td>0</td>\n",
       "      <td>0</td>\n",
       "      <td>1</td>\n",
       "      <td>26</td>\n",
       "      <td>0</td>\n",
       "      <td>0</td>\n",
       "      <td>0</td>\n",
       "      <td>1</td>\n",
       "      <td>...</td>\n",
       "      <td>One year</td>\n",
       "      <td>DSL</td>\n",
       "      <td>Bank transfer (automatic)</td>\n",
       "      <td>1</td>\n",
       "      <td>0</td>\n",
       "      <td>0</td>\n",
       "      <td>0</td>\n",
       "      <td>0</td>\n",
       "      <td>0</td>\n",
       "      <td>0</td>\n",
       "    </tr>\n",
       "    <tr>\n",
       "      <th>2479</th>\n",
       "      <td>3547-LQRIK</td>\n",
       "      <td>0</td>\n",
       "      <td>0</td>\n",
       "      <td>1</td>\n",
       "      <td>0</td>\n",
       "      <td>47</td>\n",
       "      <td>1</td>\n",
       "      <td>1</td>\n",
       "      <td>0</td>\n",
       "      <td>0</td>\n",
       "      <td>...</td>\n",
       "      <td>One year</td>\n",
       "      <td>None</td>\n",
       "      <td>Electronic check</td>\n",
       "      <td>1</td>\n",
       "      <td>0</td>\n",
       "      <td>0</td>\n",
       "      <td>1</td>\n",
       "      <td>0</td>\n",
       "      <td>0</td>\n",
       "      <td>1</td>\n",
       "    </tr>\n",
       "    <tr>\n",
       "      <th>5889</th>\n",
       "      <td>8280-MQRQN</td>\n",
       "      <td>0</td>\n",
       "      <td>0</td>\n",
       "      <td>0</td>\n",
       "      <td>0</td>\n",
       "      <td>1</td>\n",
       "      <td>1</td>\n",
       "      <td>0</td>\n",
       "      <td>0</td>\n",
       "      <td>0</td>\n",
       "      <td>...</td>\n",
       "      <td>Month-to-month</td>\n",
       "      <td>DSL</td>\n",
       "      <td>Mailed check</td>\n",
       "      <td>0</td>\n",
       "      <td>0</td>\n",
       "      <td>0</td>\n",
       "      <td>0</td>\n",
       "      <td>1</td>\n",
       "      <td>0</td>\n",
       "      <td>0</td>\n",
       "    </tr>\n",
       "    <tr>\n",
       "      <th>6087</th>\n",
       "      <td>8626-PTQGE</td>\n",
       "      <td>1</td>\n",
       "      <td>0</td>\n",
       "      <td>0</td>\n",
       "      <td>0</td>\n",
       "      <td>69</td>\n",
       "      <td>0</td>\n",
       "      <td>0</td>\n",
       "      <td>1</td>\n",
       "      <td>1</td>\n",
       "      <td>...</td>\n",
       "      <td>Two year</td>\n",
       "      <td>DSL</td>\n",
       "      <td>Bank transfer (automatic)</td>\n",
       "      <td>0</td>\n",
       "      <td>1</td>\n",
       "      <td>0</td>\n",
       "      <td>0</td>\n",
       "      <td>0</td>\n",
       "      <td>0</td>\n",
       "      <td>0</td>\n",
       "    </tr>\n",
       "    <tr>\n",
       "      <th>785</th>\n",
       "      <td>1142-IHLOO</td>\n",
       "      <td>0</td>\n",
       "      <td>0</td>\n",
       "      <td>0</td>\n",
       "      <td>0</td>\n",
       "      <td>51</td>\n",
       "      <td>1</td>\n",
       "      <td>0</td>\n",
       "      <td>0</td>\n",
       "      <td>0</td>\n",
       "      <td>...</td>\n",
       "      <td>One year</td>\n",
       "      <td>Fiber optic</td>\n",
       "      <td>Credit card (automatic)</td>\n",
       "      <td>1</td>\n",
       "      <td>0</td>\n",
       "      <td>1</td>\n",
       "      <td>0</td>\n",
       "      <td>0</td>\n",
       "      <td>1</td>\n",
       "      <td>0</td>\n",
       "    </tr>\n",
       "  </tbody>\n",
       "</table>\n",
       "<p>5 rows × 28 columns</p>\n",
       "</div>"
      ],
      "text/plain": [
       "     customer_id  gender  senior_citizen  partner  dependents  tenure  \\\n",
       "5911  8319-QBEHW       1               0        0           1      26   \n",
       "2479  3547-LQRIK       0               0        1           0      47   \n",
       "5889  8280-MQRQN       0               0        0           0       1   \n",
       "6087  8626-PTQGE       1               0        0           0      69   \n",
       "785   1142-IHLOO       0               0        0           0      51   \n",
       "\n",
       "      phone_service  multiple_lines  online_security  online_backup  ...  \\\n",
       "5911              0               0                0              1  ...   \n",
       "2479              1               1                0              0  ...   \n",
       "5889              1               0                0              0  ...   \n",
       "6087              0               0                1              1  ...   \n",
       "785               1               0                0              0  ...   \n",
       "\n",
       "       contract_type  internet_service_type               payment_type  \\\n",
       "5911        One year                    DSL  Bank transfer (automatic)   \n",
       "2479        One year                   None           Electronic check   \n",
       "5889  Month-to-month                    DSL               Mailed check   \n",
       "6087        Two year                    DSL  Bank transfer (automatic)   \n",
       "785         One year            Fiber optic    Credit card (automatic)   \n",
       "\n",
       "      contract_type_One year  contract_type_Two year  \\\n",
       "5911                       1                       0   \n",
       "2479                       1                       0   \n",
       "5889                       0                       0   \n",
       "6087                       0                       1   \n",
       "785                        1                       0   \n",
       "\n",
       "      payment_type_Credit card (automatic)  payment_type_Electronic check  \\\n",
       "5911                                     0                              0   \n",
       "2479                                     0                              1   \n",
       "5889                                     0                              0   \n",
       "6087                                     0                              0   \n",
       "785                                      1                              0   \n",
       "\n",
       "      payment_type_Mailed check internet_service_type_Fiber optic  \\\n",
       "5911                          0                                 0   \n",
       "2479                          0                                 0   \n",
       "5889                          1                                 0   \n",
       "6087                          0                                 0   \n",
       "785                           0                                 1   \n",
       "\n",
       "     internet_service_type_None  \n",
       "5911                          0  \n",
       "2479                          1  \n",
       "5889                          0  \n",
       "6087                          0  \n",
       "785                           0  \n",
       "\n",
       "[5 rows x 28 columns]"
      ]
     },
     "execution_count": 52,
     "metadata": {},
     "output_type": "execute_result"
    }
   ],
   "source": [
    "# ONLY LOOKING AT TRAIN\n",
    "train.head()"
   ]
  },
  {
   "cell_type": "markdown",
   "id": "3a5f0f39",
   "metadata": {},
   "source": [
    ">> ### Explore"
   ]
  },
  {
   "cell_type": "markdown",
   "id": "a3f9738c",
   "metadata": {},
   "source": [
    "### CHECK NULLS!!!"
   ]
  },
  {
   "cell_type": "code",
   "execution_count": 53,
   "id": "50bc6bb5",
   "metadata": {},
   "outputs": [
    {
     "data": {
      "text/plain": [
       "(customer_id                             0\n",
       " gender                                  0\n",
       " senior_citizen                          0\n",
       " partner                                 0\n",
       " dependents                              0\n",
       " tenure                                  0\n",
       " phone_service                           0\n",
       " multiple_lines                          0\n",
       " online_security                         0\n",
       " online_backup                           0\n",
       " device_protection                       0\n",
       " tech_support                            0\n",
       " streaming_tv                            0\n",
       " streaming_movies                        0\n",
       " paperless_billing                       0\n",
       " monthly_charges                         0\n",
       " total_charges                           9\n",
       " churn                                   0\n",
       " contract_type                           0\n",
       " internet_service_type                   0\n",
       " payment_type                            0\n",
       " contract_type_One year                  0\n",
       " contract_type_Two year                  0\n",
       " payment_type_Credit card (automatic)    0\n",
       " payment_type_Electronic check           0\n",
       " payment_type_Mailed check               0\n",
       " internet_service_type_Fiber optic       0\n",
       " internet_service_type_None              0\n",
       " dtype: int64,\n",
       " customer_id                             0\n",
       " gender                                  0\n",
       " senior_citizen                          0\n",
       " partner                                 0\n",
       " dependents                              0\n",
       " tenure                                  0\n",
       " phone_service                           0\n",
       " multiple_lines                          0\n",
       " online_security                         0\n",
       " online_backup                           0\n",
       " device_protection                       0\n",
       " tech_support                            0\n",
       " streaming_tv                            0\n",
       " streaming_movies                        0\n",
       " paperless_billing                       0\n",
       " monthly_charges                         0\n",
       " total_charges                           2\n",
       " churn                                   0\n",
       " contract_type                           0\n",
       " internet_service_type                   0\n",
       " payment_type                            0\n",
       " contract_type_One year                  0\n",
       " contract_type_Two year                  0\n",
       " payment_type_Credit card (automatic)    0\n",
       " payment_type_Electronic check           0\n",
       " payment_type_Mailed check               0\n",
       " internet_service_type_Fiber optic       0\n",
       " internet_service_type_None              0\n",
       " dtype: int64,\n",
       " customer_id                             0\n",
       " gender                                  0\n",
       " senior_citizen                          0\n",
       " partner                                 0\n",
       " dependents                              0\n",
       " tenure                                  0\n",
       " phone_service                           0\n",
       " multiple_lines                          0\n",
       " online_security                         0\n",
       " online_backup                           0\n",
       " device_protection                       0\n",
       " tech_support                            0\n",
       " streaming_tv                            0\n",
       " streaming_movies                        0\n",
       " paperless_billing                       0\n",
       " monthly_charges                         0\n",
       " total_charges                           0\n",
       " churn                                   0\n",
       " contract_type                           0\n",
       " internet_service_type                   0\n",
       " payment_type                            0\n",
       " contract_type_One year                  0\n",
       " contract_type_Two year                  0\n",
       " payment_type_Credit card (automatic)    0\n",
       " payment_type_Electronic check           0\n",
       " payment_type_Mailed check               0\n",
       " internet_service_type_Fiber optic       0\n",
       " internet_service_type_None              0\n",
       " dtype: int64)"
      ]
     },
     "execution_count": 53,
     "metadata": {},
     "output_type": "execute_result"
    }
   ],
   "source": [
    "train.isnull().sum(), validate.isnull().sum(), test.isnull().sum()"
   ]
  },
  {
   "cell_type": "code",
   "execution_count": 54,
   "id": "280af4d9",
   "metadata": {},
   "outputs": [],
   "source": [
    "train.total_charges.fillna(0, inplace=True)\n",
    "validate.total_charges.fillna(0, inplace=True)\n",
    "test.total_charges.fillna(0, inplace=True)\n",
    "# re run cell above to confirm NaN for total_charges (people who have been)\n",
    "# with the company for less than one month) are replaced with a 0."
   ]
  },
  {
   "cell_type": "code",
   "execution_count": 55,
   "id": "286eb06d",
   "metadata": {},
   "outputs": [],
   "source": [
    "train.churn.value_counts()\n",
    "# did not churn has higher counts = baseline prediction\n",
    "train['baseline'] = 0"
   ]
  },
  {
   "cell_type": "code",
   "execution_count": 56,
   "id": "dbe82e5e",
   "metadata": {},
   "outputs": [
    {
     "data": {
      "text/html": [
       "<div>\n",
       "<style scoped>\n",
       "    .dataframe tbody tr th:only-of-type {\n",
       "        vertical-align: middle;\n",
       "    }\n",
       "\n",
       "    .dataframe tbody tr th {\n",
       "        vertical-align: top;\n",
       "    }\n",
       "\n",
       "    .dataframe thead th {\n",
       "        text-align: right;\n",
       "    }\n",
       "</style>\n",
       "<table border=\"1\" class=\"dataframe\">\n",
       "  <thead>\n",
       "    <tr style=\"text-align: right;\">\n",
       "      <th></th>\n",
       "      <th>customer_id</th>\n",
       "      <th>gender</th>\n",
       "      <th>senior_citizen</th>\n",
       "      <th>partner</th>\n",
       "      <th>dependents</th>\n",
       "      <th>tenure</th>\n",
       "      <th>phone_service</th>\n",
       "      <th>multiple_lines</th>\n",
       "      <th>online_security</th>\n",
       "      <th>online_backup</th>\n",
       "      <th>...</th>\n",
       "      <th>internet_service_type</th>\n",
       "      <th>payment_type</th>\n",
       "      <th>contract_type_One year</th>\n",
       "      <th>contract_type_Two year</th>\n",
       "      <th>payment_type_Credit card (automatic)</th>\n",
       "      <th>payment_type_Electronic check</th>\n",
       "      <th>payment_type_Mailed check</th>\n",
       "      <th>internet_service_type_Fiber optic</th>\n",
       "      <th>internet_service_type_None</th>\n",
       "      <th>baseline</th>\n",
       "    </tr>\n",
       "  </thead>\n",
       "  <tbody>\n",
       "    <tr>\n",
       "      <th>5911</th>\n",
       "      <td>8319-QBEHW</td>\n",
       "      <td>1</td>\n",
       "      <td>0</td>\n",
       "      <td>0</td>\n",
       "      <td>1</td>\n",
       "      <td>26</td>\n",
       "      <td>0</td>\n",
       "      <td>0</td>\n",
       "      <td>0</td>\n",
       "      <td>1</td>\n",
       "      <td>...</td>\n",
       "      <td>DSL</td>\n",
       "      <td>Bank transfer (automatic)</td>\n",
       "      <td>1</td>\n",
       "      <td>0</td>\n",
       "      <td>0</td>\n",
       "      <td>0</td>\n",
       "      <td>0</td>\n",
       "      <td>0</td>\n",
       "      <td>0</td>\n",
       "      <td>0</td>\n",
       "    </tr>\n",
       "    <tr>\n",
       "      <th>2479</th>\n",
       "      <td>3547-LQRIK</td>\n",
       "      <td>0</td>\n",
       "      <td>0</td>\n",
       "      <td>1</td>\n",
       "      <td>0</td>\n",
       "      <td>47</td>\n",
       "      <td>1</td>\n",
       "      <td>1</td>\n",
       "      <td>0</td>\n",
       "      <td>0</td>\n",
       "      <td>...</td>\n",
       "      <td>None</td>\n",
       "      <td>Electronic check</td>\n",
       "      <td>1</td>\n",
       "      <td>0</td>\n",
       "      <td>0</td>\n",
       "      <td>1</td>\n",
       "      <td>0</td>\n",
       "      <td>0</td>\n",
       "      <td>1</td>\n",
       "      <td>0</td>\n",
       "    </tr>\n",
       "    <tr>\n",
       "      <th>5889</th>\n",
       "      <td>8280-MQRQN</td>\n",
       "      <td>0</td>\n",
       "      <td>0</td>\n",
       "      <td>0</td>\n",
       "      <td>0</td>\n",
       "      <td>1</td>\n",
       "      <td>1</td>\n",
       "      <td>0</td>\n",
       "      <td>0</td>\n",
       "      <td>0</td>\n",
       "      <td>...</td>\n",
       "      <td>DSL</td>\n",
       "      <td>Mailed check</td>\n",
       "      <td>0</td>\n",
       "      <td>0</td>\n",
       "      <td>0</td>\n",
       "      <td>0</td>\n",
       "      <td>1</td>\n",
       "      <td>0</td>\n",
       "      <td>0</td>\n",
       "      <td>0</td>\n",
       "    </tr>\n",
       "    <tr>\n",
       "      <th>6087</th>\n",
       "      <td>8626-PTQGE</td>\n",
       "      <td>1</td>\n",
       "      <td>0</td>\n",
       "      <td>0</td>\n",
       "      <td>0</td>\n",
       "      <td>69</td>\n",
       "      <td>0</td>\n",
       "      <td>0</td>\n",
       "      <td>1</td>\n",
       "      <td>1</td>\n",
       "      <td>...</td>\n",
       "      <td>DSL</td>\n",
       "      <td>Bank transfer (automatic)</td>\n",
       "      <td>0</td>\n",
       "      <td>1</td>\n",
       "      <td>0</td>\n",
       "      <td>0</td>\n",
       "      <td>0</td>\n",
       "      <td>0</td>\n",
       "      <td>0</td>\n",
       "      <td>0</td>\n",
       "    </tr>\n",
       "    <tr>\n",
       "      <th>785</th>\n",
       "      <td>1142-IHLOO</td>\n",
       "      <td>0</td>\n",
       "      <td>0</td>\n",
       "      <td>0</td>\n",
       "      <td>0</td>\n",
       "      <td>51</td>\n",
       "      <td>1</td>\n",
       "      <td>0</td>\n",
       "      <td>0</td>\n",
       "      <td>0</td>\n",
       "      <td>...</td>\n",
       "      <td>Fiber optic</td>\n",
       "      <td>Credit card (automatic)</td>\n",
       "      <td>1</td>\n",
       "      <td>0</td>\n",
       "      <td>1</td>\n",
       "      <td>0</td>\n",
       "      <td>0</td>\n",
       "      <td>1</td>\n",
       "      <td>0</td>\n",
       "      <td>0</td>\n",
       "    </tr>\n",
       "  </tbody>\n",
       "</table>\n",
       "<p>5 rows × 29 columns</p>\n",
       "</div>"
      ],
      "text/plain": [
       "     customer_id  gender  senior_citizen  partner  dependents  tenure  \\\n",
       "5911  8319-QBEHW       1               0        0           1      26   \n",
       "2479  3547-LQRIK       0               0        1           0      47   \n",
       "5889  8280-MQRQN       0               0        0           0       1   \n",
       "6087  8626-PTQGE       1               0        0           0      69   \n",
       "785   1142-IHLOO       0               0        0           0      51   \n",
       "\n",
       "      phone_service  multiple_lines  online_security  online_backup  ...  \\\n",
       "5911              0               0                0              1  ...   \n",
       "2479              1               1                0              0  ...   \n",
       "5889              1               0                0              0  ...   \n",
       "6087              0               0                1              1  ...   \n",
       "785               1               0                0              0  ...   \n",
       "\n",
       "      internet_service_type               payment_type  \\\n",
       "5911                    DSL  Bank transfer (automatic)   \n",
       "2479                   None           Electronic check   \n",
       "5889                    DSL               Mailed check   \n",
       "6087                    DSL  Bank transfer (automatic)   \n",
       "785             Fiber optic    Credit card (automatic)   \n",
       "\n",
       "      contract_type_One year  contract_type_Two year  \\\n",
       "5911                       1                       0   \n",
       "2479                       1                       0   \n",
       "5889                       0                       0   \n",
       "6087                       0                       1   \n",
       "785                        1                       0   \n",
       "\n",
       "      payment_type_Credit card (automatic)  payment_type_Electronic check  \\\n",
       "5911                                     0                              0   \n",
       "2479                                     0                              1   \n",
       "5889                                     0                              0   \n",
       "6087                                     0                              0   \n",
       "785                                      1                              0   \n",
       "\n",
       "      payment_type_Mailed check  internet_service_type_Fiber optic  \\\n",
       "5911                          0                                  0   \n",
       "2479                          0                                  0   \n",
       "5889                          1                                  0   \n",
       "6087                          0                                  0   \n",
       "785                           0                                  1   \n",
       "\n",
       "     internet_service_type_None baseline  \n",
       "5911                          0        0  \n",
       "2479                          1        0  \n",
       "5889                          0        0  \n",
       "6087                          0        0  \n",
       "785                           0        0  \n",
       "\n",
       "[5 rows x 29 columns]"
      ]
     },
     "execution_count": 56,
     "metadata": {},
     "output_type": "execute_result"
    }
   ],
   "source": [
    "train.head() # checking to make sure baseline column was made"
   ]
  },
  {
   "cell_type": "code",
   "execution_count": 57,
   "id": "10f9524c",
   "metadata": {},
   "outputs": [
    {
     "data": {
      "text/plain": [
       "0    3104\n",
       "1    1121\n",
       "Name: churn, dtype: int64"
      ]
     },
     "execution_count": 57,
     "metadata": {},
     "output_type": "execute_result"
    }
   ],
   "source": [
    "train.churn.value_counts()"
   ]
  },
  {
   "cell_type": "code",
   "execution_count": 58,
   "id": "3a2a9e88",
   "metadata": {},
   "outputs": [
    {
     "data": {
      "text/plain": [
       "73.47"
      ]
     },
     "execution_count": 58,
     "metadata": {},
     "output_type": "execute_result"
    }
   ],
   "source": [
    "# establishing baseline accuracy\n",
    "baseline_accuracy = round((3104/(1121+3104)*100),2)\n",
    "baseline_accuracy"
   ]
  },
  {
   "cell_type": "code",
   "execution_count": 59,
   "id": "4593b0aa",
   "metadata": {},
   "outputs": [
    {
     "data": {
      "text/html": [
       "<div>\n",
       "<style scoped>\n",
       "    .dataframe tbody tr th:only-of-type {\n",
       "        vertical-align: middle;\n",
       "    }\n",
       "\n",
       "    .dataframe tbody tr th {\n",
       "        vertical-align: top;\n",
       "    }\n",
       "\n",
       "    .dataframe thead th {\n",
       "        text-align: right;\n",
       "    }\n",
       "</style>\n",
       "<table border=\"1\" class=\"dataframe\">\n",
       "  <thead>\n",
       "    <tr style=\"text-align: right;\">\n",
       "      <th></th>\n",
       "      <th>customer_id</th>\n",
       "      <th>gender</th>\n",
       "      <th>senior_citizen</th>\n",
       "      <th>partner</th>\n",
       "      <th>dependents</th>\n",
       "      <th>tenure</th>\n",
       "      <th>phone_service</th>\n",
       "      <th>multiple_lines</th>\n",
       "      <th>online_security</th>\n",
       "      <th>online_backup</th>\n",
       "      <th>...</th>\n",
       "      <th>internet_service_type</th>\n",
       "      <th>payment_type</th>\n",
       "      <th>contract_type_One year</th>\n",
       "      <th>contract_type_Two year</th>\n",
       "      <th>payment_type_Credit card (automatic)</th>\n",
       "      <th>payment_type_Electronic check</th>\n",
       "      <th>payment_type_Mailed check</th>\n",
       "      <th>internet_service_type_Fiber optic</th>\n",
       "      <th>internet_service_type_None</th>\n",
       "      <th>baseline</th>\n",
       "    </tr>\n",
       "  </thead>\n",
       "  <tbody>\n",
       "    <tr>\n",
       "      <th>5911</th>\n",
       "      <td>8319-QBEHW</td>\n",
       "      <td>1</td>\n",
       "      <td>0</td>\n",
       "      <td>0</td>\n",
       "      <td>1</td>\n",
       "      <td>26</td>\n",
       "      <td>0</td>\n",
       "      <td>0</td>\n",
       "      <td>0</td>\n",
       "      <td>1</td>\n",
       "      <td>...</td>\n",
       "      <td>DSL</td>\n",
       "      <td>Bank transfer (automatic)</td>\n",
       "      <td>1</td>\n",
       "      <td>0</td>\n",
       "      <td>0</td>\n",
       "      <td>0</td>\n",
       "      <td>0</td>\n",
       "      <td>0</td>\n",
       "      <td>0</td>\n",
       "      <td>0</td>\n",
       "    </tr>\n",
       "    <tr>\n",
       "      <th>2479</th>\n",
       "      <td>3547-LQRIK</td>\n",
       "      <td>0</td>\n",
       "      <td>0</td>\n",
       "      <td>1</td>\n",
       "      <td>0</td>\n",
       "      <td>47</td>\n",
       "      <td>1</td>\n",
       "      <td>1</td>\n",
       "      <td>0</td>\n",
       "      <td>0</td>\n",
       "      <td>...</td>\n",
       "      <td>None</td>\n",
       "      <td>Electronic check</td>\n",
       "      <td>1</td>\n",
       "      <td>0</td>\n",
       "      <td>0</td>\n",
       "      <td>1</td>\n",
       "      <td>0</td>\n",
       "      <td>0</td>\n",
       "      <td>1</td>\n",
       "      <td>0</td>\n",
       "    </tr>\n",
       "    <tr>\n",
       "      <th>5889</th>\n",
       "      <td>8280-MQRQN</td>\n",
       "      <td>0</td>\n",
       "      <td>0</td>\n",
       "      <td>0</td>\n",
       "      <td>0</td>\n",
       "      <td>1</td>\n",
       "      <td>1</td>\n",
       "      <td>0</td>\n",
       "      <td>0</td>\n",
       "      <td>0</td>\n",
       "      <td>...</td>\n",
       "      <td>DSL</td>\n",
       "      <td>Mailed check</td>\n",
       "      <td>0</td>\n",
       "      <td>0</td>\n",
       "      <td>0</td>\n",
       "      <td>0</td>\n",
       "      <td>1</td>\n",
       "      <td>0</td>\n",
       "      <td>0</td>\n",
       "      <td>0</td>\n",
       "    </tr>\n",
       "    <tr>\n",
       "      <th>6087</th>\n",
       "      <td>8626-PTQGE</td>\n",
       "      <td>1</td>\n",
       "      <td>0</td>\n",
       "      <td>0</td>\n",
       "      <td>0</td>\n",
       "      <td>69</td>\n",
       "      <td>0</td>\n",
       "      <td>0</td>\n",
       "      <td>1</td>\n",
       "      <td>1</td>\n",
       "      <td>...</td>\n",
       "      <td>DSL</td>\n",
       "      <td>Bank transfer (automatic)</td>\n",
       "      <td>0</td>\n",
       "      <td>1</td>\n",
       "      <td>0</td>\n",
       "      <td>0</td>\n",
       "      <td>0</td>\n",
       "      <td>0</td>\n",
       "      <td>0</td>\n",
       "      <td>0</td>\n",
       "    </tr>\n",
       "    <tr>\n",
       "      <th>785</th>\n",
       "      <td>1142-IHLOO</td>\n",
       "      <td>0</td>\n",
       "      <td>0</td>\n",
       "      <td>0</td>\n",
       "      <td>0</td>\n",
       "      <td>51</td>\n",
       "      <td>1</td>\n",
       "      <td>0</td>\n",
       "      <td>0</td>\n",
       "      <td>0</td>\n",
       "      <td>...</td>\n",
       "      <td>Fiber optic</td>\n",
       "      <td>Credit card (automatic)</td>\n",
       "      <td>1</td>\n",
       "      <td>0</td>\n",
       "      <td>1</td>\n",
       "      <td>0</td>\n",
       "      <td>0</td>\n",
       "      <td>1</td>\n",
       "      <td>0</td>\n",
       "      <td>0</td>\n",
       "    </tr>\n",
       "  </tbody>\n",
       "</table>\n",
       "<p>5 rows × 29 columns</p>\n",
       "</div>"
      ],
      "text/plain": [
       "     customer_id  gender  senior_citizen  partner  dependents  tenure  \\\n",
       "5911  8319-QBEHW       1               0        0           1      26   \n",
       "2479  3547-LQRIK       0               0        1           0      47   \n",
       "5889  8280-MQRQN       0               0        0           0       1   \n",
       "6087  8626-PTQGE       1               0        0           0      69   \n",
       "785   1142-IHLOO       0               0        0           0      51   \n",
       "\n",
       "      phone_service  multiple_lines  online_security  online_backup  ...  \\\n",
       "5911              0               0                0              1  ...   \n",
       "2479              1               1                0              0  ...   \n",
       "5889              1               0                0              0  ...   \n",
       "6087              0               0                1              1  ...   \n",
       "785               1               0                0              0  ...   \n",
       "\n",
       "      internet_service_type               payment_type  \\\n",
       "5911                    DSL  Bank transfer (automatic)   \n",
       "2479                   None           Electronic check   \n",
       "5889                    DSL               Mailed check   \n",
       "6087                    DSL  Bank transfer (automatic)   \n",
       "785             Fiber optic    Credit card (automatic)   \n",
       "\n",
       "      contract_type_One year  contract_type_Two year  \\\n",
       "5911                       1                       0   \n",
       "2479                       1                       0   \n",
       "5889                       0                       0   \n",
       "6087                       0                       1   \n",
       "785                        1                       0   \n",
       "\n",
       "      payment_type_Credit card (automatic)  payment_type_Electronic check  \\\n",
       "5911                                     0                              0   \n",
       "2479                                     0                              1   \n",
       "5889                                     0                              0   \n",
       "6087                                     0                              0   \n",
       "785                                      1                              0   \n",
       "\n",
       "      payment_type_Mailed check  internet_service_type_Fiber optic  \\\n",
       "5911                          0                                  0   \n",
       "2479                          0                                  0   \n",
       "5889                          1                                  0   \n",
       "6087                          0                                  0   \n",
       "785                           0                                  1   \n",
       "\n",
       "     internet_service_type_None baseline  \n",
       "5911                          0        0  \n",
       "2479                          1        0  \n",
       "5889                          0        0  \n",
       "6087                          0        0  \n",
       "785                           0        0  \n",
       "\n",
       "[5 rows x 29 columns]"
      ]
     },
     "execution_count": 59,
     "metadata": {},
     "output_type": "execute_result"
    }
   ],
   "source": [
    "train.head()"
   ]
  },
  {
   "cell_type": "code",
   "execution_count": 60,
   "id": "2761d038",
   "metadata": {},
   "outputs": [
    {
     "name": "stdout",
     "output_type": "stream",
     "text": [
      "customer_id\n",
      "gender\n",
      "senior_citizen\n",
      "partner\n",
      "dependents\n",
      "tenure\n",
      "phone_service\n",
      "multiple_lines\n",
      "online_security\n",
      "online_backup\n",
      "device_protection\n",
      "tech_support\n",
      "streaming_tv\n",
      "streaming_movies\n",
      "paperless_billing\n",
      "monthly_charges\n",
      "total_charges\n",
      "churn\n",
      "contract_type\n",
      "internet_service_type\n",
      "payment_type\n",
      "contract_type_One year\n",
      "contract_type_Two year\n",
      "payment_type_Credit card (automatic)\n",
      "payment_type_Electronic check\n",
      "payment_type_Mailed check\n",
      "internet_service_type_Fiber optic\n",
      "internet_service_type_None\n",
      "baseline\n"
     ]
    }
   ],
   "source": [
    "# I am trying to find the most significant categorical variables to send in\n",
    "\n",
    "col_cat = []  #this is for my categorical varibles\n",
    "col_num = [] #this is for my numeric varibles\n",
    "\n",
    "for col in train.columns:\n",
    "    print(col)#this is for my numeric variables\n",
    "    if len(train[col].unique()) < 3: # making anything with less than 3 unique variables a categorical\n",
    "        col_cat.append(col)\n",
    "    else:\n",
    "        col_num.append(col)"
   ]
  },
  {
   "cell_type": "code",
   "execution_count": 61,
   "id": "8db459ff",
   "metadata": {},
   "outputs": [
    {
     "data": {
      "text/plain": [
       "['gender',\n",
       " 'senior_citizen',\n",
       " 'partner',\n",
       " 'dependents',\n",
       " 'phone_service',\n",
       " 'multiple_lines',\n",
       " 'online_security',\n",
       " 'online_backup',\n",
       " 'device_protection',\n",
       " 'tech_support',\n",
       " 'streaming_tv',\n",
       " 'streaming_movies',\n",
       " 'paperless_billing',\n",
       " 'churn',\n",
       " 'contract_type_One year',\n",
       " 'contract_type_Two year',\n",
       " 'payment_type_Credit card (automatic)',\n",
       " 'payment_type_Electronic check',\n",
       " 'payment_type_Mailed check',\n",
       " 'internet_service_type_Fiber optic',\n",
       " 'internet_service_type_None',\n",
       " 'baseline']"
      ]
     },
     "execution_count": 61,
     "metadata": {},
     "output_type": "execute_result"
    }
   ],
   "source": [
    "col_cat"
   ]
  },
  {
   "cell_type": "code",
   "execution_count": 62,
   "id": "21b51dd6",
   "metadata": {},
   "outputs": [
    {
     "data": {
      "text/plain": [
       "['customer_id',\n",
       " 'tenure',\n",
       " 'monthly_charges',\n",
       " 'total_charges',\n",
       " 'contract_type',\n",
       " 'internet_service_type',\n",
       " 'payment_type']"
      ]
     },
     "execution_count": 62,
     "metadata": {},
     "output_type": "execute_result"
    }
   ],
   "source": [
    "col_num"
   ]
  },
  {
   "cell_type": "markdown",
   "id": "d792d1b2",
   "metadata": {},
   "source": [
    "## `Exploring Categoricals`"
   ]
  },
  {
   "cell_type": "code",
   "execution_count": 63,
   "id": "9a406a7f",
   "metadata": {},
   "outputs": [],
   "source": [
    "# pulling in takeaways from previous exploration"
   ]
  },
  {
   "cell_type": "markdown",
   "id": "fbc0c781",
   "metadata": {},
   "source": [
    "## `Exploring Numericals`"
   ]
  },
  {
   "cell_type": "code",
   "execution_count": 64,
   "id": "abe4d7e6",
   "metadata": {},
   "outputs": [],
   "source": [
    "# pulling in takeaways from previous exploration"
   ]
  },
  {
   "cell_type": "markdown",
   "id": "f045ff6f",
   "metadata": {},
   "source": [
    "## `Takeaways`"
   ]
  },
  {
   "cell_type": "markdown",
   "id": "eeee2463",
   "metadata": {},
   "source": [
    "Categorical Takeaways: \n",
    "\n",
    "* significant:\n",
    "    * senior, partner, dependents, multiple lines, online security, online backup, device protection, tech support(), streaming tv, streaming movies, paperless billing(), contract type one year(), contract type two year(), payment type automatic, payment type electronic check(), payment type mailed check, internet service type fiber optic(), internet service type none()\n",
    "\n",
    "* not significant:\n",
    "    * gender, phone service\n",
    "\n",
    "Numerical Takeaways:\n",
    "\n",
    "* significant:\n",
    "    * tenure(), total charges()\n",
    "\n",
    "* not significant:\n",
    "    * monthly charges"
   ]
  },
  {
   "cell_type": "markdown",
   "id": "05c2ceae",
   "metadata": {},
   "source": [
    "## `Selecting ALL Features (except target)`"
   ]
  },
  {
   "cell_type": "code",
   "execution_count": 65,
   "id": "3ead45f0",
   "metadata": {},
   "outputs": [
    {
     "data": {
      "text/html": [
       "<div>\n",
       "<style scoped>\n",
       "    .dataframe tbody tr th:only-of-type {\n",
       "        vertical-align: middle;\n",
       "    }\n",
       "\n",
       "    .dataframe tbody tr th {\n",
       "        vertical-align: top;\n",
       "    }\n",
       "\n",
       "    .dataframe thead th {\n",
       "        text-align: right;\n",
       "    }\n",
       "</style>\n",
       "<table border=\"1\" class=\"dataframe\">\n",
       "  <thead>\n",
       "    <tr style=\"text-align: right;\">\n",
       "      <th></th>\n",
       "      <th>customer_id</th>\n",
       "      <th>gender</th>\n",
       "      <th>senior_citizen</th>\n",
       "      <th>partner</th>\n",
       "      <th>dependents</th>\n",
       "      <th>tenure</th>\n",
       "      <th>phone_service</th>\n",
       "      <th>multiple_lines</th>\n",
       "      <th>online_security</th>\n",
       "      <th>online_backup</th>\n",
       "      <th>...</th>\n",
       "      <th>internet_service_type</th>\n",
       "      <th>payment_type</th>\n",
       "      <th>contract_type_One year</th>\n",
       "      <th>contract_type_Two year</th>\n",
       "      <th>payment_type_Credit card (automatic)</th>\n",
       "      <th>payment_type_Electronic check</th>\n",
       "      <th>payment_type_Mailed check</th>\n",
       "      <th>internet_service_type_Fiber optic</th>\n",
       "      <th>internet_service_type_None</th>\n",
       "      <th>baseline</th>\n",
       "    </tr>\n",
       "  </thead>\n",
       "  <tbody>\n",
       "    <tr>\n",
       "      <th>5911</th>\n",
       "      <td>8319-QBEHW</td>\n",
       "      <td>1</td>\n",
       "      <td>0</td>\n",
       "      <td>0</td>\n",
       "      <td>1</td>\n",
       "      <td>26</td>\n",
       "      <td>0</td>\n",
       "      <td>0</td>\n",
       "      <td>0</td>\n",
       "      <td>1</td>\n",
       "      <td>...</td>\n",
       "      <td>DSL</td>\n",
       "      <td>Bank transfer (automatic)</td>\n",
       "      <td>1</td>\n",
       "      <td>0</td>\n",
       "      <td>0</td>\n",
       "      <td>0</td>\n",
       "      <td>0</td>\n",
       "      <td>0</td>\n",
       "      <td>0</td>\n",
       "      <td>0</td>\n",
       "    </tr>\n",
       "    <tr>\n",
       "      <th>2479</th>\n",
       "      <td>3547-LQRIK</td>\n",
       "      <td>0</td>\n",
       "      <td>0</td>\n",
       "      <td>1</td>\n",
       "      <td>0</td>\n",
       "      <td>47</td>\n",
       "      <td>1</td>\n",
       "      <td>1</td>\n",
       "      <td>0</td>\n",
       "      <td>0</td>\n",
       "      <td>...</td>\n",
       "      <td>None</td>\n",
       "      <td>Electronic check</td>\n",
       "      <td>1</td>\n",
       "      <td>0</td>\n",
       "      <td>0</td>\n",
       "      <td>1</td>\n",
       "      <td>0</td>\n",
       "      <td>0</td>\n",
       "      <td>1</td>\n",
       "      <td>0</td>\n",
       "    </tr>\n",
       "    <tr>\n",
       "      <th>5889</th>\n",
       "      <td>8280-MQRQN</td>\n",
       "      <td>0</td>\n",
       "      <td>0</td>\n",
       "      <td>0</td>\n",
       "      <td>0</td>\n",
       "      <td>1</td>\n",
       "      <td>1</td>\n",
       "      <td>0</td>\n",
       "      <td>0</td>\n",
       "      <td>0</td>\n",
       "      <td>...</td>\n",
       "      <td>DSL</td>\n",
       "      <td>Mailed check</td>\n",
       "      <td>0</td>\n",
       "      <td>0</td>\n",
       "      <td>0</td>\n",
       "      <td>0</td>\n",
       "      <td>1</td>\n",
       "      <td>0</td>\n",
       "      <td>0</td>\n",
       "      <td>0</td>\n",
       "    </tr>\n",
       "    <tr>\n",
       "      <th>6087</th>\n",
       "      <td>8626-PTQGE</td>\n",
       "      <td>1</td>\n",
       "      <td>0</td>\n",
       "      <td>0</td>\n",
       "      <td>0</td>\n",
       "      <td>69</td>\n",
       "      <td>0</td>\n",
       "      <td>0</td>\n",
       "      <td>1</td>\n",
       "      <td>1</td>\n",
       "      <td>...</td>\n",
       "      <td>DSL</td>\n",
       "      <td>Bank transfer (automatic)</td>\n",
       "      <td>0</td>\n",
       "      <td>1</td>\n",
       "      <td>0</td>\n",
       "      <td>0</td>\n",
       "      <td>0</td>\n",
       "      <td>0</td>\n",
       "      <td>0</td>\n",
       "      <td>0</td>\n",
       "    </tr>\n",
       "    <tr>\n",
       "      <th>785</th>\n",
       "      <td>1142-IHLOO</td>\n",
       "      <td>0</td>\n",
       "      <td>0</td>\n",
       "      <td>0</td>\n",
       "      <td>0</td>\n",
       "      <td>51</td>\n",
       "      <td>1</td>\n",
       "      <td>0</td>\n",
       "      <td>0</td>\n",
       "      <td>0</td>\n",
       "      <td>...</td>\n",
       "      <td>Fiber optic</td>\n",
       "      <td>Credit card (automatic)</td>\n",
       "      <td>1</td>\n",
       "      <td>0</td>\n",
       "      <td>1</td>\n",
       "      <td>0</td>\n",
       "      <td>0</td>\n",
       "      <td>1</td>\n",
       "      <td>0</td>\n",
       "      <td>0</td>\n",
       "    </tr>\n",
       "  </tbody>\n",
       "</table>\n",
       "<p>5 rows × 29 columns</p>\n",
       "</div>"
      ],
      "text/plain": [
       "     customer_id  gender  senior_citizen  partner  dependents  tenure  \\\n",
       "5911  8319-QBEHW       1               0        0           1      26   \n",
       "2479  3547-LQRIK       0               0        1           0      47   \n",
       "5889  8280-MQRQN       0               0        0           0       1   \n",
       "6087  8626-PTQGE       1               0        0           0      69   \n",
       "785   1142-IHLOO       0               0        0           0      51   \n",
       "\n",
       "      phone_service  multiple_lines  online_security  online_backup  ...  \\\n",
       "5911              0               0                0              1  ...   \n",
       "2479              1               1                0              0  ...   \n",
       "5889              1               0                0              0  ...   \n",
       "6087              0               0                1              1  ...   \n",
       "785               1               0                0              0  ...   \n",
       "\n",
       "      internet_service_type               payment_type  \\\n",
       "5911                    DSL  Bank transfer (automatic)   \n",
       "2479                   None           Electronic check   \n",
       "5889                    DSL               Mailed check   \n",
       "6087                    DSL  Bank transfer (automatic)   \n",
       "785             Fiber optic    Credit card (automatic)   \n",
       "\n",
       "      contract_type_One year  contract_type_Two year  \\\n",
       "5911                       1                       0   \n",
       "2479                       1                       0   \n",
       "5889                       0                       0   \n",
       "6087                       0                       1   \n",
       "785                        1                       0   \n",
       "\n",
       "      payment_type_Credit card (automatic)  payment_type_Electronic check  \\\n",
       "5911                                     0                              0   \n",
       "2479                                     0                              1   \n",
       "5889                                     0                              0   \n",
       "6087                                     0                              0   \n",
       "785                                      1                              0   \n",
       "\n",
       "      payment_type_Mailed check  internet_service_type_Fiber optic  \\\n",
       "5911                          0                                  0   \n",
       "2479                          0                                  0   \n",
       "5889                          1                                  0   \n",
       "6087                          0                                  0   \n",
       "785                           0                                  1   \n",
       "\n",
       "     internet_service_type_None baseline  \n",
       "5911                          0        0  \n",
       "2479                          1        0  \n",
       "5889                          0        0  \n",
       "6087                          0        0  \n",
       "785                           0        0  \n",
       "\n",
       "[5 rows x 29 columns]"
      ]
     },
     "execution_count": 65,
     "metadata": {},
     "output_type": "execute_result"
    }
   ],
   "source": [
    "train.head()"
   ]
  },
  {
   "cell_type": "code",
   "execution_count": 66,
   "id": "ccf6696e",
   "metadata": {},
   "outputs": [
    {
     "data": {
      "text/plain": [
       "['customer_id',\n",
       " 'gender',\n",
       " 'senior_citizen',\n",
       " 'partner',\n",
       " 'dependents',\n",
       " 'tenure',\n",
       " 'phone_service',\n",
       " 'multiple_lines',\n",
       " 'online_security',\n",
       " 'online_backup',\n",
       " 'device_protection',\n",
       " 'tech_support',\n",
       " 'streaming_tv',\n",
       " 'streaming_movies',\n",
       " 'paperless_billing',\n",
       " 'monthly_charges',\n",
       " 'total_charges',\n",
       " 'churn',\n",
       " 'contract_type',\n",
       " 'internet_service_type',\n",
       " 'payment_type',\n",
       " 'contract_type_One year',\n",
       " 'contract_type_Two year',\n",
       " 'payment_type_Credit card (automatic)',\n",
       " 'payment_type_Electronic check',\n",
       " 'payment_type_Mailed check',\n",
       " 'internet_service_type_Fiber optic',\n",
       " 'internet_service_type_None',\n",
       " 'baseline']"
      ]
     },
     "execution_count": 66,
     "metadata": {},
     "output_type": "execute_result"
    }
   ],
   "source": [
    "train.columns.tolist()"
   ]
  },
  {
   "cell_type": "code",
   "execution_count": 109,
   "id": "ad4906e2",
   "metadata": {},
   "outputs": [
    {
     "data": {
      "text/html": [
       "<div>\n",
       "<style scoped>\n",
       "    .dataframe tbody tr th:only-of-type {\n",
       "        vertical-align: middle;\n",
       "    }\n",
       "\n",
       "    .dataframe tbody tr th {\n",
       "        vertical-align: top;\n",
       "    }\n",
       "\n",
       "    .dataframe thead th {\n",
       "        text-align: right;\n",
       "    }\n",
       "</style>\n",
       "<table border=\"1\" class=\"dataframe\">\n",
       "  <thead>\n",
       "    <tr style=\"text-align: right;\">\n",
       "      <th></th>\n",
       "      <th>gender</th>\n",
       "      <th>senior_citizen</th>\n",
       "      <th>partner</th>\n",
       "      <th>dependents</th>\n",
       "      <th>tenure</th>\n",
       "      <th>phone_service</th>\n",
       "      <th>multiple_lines</th>\n",
       "      <th>online_security</th>\n",
       "      <th>online_backup</th>\n",
       "      <th>device_protection</th>\n",
       "      <th>...</th>\n",
       "      <th>paperless_billing</th>\n",
       "      <th>monthly_charges</th>\n",
       "      <th>total_charges</th>\n",
       "      <th>contract_type_One year</th>\n",
       "      <th>contract_type_Two year</th>\n",
       "      <th>payment_type_Credit card (automatic)</th>\n",
       "      <th>payment_type_Electronic check</th>\n",
       "      <th>payment_type_Mailed check</th>\n",
       "      <th>internet_service_type_Fiber optic</th>\n",
       "      <th>internet_service_type_None</th>\n",
       "    </tr>\n",
       "  </thead>\n",
       "  <tbody>\n",
       "    <tr>\n",
       "      <th>5911</th>\n",
       "      <td>1</td>\n",
       "      <td>0</td>\n",
       "      <td>0</td>\n",
       "      <td>1</td>\n",
       "      <td>26</td>\n",
       "      <td>0</td>\n",
       "      <td>0</td>\n",
       "      <td>0</td>\n",
       "      <td>1</td>\n",
       "      <td>0</td>\n",
       "      <td>...</td>\n",
       "      <td>1</td>\n",
       "      <td>39.95</td>\n",
       "      <td>1023.75</td>\n",
       "      <td>1</td>\n",
       "      <td>0</td>\n",
       "      <td>0</td>\n",
       "      <td>0</td>\n",
       "      <td>0</td>\n",
       "      <td>0</td>\n",
       "      <td>0</td>\n",
       "    </tr>\n",
       "    <tr>\n",
       "      <th>2479</th>\n",
       "      <td>0</td>\n",
       "      <td>0</td>\n",
       "      <td>1</td>\n",
       "      <td>0</td>\n",
       "      <td>47</td>\n",
       "      <td>1</td>\n",
       "      <td>1</td>\n",
       "      <td>0</td>\n",
       "      <td>0</td>\n",
       "      <td>0</td>\n",
       "      <td>...</td>\n",
       "      <td>0</td>\n",
       "      <td>26.90</td>\n",
       "      <td>1250.85</td>\n",
       "      <td>1</td>\n",
       "      <td>0</td>\n",
       "      <td>0</td>\n",
       "      <td>1</td>\n",
       "      <td>0</td>\n",
       "      <td>0</td>\n",
       "      <td>1</td>\n",
       "    </tr>\n",
       "    <tr>\n",
       "      <th>5889</th>\n",
       "      <td>0</td>\n",
       "      <td>0</td>\n",
       "      <td>0</td>\n",
       "      <td>0</td>\n",
       "      <td>1</td>\n",
       "      <td>1</td>\n",
       "      <td>0</td>\n",
       "      <td>0</td>\n",
       "      <td>0</td>\n",
       "      <td>1</td>\n",
       "      <td>...</td>\n",
       "      <td>1</td>\n",
       "      <td>50.45</td>\n",
       "      <td>50.45</td>\n",
       "      <td>0</td>\n",
       "      <td>0</td>\n",
       "      <td>0</td>\n",
       "      <td>0</td>\n",
       "      <td>1</td>\n",
       "      <td>0</td>\n",
       "      <td>0</td>\n",
       "    </tr>\n",
       "    <tr>\n",
       "      <th>6087</th>\n",
       "      <td>1</td>\n",
       "      <td>0</td>\n",
       "      <td>0</td>\n",
       "      <td>0</td>\n",
       "      <td>69</td>\n",
       "      <td>0</td>\n",
       "      <td>0</td>\n",
       "      <td>1</td>\n",
       "      <td>1</td>\n",
       "      <td>0</td>\n",
       "      <td>...</td>\n",
       "      <td>1</td>\n",
       "      <td>60.05</td>\n",
       "      <td>4176.70</td>\n",
       "      <td>0</td>\n",
       "      <td>1</td>\n",
       "      <td>0</td>\n",
       "      <td>0</td>\n",
       "      <td>0</td>\n",
       "      <td>0</td>\n",
       "      <td>0</td>\n",
       "    </tr>\n",
       "    <tr>\n",
       "      <th>785</th>\n",
       "      <td>0</td>\n",
       "      <td>0</td>\n",
       "      <td>0</td>\n",
       "      <td>0</td>\n",
       "      <td>51</td>\n",
       "      <td>1</td>\n",
       "      <td>0</td>\n",
       "      <td>0</td>\n",
       "      <td>0</td>\n",
       "      <td>0</td>\n",
       "      <td>...</td>\n",
       "      <td>0</td>\n",
       "      <td>87.55</td>\n",
       "      <td>4475.90</td>\n",
       "      <td>1</td>\n",
       "      <td>0</td>\n",
       "      <td>1</td>\n",
       "      <td>0</td>\n",
       "      <td>0</td>\n",
       "      <td>1</td>\n",
       "      <td>0</td>\n",
       "    </tr>\n",
       "  </tbody>\n",
       "</table>\n",
       "<p>5 rows × 23 columns</p>\n",
       "</div>"
      ],
      "text/plain": [
       "      gender  senior_citizen  partner  dependents  tenure  phone_service  \\\n",
       "5911       1               0        0           1      26              0   \n",
       "2479       0               0        1           0      47              1   \n",
       "5889       0               0        0           0       1              1   \n",
       "6087       1               0        0           0      69              0   \n",
       "785        0               0        0           0      51              1   \n",
       "\n",
       "      multiple_lines  online_security  online_backup  device_protection  ...  \\\n",
       "5911               0                0              1                  0  ...   \n",
       "2479               1                0              0                  0  ...   \n",
       "5889               0                0              0                  1  ...   \n",
       "6087               0                1              1                  0  ...   \n",
       "785                0                0              0                  0  ...   \n",
       "\n",
       "      paperless_billing  monthly_charges  total_charges  \\\n",
       "5911                  1            39.95        1023.75   \n",
       "2479                  0            26.90        1250.85   \n",
       "5889                  1            50.45          50.45   \n",
       "6087                  1            60.05        4176.70   \n",
       "785                   0            87.55        4475.90   \n",
       "\n",
       "      contract_type_One year  contract_type_Two year  \\\n",
       "5911                       1                       0   \n",
       "2479                       1                       0   \n",
       "5889                       0                       0   \n",
       "6087                       0                       1   \n",
       "785                        1                       0   \n",
       "\n",
       "      payment_type_Credit card (automatic)  payment_type_Electronic check  \\\n",
       "5911                                     0                              0   \n",
       "2479                                     0                              1   \n",
       "5889                                     0                              0   \n",
       "6087                                     0                              0   \n",
       "785                                      1                              0   \n",
       "\n",
       "      payment_type_Mailed check  internet_service_type_Fiber optic  \\\n",
       "5911                          0                                  0   \n",
       "2479                          0                                  0   \n",
       "5889                          1                                  0   \n",
       "6087                          0                                  0   \n",
       "785                           0                                  1   \n",
       "\n",
       "      internet_service_type_None  \n",
       "5911                           0  \n",
       "2479                           1  \n",
       "5889                           0  \n",
       "6087                           0  \n",
       "785                            0  \n",
       "\n",
       "[5 rows x 23 columns]"
      ]
     },
     "execution_count": 109,
     "metadata": {},
     "output_type": "execute_result"
    }
   ],
   "source": [
    "# setting features (all numerical to go into the model)\n",
    "X_train = train[[\n",
    " 'gender',\n",
    " 'senior_citizen',\n",
    " 'partner',\n",
    " 'dependents',\n",
    " 'tenure',\n",
    " 'phone_service',\n",
    " 'multiple_lines',\n",
    " 'online_security',\n",
    " 'online_backup',\n",
    " 'device_protection',\n",
    " 'tech_support',\n",
    " 'streaming_tv',\n",
    " 'streaming_movies',\n",
    " 'paperless_billing',\n",
    " 'monthly_charges',\n",
    " 'total_charges',\n",
    " 'contract_type_One year',\n",
    " 'contract_type_Two year',\n",
    " 'payment_type_Credit card (automatic)',\n",
    " 'payment_type_Electronic check',\n",
    " 'payment_type_Mailed check',\n",
    " 'internet_service_type_Fiber optic',\n",
    " 'internet_service_type_None']]\n",
    "X_train.head()"
   ]
  },
  {
   "cell_type": "code",
   "execution_count": 110,
   "id": "6bc0c324",
   "metadata": {},
   "outputs": [],
   "source": [
    "# setting validate and test variables\n",
    "X_validate = validate[[\n",
    " 'gender',\n",
    " 'senior_citizen',\n",
    " 'partner',\n",
    " 'dependents',\n",
    " 'tenure',\n",
    " 'phone_service',\n",
    " 'multiple_lines',\n",
    " 'online_security',\n",
    " 'online_backup',\n",
    " 'device_protection',\n",
    " 'tech_support',\n",
    " 'streaming_tv',\n",
    " 'streaming_movies',\n",
    " 'paperless_billing',\n",
    " 'monthly_charges',\n",
    " 'total_charges',\n",
    " 'contract_type_One year',\n",
    " 'contract_type_Two year',\n",
    " 'payment_type_Credit card (automatic)',\n",
    " 'payment_type_Electronic check',\n",
    " 'payment_type_Mailed check',\n",
    " 'internet_service_type_Fiber optic',\n",
    " 'internet_service_type_None']]\n",
    "X_test = test[[\n",
    " 'gender',\n",
    " 'senior_citizen',\n",
    " 'partner',\n",
    " 'dependents',\n",
    " 'tenure',\n",
    " 'phone_service',\n",
    " 'multiple_lines',\n",
    " 'online_security',\n",
    " 'online_backup',\n",
    " 'device_protection',\n",
    " 'tech_support',\n",
    " 'streaming_tv',\n",
    " 'streaming_movies',\n",
    " 'paperless_billing',\n",
    " 'monthly_charges',\n",
    " 'total_charges',\n",
    " 'contract_type_One year',\n",
    " 'contract_type_Two year',\n",
    " 'payment_type_Credit card (automatic)',\n",
    " 'payment_type_Electronic check',\n",
    " 'payment_type_Mailed check',\n",
    " 'internet_service_type_Fiber optic',\n",
    " 'internet_service_type_None']]"
   ]
  },
  {
   "cell_type": "code",
   "execution_count": 111,
   "id": "690dcef8",
   "metadata": {},
   "outputs": [],
   "source": [
    "# setting target variable\n",
    "target = 'churn'"
   ]
  },
  {
   "cell_type": "code",
   "execution_count": 70,
   "id": "fcf960a3",
   "metadata": {},
   "outputs": [
    {
     "data": {
      "text/plain": [
       "5911    0\n",
       "2479    0\n",
       "5889    1\n",
       "6087    0\n",
       "785     0\n",
       "Name: churn, dtype: int64"
      ]
     },
     "execution_count": 70,
     "metadata": {},
     "output_type": "execute_result"
    }
   ],
   "source": [
    "# create variable and verify that it is a series and one column\n",
    "y_train = train[target]\n",
    "y_train.head()"
   ]
  },
  {
   "cell_type": "code",
   "execution_count": 71,
   "id": "4b5e0d4b",
   "metadata": {},
   "outputs": [],
   "source": [
    "# create for validate and test\n",
    "y_validate = validate[target]\n",
    "y_test = test[target]"
   ]
  },
  {
   "cell_type": "code",
   "execution_count": 72,
   "id": "49830af9",
   "metadata": {},
   "outputs": [
    {
     "data": {
      "text/plain": [
       "gender                                  0\n",
       "senior_citizen                          0\n",
       "partner                                 0\n",
       "dependents                              0\n",
       "tenure                                  0\n",
       "phone_service                           0\n",
       "multiple_lines                          0\n",
       "online_security                         0\n",
       "online_backup                           0\n",
       "device_protection                       0\n",
       "tech_support                            0\n",
       "streaming_tv                            0\n",
       "streaming_movies                        0\n",
       "paperless_billing                       0\n",
       "monthly_charges                         0\n",
       "total_charges                           0\n",
       "contract_type_One year                  0\n",
       "contract_type_Two year                  0\n",
       "payment_type_Credit card (automatic)    0\n",
       "payment_type_Electronic check           0\n",
       "payment_type_Mailed check               0\n",
       "internet_service_type_Fiber optic       0\n",
       "internet_service_type_None              0\n",
       "dtype: int64"
      ]
     },
     "execution_count": 72,
     "metadata": {},
     "output_type": "execute_result"
    }
   ],
   "source": [
    "X_validate.isnull().sum()"
   ]
  },
  {
   "cell_type": "markdown",
   "id": "aaf6992f",
   "metadata": {},
   "source": [
    "## `Make the Object`"
   ]
  },
  {
   "cell_type": "markdown",
   "id": "0cac2ccb",
   "metadata": {},
   "source": [
    "2. Fit the decision tree classifier to your training sample and transform (i.e. make predictions on the training sample)"
   ]
  },
  {
   "cell_type": "code",
   "execution_count": 73,
   "id": "4a52d3de",
   "metadata": {},
   "outputs": [
    {
     "data": {
      "text/plain": [
       "DecisionTreeClassifier()"
      ]
     },
     "execution_count": 73,
     "metadata": {},
     "output_type": "execute_result"
    }
   ],
   "source": [
    "clf = DecisionTreeClassifier()\n",
    "clf"
   ]
  },
  {
   "cell_type": "code",
   "execution_count": 74,
   "id": "e7e3226e",
   "metadata": {
    "scrolled": true
   },
   "outputs": [
    {
     "data": {
      "text/plain": [
       "DecisionTreeClassifier()"
      ]
     },
     "execution_count": 74,
     "metadata": {},
     "output_type": "execute_result"
    }
   ],
   "source": [
    "# fitting training data to model\n",
    "clf.fit(X_train, y_train)"
   ]
  },
  {
   "cell_type": "code",
   "execution_count": 75,
   "id": "cf0f6c79",
   "metadata": {},
   "outputs": [
    {
     "data": {
      "text/plain": [
       "0.9981065088757396"
      ]
     },
     "execution_count": 75,
     "metadata": {},
     "output_type": "execute_result"
    }
   ],
   "source": [
    "# transforming the model\n",
    "clf.score(X_train, y_train)"
   ]
  },
  {
   "cell_type": "markdown",
   "id": "9d736cec",
   "metadata": {},
   "source": [
    "## `Takeaways`\n",
    "\n",
    "* 99.8% accurate -- FISHY"
   ]
  },
  {
   "cell_type": "markdown",
   "id": "95f84bce",
   "metadata": {},
   "source": [
    "3. Compute: Accuracy, true positive rate, false positive rate, true negative rate, false negative rate, precision, recall, f1-score, and support."
   ]
  },
  {
   "cell_type": "code",
   "execution_count": 76,
   "id": "e52e6687",
   "metadata": {},
   "outputs": [],
   "source": [
    "# run classification report and confusion matrix!"
   ]
  },
  {
   "cell_type": "code",
   "execution_count": 77,
   "id": "517f05aa",
   "metadata": {},
   "outputs": [
    {
     "data": {
      "text/plain": [
       "[0, 1]"
      ]
     },
     "execution_count": 77,
     "metadata": {},
     "output_type": "execute_result"
    }
   ],
   "source": [
    "#find labels in our dataset & sort\n",
    "labels = sorted(y_train.unique())\n",
    "labels"
   ]
  },
  {
   "cell_type": "code",
   "execution_count": 78,
   "id": "0c993261",
   "metadata": {},
   "outputs": [
    {
     "data": {
      "text/plain": [
       "array([0, 0, 1, 0, 0])"
      ]
     },
     "execution_count": 78,
     "metadata": {},
     "output_type": "execute_result"
    }
   ],
   "source": [
    "# get y_pred values\n",
    "clf.predict(X_train)[:5]"
   ]
  },
  {
   "cell_type": "code",
   "execution_count": 79,
   "id": "d795fae1",
   "metadata": {},
   "outputs": [
    {
     "data": {
      "text/plain": [
       "array([0, 0, 1, 0, 0])"
      ]
     },
     "execution_count": 79,
     "metadata": {},
     "output_type": "execute_result"
    }
   ],
   "source": [
    "# create y_pred variable\n",
    "y_pred = clf.predict(X_train)\n",
    "y_pred[:5]"
   ]
  },
  {
   "cell_type": "code",
   "execution_count": 80,
   "id": "207e83b3",
   "metadata": {},
   "outputs": [
    {
     "data": {
      "text/plain": [
       "array([[3103,    1],\n",
       "       [   7, 1114]])"
      ]
     },
     "execution_count": 80,
     "metadata": {},
     "output_type": "execute_result"
    }
   ],
   "source": [
    "confusion_matrix(y_train, y_pred)"
   ]
  },
  {
   "cell_type": "code",
   "execution_count": 81,
   "id": "679443bc",
   "metadata": {},
   "outputs": [
    {
     "data": {
      "text/html": [
       "<div>\n",
       "<style scoped>\n",
       "    .dataframe tbody tr th:only-of-type {\n",
       "        vertical-align: middle;\n",
       "    }\n",
       "\n",
       "    .dataframe tbody tr th {\n",
       "        vertical-align: top;\n",
       "    }\n",
       "\n",
       "    .dataframe thead th {\n",
       "        text-align: right;\n",
       "    }\n",
       "</style>\n",
       "<table border=\"1\" class=\"dataframe\">\n",
       "  <thead>\n",
       "    <tr style=\"text-align: right;\">\n",
       "      <th></th>\n",
       "      <th>0</th>\n",
       "      <th>1</th>\n",
       "    </tr>\n",
       "  </thead>\n",
       "  <tbody>\n",
       "    <tr>\n",
       "      <th>0</th>\n",
       "      <td>3103</td>\n",
       "      <td>1</td>\n",
       "    </tr>\n",
       "    <tr>\n",
       "      <th>1</th>\n",
       "      <td>7</td>\n",
       "      <td>1114</td>\n",
       "    </tr>\n",
       "  </tbody>\n",
       "</table>\n",
       "</div>"
      ],
      "text/plain": [
       "      0     1\n",
       "0  3103     1\n",
       "1     7  1114"
      ]
     },
     "execution_count": 81,
     "metadata": {},
     "output_type": "execute_result"
    }
   ],
   "source": [
    "#make pretty with df\n",
    "pd.DataFrame(confusion_matrix(y_train, y_pred),\n",
    "            index=labels,\n",
    "            columns=labels)"
   ]
  },
  {
   "cell_type": "code",
   "execution_count": 82,
   "id": "2f5989b3",
   "metadata": {},
   "outputs": [
    {
     "name": "stdout",
     "output_type": "stream",
     "text": [
      "              precision    recall  f1-score   support\n",
      "\n",
      "           0       1.00      1.00      1.00      3104\n",
      "           1       1.00      0.99      1.00      1121\n",
      "\n",
      "    accuracy                           1.00      4225\n",
      "   macro avg       1.00      1.00      1.00      4225\n",
      "weighted avg       1.00      1.00      1.00      4225\n",
      "\n"
     ]
    }
   ],
   "source": [
    "# classification report\n",
    "print(classification_report(y_train, y_pred))"
   ]
  },
  {
   "cell_type": "markdown",
   "id": "02750f55",
   "metadata": {},
   "source": [
    ">>> ## Terrible model..."
   ]
  },
  {
   "cell_type": "markdown",
   "id": "46c47915",
   "metadata": {},
   "source": [
    "4. Run through steps 2-4 using a different max_depth value."
   ]
  },
  {
   "cell_type": "markdown",
   "id": "b93d39f1",
   "metadata": {},
   "source": [
    "    * going to remove columns to prevent over fitting the model and setting max_depth to 5."
   ]
  },
  {
   "cell_type": "markdown",
   "id": "b17de9fd",
   "metadata": {},
   "source": [
    "Categorical Takeaways: \n",
    "\n",
    "* significant:\n",
    "    * senior, partner, dependents, multiple lines, online security, online backup, device protection, tech support(), streaming tv, streaming movies, paperless billing(), contract type one year(), contract type two year(), payment type automatic, payment type electronic check(), payment type mailed check, internet service type fiber optic(), internet service type none()\n",
    "\n",
    "* not significant:\n",
    "    * gender, phone service\n",
    "\n",
    "Numerical Takeaways:\n",
    "\n",
    "* significant:\n",
    "    * tenure(), total charges()\n",
    "\n",
    "* not significant:\n",
    "    * monthly charges (deemed to be sig)"
   ]
  },
  {
   "cell_type": "code",
   "execution_count": 83,
   "id": "97f28392",
   "metadata": {},
   "outputs": [
    {
     "data": {
      "text/plain": [
       "['gender',\n",
       " 'senior_citizen',\n",
       " 'partner',\n",
       " 'dependents',\n",
       " 'tenure',\n",
       " 'phone_service',\n",
       " 'multiple_lines',\n",
       " 'online_security',\n",
       " 'online_backup',\n",
       " 'device_protection',\n",
       " 'tech_support',\n",
       " 'streaming_tv',\n",
       " 'streaming_movies',\n",
       " 'paperless_billing',\n",
       " 'monthly_charges',\n",
       " 'total_charges',\n",
       " 'contract_type_One year',\n",
       " 'contract_type_Two year',\n",
       " 'payment_type_Credit card (automatic)',\n",
       " 'payment_type_Electronic check',\n",
       " 'payment_type_Mailed check',\n",
       " 'internet_service_type_Fiber optic',\n",
       " 'internet_service_type_None']"
      ]
     },
     "execution_count": 83,
     "metadata": {},
     "output_type": "execute_result"
    }
   ],
   "source": [
    "X_train.columns.tolist()"
   ]
  },
  {
   "cell_type": "code",
   "execution_count": 84,
   "id": "362dde15",
   "metadata": {},
   "outputs": [],
   "source": [
    "# model isn't changing from 100% accuracy so I need to eliminate features\n",
    "# see above to eliminate and apply to all sets\n",
    "X_train = train[[\n",
    " 'partner',\n",
    " 'dependents',\n",
    " 'tenure',\n",
    " 'tech_support',\n",
    " 'paperless_billing',\n",
    " 'total_charges',\n",
    " 'monthly_charges',\n",
    " 'contract_type_One year',\n",
    " 'contract_type_Two year',\n",
    " 'payment_type_Credit card (automatic)',\n",
    " 'payment_type_Electronic check',\n",
    " 'payment_type_Mailed check',\n",
    " 'internet_service_type_Fiber optic',\n",
    " 'internet_service_type_None']]\n",
    "X_validate = validate[[\n",
    " 'partner',\n",
    " 'dependents',\n",
    " 'tenure',\n",
    " 'tech_support',\n",
    " 'paperless_billing',\n",
    " 'total_charges',\n",
    " 'monthly_charges',\n",
    " 'contract_type_One year',\n",
    " 'contract_type_Two year',\n",
    " 'payment_type_Credit card (automatic)',\n",
    " 'payment_type_Electronic check',\n",
    " 'payment_type_Mailed check',\n",
    " 'internet_service_type_Fiber optic',\n",
    " 'internet_service_type_None']]\n",
    "X_test = test[[\n",
    " 'partner',\n",
    " 'dependents',\n",
    " 'tenure',\n",
    " 'tech_support',\n",
    " 'paperless_billing',\n",
    " 'total_charges',\n",
    " 'monthly_charges',\n",
    " 'contract_type_One year',\n",
    " 'contract_type_Two year',\n",
    " 'payment_type_Credit card (automatic)',\n",
    " 'payment_type_Electronic check',\n",
    " 'payment_type_Mailed check',\n",
    " 'internet_service_type_Fiber optic',\n",
    " 'internet_service_type_None']]\n",
    "y_train = train[target]\n",
    "y_validate = validate[target]\n",
    "y_test = test[target]"
   ]
  },
  {
   "cell_type": "code",
   "execution_count": 85,
   "id": "5dbed8ae",
   "metadata": {},
   "outputs": [],
   "source": [
    "clf2 = DecisionTreeClassifier(max_depth=5)"
   ]
  },
  {
   "cell_type": "code",
   "execution_count": 86,
   "id": "0b06396a",
   "metadata": {},
   "outputs": [
    {
     "data": {
      "text/plain": [
       "DecisionTreeClassifier(max_depth=5)"
      ]
     },
     "execution_count": 86,
     "metadata": {},
     "output_type": "execute_result"
    }
   ],
   "source": [
    "clf2.fit(X_train, y_train)"
   ]
  },
  {
   "cell_type": "code",
   "execution_count": 87,
   "id": "f5b1bf47",
   "metadata": {},
   "outputs": [
    {
     "data": {
      "text/plain": [
       "0.8035502958579882"
      ]
     },
     "execution_count": 87,
     "metadata": {},
     "output_type": "execute_result"
    }
   ],
   "source": [
    "clf2.score(X_train, y_train)"
   ]
  },
  {
   "cell_type": "code",
   "execution_count": 88,
   "id": "c7efc915",
   "metadata": {},
   "outputs": [
    {
     "data": {
      "text/plain": [
       "73.47"
      ]
     },
     "execution_count": 88,
     "metadata": {},
     "output_type": "execute_result"
    }
   ],
   "source": [
    "baseline_accuracy"
   ]
  },
  {
   "cell_type": "markdown",
   "id": "089b7d5d",
   "metadata": {},
   "source": [
    "#### `Changed from 99.8% to 80%!!!! model 2 is looking promising and beating baseline accuracy of 73.5%`"
   ]
  },
  {
   "cell_type": "markdown",
   "id": "31274f50",
   "metadata": {},
   "source": [
    "5. Which model performs better on your in-sample data?\n",
    "\n",
    "    * model 2 (clf2!)"
   ]
  },
  {
   "cell_type": "markdown",
   "id": "45de2924",
   "metadata": {},
   "source": [
    "6. Which model performs best on your out-of-sample data, the validate set?"
   ]
  },
  {
   "cell_type": "code",
   "execution_count": 89,
   "id": "e280a1a5",
   "metadata": {
    "scrolled": true
   },
   "outputs": [
    {
     "data": {
      "text/plain": [
       "DecisionTreeClassifier()"
      ]
     },
     "execution_count": 89,
     "metadata": {},
     "output_type": "execute_result"
    }
   ],
   "source": [
    "# trying model 1 on validate set\n",
    "clf.fit(X_validate, y_validate)"
   ]
  },
  {
   "cell_type": "code",
   "execution_count": 90,
   "id": "7df159cb",
   "metadata": {},
   "outputs": [
    {
     "data": {
      "text/plain": [
       "1.0"
      ]
     },
     "execution_count": 90,
     "metadata": {},
     "output_type": "execute_result"
    }
   ],
   "source": [
    "clf.score(X_validate, y_validate)"
   ]
  },
  {
   "cell_type": "markdown",
   "id": "428e8f81",
   "metadata": {},
   "source": [
    "YUCK"
   ]
  },
  {
   "cell_type": "code",
   "execution_count": 91,
   "id": "d87a42c7",
   "metadata": {},
   "outputs": [
    {
     "data": {
      "text/plain": [
       "DecisionTreeClassifier(max_depth=5)"
      ]
     },
     "execution_count": 91,
     "metadata": {},
     "output_type": "execute_result"
    }
   ],
   "source": [
    "# trying model 2 on validate set\n",
    "clf2.fit(X_validate, y_validate)"
   ]
  },
  {
   "cell_type": "code",
   "execution_count": 92,
   "id": "60adca5d",
   "metadata": {},
   "outputs": [
    {
     "data": {
      "text/plain": [
       "0.8211497515968772"
      ]
     },
     "execution_count": 92,
     "metadata": {},
     "output_type": "execute_result"
    }
   ],
   "source": [
    "clf2.score(X_validate, y_validate)"
   ]
  },
  {
   "cell_type": "markdown",
   "id": "94aed250",
   "metadata": {},
   "source": [
    "YAY!"
   ]
  },
  {
   "cell_type": "code",
   "execution_count": 93,
   "id": "887dd81c",
   "metadata": {},
   "outputs": [
    {
     "data": {
      "text/plain": [
       "73.47"
      ]
     },
     "execution_count": 93,
     "metadata": {},
     "output_type": "execute_result"
    }
   ],
   "source": [
    "baseline_accuracy"
   ]
  },
  {
   "cell_type": "markdown",
   "id": "034335c8",
   "metadata": {},
   "source": [
    "## `Takeaways`"
   ]
  },
  {
   "cell_type": "markdown",
   "id": "6e51c67b",
   "metadata": {},
   "source": [
    "#### model 2 (clf2) is the best fit on the validate set with 82% accuracy beating the baseline of 73.5%.\n",
    "\n",
    "#### playing around (see below) model 3 (clf3) is a better fit with 96% accuracy beating the baseline of 73.5% and the train accuracy rate of 90%.\n",
    "\n",
    "    * I achieved this by limiting the features and expanding the depth"
   ]
  },
  {
   "cell_type": "markdown",
   "id": "a1289411",
   "metadata": {},
   "source": [
    "Test model that has tech support, internet type, contract type and tenure"
   ]
  },
  {
   "cell_type": "code",
   "execution_count": 94,
   "id": "fe965cfa",
   "metadata": {},
   "outputs": [
    {
     "data": {
      "text/plain": [
       "['customer_id',\n",
       " 'gender',\n",
       " 'senior_citizen',\n",
       " 'partner',\n",
       " 'dependents',\n",
       " 'tenure',\n",
       " 'phone_service',\n",
       " 'multiple_lines',\n",
       " 'online_security',\n",
       " 'online_backup',\n",
       " 'device_protection',\n",
       " 'tech_support',\n",
       " 'streaming_tv',\n",
       " 'streaming_movies',\n",
       " 'paperless_billing',\n",
       " 'monthly_charges',\n",
       " 'total_charges',\n",
       " 'churn',\n",
       " 'contract_type',\n",
       " 'internet_service_type',\n",
       " 'payment_type',\n",
       " 'contract_type_One year',\n",
       " 'contract_type_Two year',\n",
       " 'payment_type_Credit card (automatic)',\n",
       " 'payment_type_Electronic check',\n",
       " 'payment_type_Mailed check',\n",
       " 'internet_service_type_Fiber optic',\n",
       " 'internet_service_type_None',\n",
       " 'baseline']"
      ]
     },
     "execution_count": 94,
     "metadata": {},
     "output_type": "execute_result"
    }
   ],
   "source": [
    "train.columns.tolist()"
   ]
  },
  {
   "cell_type": "code",
   "execution_count": 95,
   "id": "89c51136",
   "metadata": {},
   "outputs": [],
   "source": [
    "X_train1 = train[['tech_support',\n",
    "                  'internet_service_type_Fiber optic',\n",
    "                  'tenure',\n",
    "                  'contract_type_One year',\n",
    "                  'total_charges']]"
   ]
  },
  {
   "cell_type": "code",
   "execution_count": 96,
   "id": "cee43a1e",
   "metadata": {},
   "outputs": [],
   "source": [
    "X_validate1 = validate[['tech_support',\n",
    "                  'internet_service_type_Fiber optic',\n",
    "                  'tenure',\n",
    "                  'contract_type_One year',\n",
    "                  'total_charges']]\n",
    "X_test1 = test[['tech_support',\n",
    "                  'internet_service_type_Fiber optic',\n",
    "                  'tenure',\n",
    "                  'contract_type_One year',\n",
    "                  'total_charges']]\n",
    "y_train1 = train[target]\n",
    "y_validate1 = validate[target]\n",
    "y_test1 = test[target]"
   ]
  },
  {
   "cell_type": "code",
   "execution_count": 97,
   "id": "b8b31dac",
   "metadata": {},
   "outputs": [
    {
     "data": {
      "text/html": [
       "<div>\n",
       "<style scoped>\n",
       "    .dataframe tbody tr th:only-of-type {\n",
       "        vertical-align: middle;\n",
       "    }\n",
       "\n",
       "    .dataframe tbody tr th {\n",
       "        vertical-align: top;\n",
       "    }\n",
       "\n",
       "    .dataframe thead th {\n",
       "        text-align: right;\n",
       "    }\n",
       "</style>\n",
       "<table border=\"1\" class=\"dataframe\">\n",
       "  <thead>\n",
       "    <tr style=\"text-align: right;\">\n",
       "      <th></th>\n",
       "      <th>tech_support</th>\n",
       "      <th>internet_service_type_Fiber optic</th>\n",
       "      <th>tenure</th>\n",
       "      <th>contract_type_One year</th>\n",
       "      <th>total_charges</th>\n",
       "    </tr>\n",
       "  </thead>\n",
       "  <tbody>\n",
       "    <tr>\n",
       "      <th>5911</th>\n",
       "      <td>0</td>\n",
       "      <td>0</td>\n",
       "      <td>26</td>\n",
       "      <td>1</td>\n",
       "      <td>1023.75</td>\n",
       "    </tr>\n",
       "    <tr>\n",
       "      <th>2479</th>\n",
       "      <td>0</td>\n",
       "      <td>0</td>\n",
       "      <td>47</td>\n",
       "      <td>1</td>\n",
       "      <td>1250.85</td>\n",
       "    </tr>\n",
       "    <tr>\n",
       "      <th>5889</th>\n",
       "      <td>0</td>\n",
       "      <td>0</td>\n",
       "      <td>1</td>\n",
       "      <td>0</td>\n",
       "      <td>50.45</td>\n",
       "    </tr>\n",
       "    <tr>\n",
       "      <th>6087</th>\n",
       "      <td>1</td>\n",
       "      <td>0</td>\n",
       "      <td>69</td>\n",
       "      <td>0</td>\n",
       "      <td>4176.70</td>\n",
       "    </tr>\n",
       "    <tr>\n",
       "      <th>785</th>\n",
       "      <td>0</td>\n",
       "      <td>1</td>\n",
       "      <td>51</td>\n",
       "      <td>1</td>\n",
       "      <td>4475.90</td>\n",
       "    </tr>\n",
       "    <tr>\n",
       "      <th>...</th>\n",
       "      <td>...</td>\n",
       "      <td>...</td>\n",
       "      <td>...</td>\n",
       "      <td>...</td>\n",
       "      <td>...</td>\n",
       "    </tr>\n",
       "    <tr>\n",
       "      <th>6102</th>\n",
       "      <td>0</td>\n",
       "      <td>1</td>\n",
       "      <td>2</td>\n",
       "      <td>0</td>\n",
       "      <td>165.00</td>\n",
       "    </tr>\n",
       "    <tr>\n",
       "      <th>356</th>\n",
       "      <td>1</td>\n",
       "      <td>0</td>\n",
       "      <td>52</td>\n",
       "      <td>0</td>\n",
       "      <td>2566.30</td>\n",
       "    </tr>\n",
       "    <tr>\n",
       "      <th>1756</th>\n",
       "      <td>0</td>\n",
       "      <td>1</td>\n",
       "      <td>4</td>\n",
       "      <td>0</td>\n",
       "      <td>237.95</td>\n",
       "    </tr>\n",
       "    <tr>\n",
       "      <th>2127</th>\n",
       "      <td>0</td>\n",
       "      <td>0</td>\n",
       "      <td>35</td>\n",
       "      <td>0</td>\n",
       "      <td>1924.10</td>\n",
       "    </tr>\n",
       "    <tr>\n",
       "      <th>3586</th>\n",
       "      <td>1</td>\n",
       "      <td>0</td>\n",
       "      <td>10</td>\n",
       "      <td>1</td>\n",
       "      <td>685.55</td>\n",
       "    </tr>\n",
       "  </tbody>\n",
       "</table>\n",
       "<p>4225 rows × 5 columns</p>\n",
       "</div>"
      ],
      "text/plain": [
       "      tech_support  internet_service_type_Fiber optic  tenure  \\\n",
       "5911             0                                  0      26   \n",
       "2479             0                                  0      47   \n",
       "5889             0                                  0       1   \n",
       "6087             1                                  0      69   \n",
       "785              0                                  1      51   \n",
       "...            ...                                ...     ...   \n",
       "6102             0                                  1       2   \n",
       "356              1                                  0      52   \n",
       "1756             0                                  1       4   \n",
       "2127             0                                  0      35   \n",
       "3586             1                                  0      10   \n",
       "\n",
       "      contract_type_One year  total_charges  \n",
       "5911                       1        1023.75  \n",
       "2479                       1        1250.85  \n",
       "5889                       0          50.45  \n",
       "6087                       0        4176.70  \n",
       "785                        1        4475.90  \n",
       "...                      ...            ...  \n",
       "6102                       0         165.00  \n",
       "356                        0        2566.30  \n",
       "1756                       0         237.95  \n",
       "2127                       0        1924.10  \n",
       "3586                       1         685.55  \n",
       "\n",
       "[4225 rows x 5 columns]"
      ]
     },
     "execution_count": 97,
     "metadata": {},
     "output_type": "execute_result"
    }
   ],
   "source": [
    "X_train1"
   ]
  },
  {
   "cell_type": "code",
   "execution_count": 98,
   "id": "b7958f35",
   "metadata": {},
   "outputs": [],
   "source": [
    "clf3 = DecisionTreeClassifier(max_depth=13)"
   ]
  },
  {
   "cell_type": "code",
   "execution_count": 99,
   "id": "4a4f6fa2",
   "metadata": {},
   "outputs": [
    {
     "data": {
      "text/plain": [
       "DecisionTreeClassifier(max_depth=13)"
      ]
     },
     "execution_count": 99,
     "metadata": {},
     "output_type": "execute_result"
    }
   ],
   "source": [
    "clf3.fit(X_train1, y_train1)"
   ]
  },
  {
   "cell_type": "code",
   "execution_count": 100,
   "id": "6857e05a",
   "metadata": {},
   "outputs": [
    {
     "data": {
      "text/plain": [
       "0.8996449704142012"
      ]
     },
     "execution_count": 100,
     "metadata": {},
     "output_type": "execute_result"
    }
   ],
   "source": [
    "clf3.score(X_train1, y_train1)"
   ]
  },
  {
   "cell_type": "code",
   "execution_count": 101,
   "id": "e8db2a0b",
   "metadata": {},
   "outputs": [
    {
     "data": {
      "text/plain": [
       "DecisionTreeClassifier(max_depth=13)"
      ]
     },
     "execution_count": 101,
     "metadata": {},
     "output_type": "execute_result"
    }
   ],
   "source": [
    "clf3.fit(X_validate1, y_validate1)"
   ]
  },
  {
   "cell_type": "code",
   "execution_count": 102,
   "id": "4c603ca3",
   "metadata": {
    "scrolled": true
   },
   "outputs": [
    {
     "data": {
      "text/plain": [
       "0.9581263307310149"
      ]
     },
     "execution_count": 102,
     "metadata": {},
     "output_type": "execute_result"
    }
   ],
   "source": [
    "clf3.score(X_validate1, y_validate1)"
   ]
  },
  {
   "cell_type": "code",
   "execution_count": 103,
   "id": "d1be8710",
   "metadata": {},
   "outputs": [
    {
     "data": {
      "text/plain": [
       "array([0, 0, 1, 0, 1])"
      ]
     },
     "execution_count": 103,
     "metadata": {},
     "output_type": "execute_result"
    }
   ],
   "source": [
    "y_pred = clf3.predict(X_validate1)\n",
    "y_pred[:5]"
   ]
  },
  {
   "cell_type": "code",
   "execution_count": 104,
   "id": "1d55ae18",
   "metadata": {},
   "outputs": [
    {
     "data": {
      "text/plain": [
       "array([[1015,   20],\n",
       "       [  39,  335]])"
      ]
     },
     "execution_count": 104,
     "metadata": {},
     "output_type": "execute_result"
    }
   ],
   "source": [
    "confusion_matrix(y_validate1, y_pred)"
   ]
  },
  {
   "cell_type": "code",
   "execution_count": 105,
   "id": "0285973e",
   "metadata": {},
   "outputs": [
    {
     "data": {
      "text/html": [
       "<div>\n",
       "<style scoped>\n",
       "    .dataframe tbody tr th:only-of-type {\n",
       "        vertical-align: middle;\n",
       "    }\n",
       "\n",
       "    .dataframe tbody tr th {\n",
       "        vertical-align: top;\n",
       "    }\n",
       "\n",
       "    .dataframe thead th {\n",
       "        text-align: right;\n",
       "    }\n",
       "</style>\n",
       "<table border=\"1\" class=\"dataframe\">\n",
       "  <thead>\n",
       "    <tr style=\"text-align: right;\">\n",
       "      <th></th>\n",
       "      <th>0</th>\n",
       "      <th>1</th>\n",
       "    </tr>\n",
       "  </thead>\n",
       "  <tbody>\n",
       "    <tr>\n",
       "      <th>0</th>\n",
       "      <td>1015</td>\n",
       "      <td>20</td>\n",
       "    </tr>\n",
       "    <tr>\n",
       "      <th>1</th>\n",
       "      <td>39</td>\n",
       "      <td>335</td>\n",
       "    </tr>\n",
       "  </tbody>\n",
       "</table>\n",
       "</div>"
      ],
      "text/plain": [
       "      0    1\n",
       "0  1015   20\n",
       "1    39  335"
      ]
     },
     "execution_count": 105,
     "metadata": {},
     "output_type": "execute_result"
    }
   ],
   "source": [
    "pd.DataFrame(confusion_matrix(y_validate1, y_pred))"
   ]
  },
  {
   "cell_type": "code",
   "execution_count": 106,
   "id": "129b854f",
   "metadata": {},
   "outputs": [
    {
     "name": "stdout",
     "output_type": "stream",
     "text": [
      "              precision    recall  f1-score   support\n",
      "\n",
      "           0       0.96      0.98      0.97      1035\n",
      "           1       0.94      0.90      0.92       374\n",
      "\n",
      "    accuracy                           0.96      1409\n",
      "   macro avg       0.95      0.94      0.95      1409\n",
      "weighted avg       0.96      0.96      0.96      1409\n",
      "\n"
     ]
    }
   ],
   "source": [
    "print(classification_report(y_validate1, y_pred))"
   ]
  },
  {
   "cell_type": "markdown",
   "id": "2e947546",
   "metadata": {},
   "source": [
    "## `Takeaways`"
   ]
  },
  {
   "cell_type": "markdown",
   "id": "8c70084c",
   "metadata": {},
   "source": [
    "#### model 2 (clf2) is the best fit on the validate set with 82% accuracy beating the baseline of 73.5%.\n",
    "\n",
    "#### playing around (see below) model 3 (clf3) is a better fit with 96% accuracy beating the baseline of 73.5% and the train accuracy rate of 90%.\n",
    "\n",
    "    * I achieved this by limiting the features and expanding the depth"
   ]
  },
  {
   "cell_type": "markdown",
   "id": "cb823e20",
   "metadata": {},
   "source": [
    "`Testing Area for Functions`"
   ]
  },
  {
   "cell_type": "code",
   "execution_count": 121,
   "id": "e4b2348d",
   "metadata": {},
   "outputs": [],
   "source": [
    "def classifier_tree_eval(df, target, X_train, y_train, X_validate, y_validate):\n",
    "    ''' This function is to calculate the best classifier decision tree model by running \n",
    "    a for loop to explore the max depth per default range (1,20).\n",
    "\n",
    "    The loop then makes a list of lists of all max depth calculations, compares the\n",
    "    accuracy between train and validate sets, turns to df, and adds a new column named\n",
    "    difference. The function then calculates the baseline accuracy and plots the\n",
    "    baseline, and the train and validate sets to identify where overfitting occurs.\n",
    "\n",
    "    Requires:\n",
    "    import pandas as pd\n",
    "    import numpy as np\n",
    "    import matplotlib.pyplot as plt\n",
    "    from sklearn.tree import DecisionTreeClassifier\n",
    "    '''\n",
    "    scores_all=[]\n",
    "    import pandas as pd\n",
    "    import numpy as np\n",
    "    import matplotlib.pyplot as plt\n",
    "    from sklearn.tree import DecisionTreeClassifier\n",
    "    import warnings\n",
    "    warnings.filterwarnings(\"ignore\")\n",
    "    for x in range(1,20):\n",
    "        tree = DecisionTreeClassifier(max_depth=x)\n",
    "        tree.fit(X_train, y_train)\n",
    "        train_acc = tree.score(X_train, y_train)\n",
    "        print(f\"For depth of {x:2}, the accuracy is {round(train_acc,2)}\")\n",
    "        \n",
    "        # evaludate on validate set\n",
    "        validate_acc = tree.score(X_validate, y_validate)\n",
    "\n",
    "        # append to df scores_all\n",
    "        scores_all.append([x, train_acc, validate_acc])\n",
    "\n",
    "        # turn to df\n",
    "        scores_df = pd.DataFrame(scores_all, columns=['max_depth', 'train_acc', 'validate_acc'])\n",
    "\n",
    "        # make new column\n",
    "        scores_df['difference'] = scores_df.train_acc - scores_df.validate_acc\n",
    "\n",
    "        # sort on difference\n",
    "        scores_df.sort_values('difference')\n",
    "\n",
    "        # establish baseline accuracy\n",
    "    baseline_accuracy = ((df[{target}].value_counts().max()) /\\\n",
    "                         (df[{target}].value_counts().sum()))\n",
    "    print()\n",
    "    print(f'The baseline accuracy is {round(baseline_accuracy,2)}')\n",
    "          \n",
    "        # can plot to visulaize\n",
    "    plt.figure(figsize=(12,8))\n",
    "    plt.plot(scores_df.max_depth, scores_df.train_acc, label='train', marker='o')\n",
    "    plt.plot(scores_df.max_depth, scores_df.validate_acc, label='validate', marker='o')\n",
    "    plt.axhline(baseline_accuracy, linewidth=2, color='black', label='baseline')\n",
    "    plt.xlabel('Max Depth for Decision Tree')\n",
    "    plt.ylabel('Accuracy')\n",
    "    plt.xticks(np.arange(1,20, step=1))\n",
    "    plt.title('Where do I begin to overfit?')\n",
    "    plt.legend()\n",
    "    plt.show()\n",
    "\n",
    "# select a model before the split of the two graphs. A large split indicates overfitting\n",
    "# when selecing the depth to run with select the point where the difference between\n",
    "# the train and validate set is the smallest before they seperate."
   ]
  },
  {
   "cell_type": "code",
   "execution_count": 122,
   "id": "58362853",
   "metadata": {
    "scrolled": true
   },
   "outputs": [
    {
     "name": "stdout",
     "output_type": "stream",
     "text": [
      "For depth of  1, the accuracy is 0.73\n",
      "For depth of  2, the accuracy is 0.79\n",
      "For depth of  3, the accuracy is 0.79\n",
      "For depth of  4, the accuracy is 0.79\n",
      "For depth of  5, the accuracy is 0.8\n",
      "For depth of  6, the accuracy is 0.81\n",
      "For depth of  7, the accuracy is 0.82\n",
      "For depth of  8, the accuracy is 0.84\n",
      "For depth of  9, the accuracy is 0.86\n",
      "For depth of 10, the accuracy is 0.88\n",
      "For depth of 11, the accuracy is 0.91\n",
      "For depth of 12, the accuracy is 0.93\n",
      "For depth of 13, the accuracy is 0.95\n",
      "For depth of 14, the accuracy is 0.96\n",
      "For depth of 15, the accuracy is 0.98\n",
      "For depth of 16, the accuracy is 0.98\n",
      "For depth of 17, the accuracy is 0.99\n",
      "For depth of 18, the accuracy is 0.99\n",
      "For depth of 19, the accuracy is 0.99\n",
      "\n",
      "The baseline accuracy is 0.73\n"
     ]
    },
    {
     "data": {
      "image/png": "[encoded data removed]",
      "text/plain": [
       "<Figure size 1200x800 with 1 Axes>"
      ]
     },
     "metadata": {},
     "output_type": "display_data"
    }
   ],
   "source": [
    "classifier_tree_eval(train, 'churn', X_train, y_train, X_validate, y_validate)"
   ]
  },
  {
   "cell_type": "code",
   "execution_count": 150,
   "id": "61cf7b63",
   "metadata": {},
   "outputs": [],
   "source": [
    "def random_forest_eval(X_train, y_train, X_validate, y_validate):\n",
    "    ''' This function is to calculate the best random forest decision tree model by running \n",
    "    a for loop to explore the max depth per default range (1,20).\n",
    "\n",
    "    The loop then makes a list of lists of all max depth calculations, compares the\n",
    "    accuracy between train and validate sets, turns to df, and adds a new column named\n",
    "    difference. The function then calculates the baseline accuracy and plots the\n",
    "    baseline, and the train and validate sets to identify where overfitting occurs.\n",
    "    '''\n",
    "    scores_all=[]\n",
    "\n",
    "    import pandas as pd\n",
    "    import numpy as np\n",
    "    import matplotlib.pyplot as plt\n",
    "    from sklearn.ensemble import RandomForestClassifier\n",
    "    import warnings\n",
    "    warnings.filterwarnings(\"ignore\")\n",
    "\n",
    "    for x in range(1,11):\n",
    "        rf = RandomForestClassifier(random_state = 123,max_depth = x)\n",
    "        rf.fit(X_train, y_train)\n",
    "        train_acc = rf.score(X_train, y_train)\n",
    "        print(f\"For depth of {x:2}, the accuracy is {round(train_acc,2)}\")\n",
    "        \n",
    "        # establish feature importance variable\n",
    "        important_features = rf.feature_importances_\n",
    "        \n",
    "        # evaluate on validate set\n",
    "        validate_acc = rf.score(X_validate, y_validate)\n",
    "\n",
    "        # append to df scores_all\n",
    "        scores_all.append([x, train_acc, validate_acc])\n",
    "\n",
    "        # turn to df\n",
    "        scores_df = pd.DataFrame(scores_all, columns=['max_depth', 'train_acc', 'validate_acc'])\n",
    "\n",
    "        # make new column\n",
    "        scores_df['difference'] = scores_df.train_acc - scores_df.validate_acc\n",
    "\n",
    "        # sort on difference\n",
    "        scores_df.sort_values('difference')\n",
    "\n",
    "        # establish baseline accuracy\n",
    "    baseline_accuracy = (y_train == 0).mean()\n",
    "    print()\n",
    "    print(f'The baseline accuracy is {round(baseline_accuracy,2)}')\n",
    "          \n",
    "        # plot to visulaize train and validate accuracies for best fit\n",
    "    plt.figure(figsize=(12,8))\n",
    "    plt.plot(scores_df.max_depth, scores_df.train_acc, label='train', marker='o')\n",
    "    plt.plot(scores_df.max_depth, scores_df.validate_acc, label='validate', marker='o')\n",
    "    plt.axhline(baseline_accuracy, linewidth=2, color='black', label='baseline')\n",
    "    plt.xlabel('Max Depth for Random Forest')\n",
    "    plt.ylabel('Accuracy')\n",
    "    plt.xticks(np.arange(1,11, step=1))\n",
    "    plt.title('Where do I begin to overfit?')\n",
    "    plt.legend()\n",
    "    plt.show()\n",
    "    \n",
    "        # plot feature importance\n",
    "    plt.figure(figsize=(12,12))\n",
    "    plt.bar(X_train.columns, important_features)\n",
    "    plt.xticks(rotation = 60)\n",
    "    plt.show()    "
   ]
  },
  {
   "cell_type": "code",
   "execution_count": 151,
   "id": "4cef5011",
   "metadata": {
    "scrolled": false
   },
   "outputs": [
    {
     "name": "stdout",
     "output_type": "stream",
     "text": [
      "For depth of  1, the accuracy is 0.73\n",
      "For depth of  2, the accuracy is 0.76\n",
      "For depth of  3, the accuracy is 0.78\n",
      "For depth of  4, the accuracy is 0.79\n",
      "For depth of  5, the accuracy is 0.8\n",
      "For depth of  6, the accuracy is 0.81\n",
      "For depth of  7, the accuracy is 0.83\n",
      "For depth of  8, the accuracy is 0.84\n",
      "For depth of  9, the accuracy is 0.86\n",
      "For depth of 10, the accuracy is 0.89\n",
      "\n",
      "The baseline accuracy is 0.73\n"
     ]
    },
    {
     "data": {
      "image/png": "[encoded data removed]",
      "text/plain": [
       "<Figure size 1200x800 with 1 Axes>"
      ]
     },
     "metadata": {},
     "output_type": "display_data"
    },
    {
     "data": {
      "image/png": "[encoded data removed]",
      "text/plain": [
       "<Figure size 1200x1200 with 1 Axes>"
      ]
     },
     "metadata": {},
     "output_type": "display_data"
    }
   ],
   "source": [
    "random_forest_eval(X_train, y_train, X_validate, y_validate)"
   ]
  }
 ],
 "metadata": {
  "kernelspec": {
   "display_name": "Python 3 (ipykernel)",
   "language": "python",
   "name": "python3"
  },
  "language_info": {
   "codemirror_mode": {
    "name": "ipython",
    "version": 3
   },
   "file_extension": ".py",
   "mimetype": "text/x-python",
   "name": "python",
   "nbconvert_exporter": "python",
   "pygments_lexer": "ipython3",
   "version": "3.9.13"
  }
 },
 "nbformat": 4,
 "nbformat_minor": 5
}
