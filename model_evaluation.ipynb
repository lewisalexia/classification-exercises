{
 "cells": [
  {
   "cell_type": "code",
   "execution_count": 2,
   "id": "306d6956",
   "metadata": {},
   "outputs": [],
   "source": [
    "import pandas as pd"
   ]
  },
  {
   "cell_type": "markdown",
   "id": "be7063f9",
   "metadata": {},
   "source": [
    "## 2"
   ]
  },
  {
   "cell_type": "markdown",
   "id": "2f311f4c",
   "metadata": {},
   "source": [
    "|               | actual dog | actual cat |\n",
    "|:------------  |-----------:|-----------:|\n",
    "| pred.  dog    |         46 |         13 |\n",
    "| pred.  cat    |         7  |         34 |\n"
   ]
  },
  {
   "cell_type": "markdown",
   "id": "816efc9a",
   "metadata": {},
   "source": [
    "POSITIVE CASE: DOG\n",
    "\n",
    "NEGATIVE CASE: CAT\n",
    "\n",
    "* In the context of this problem, what is a false positive?\n",
    "    * FP: pred dog / actual cat\n",
    "* In the context of this problem, what is a false negative?\n",
    "    * FN: pred cat / actual dog\n",
    "* How would you describe this model?\n",
    "    * Overall accurate: \n",
    "        * TP + TN / TP + TN + FP + FN = Accurate\n",
    "        * 46 + 34 / 46 + 34 + 13 + 7 = Accurate\n",
    "        * 80 / 100 = 80% Accurate"
   ]
  },
  {
   "cell_type": "markdown",
   "id": "76cf5110",
   "metadata": {},
   "source": [
    " ## 3"
   ]
  },
  {
   "cell_type": "markdown",
   "id": "fe60f58a",
   "metadata": {},
   "source": [
    "An internal team wants to investigate the cause of the manufacturing defects. They tell you that they want to identify as many of the ducks that have a defect as possible. Which evaluation metric would be appropriate here? Which model would be the best fit for this use case?"
   ]
  },
  {
   "cell_type": "markdown",
   "id": "6a0c815b",
   "metadata": {},
   "source": [
    "* Positive case is defect\n",
    "* Negative case is not defect\n",
    "\n",
    "* Team Want: Identify as many defect ducks as possible\n",
    "    * METRIC: pred is defect and actual is defect (TP)... Recall\n",
    "    * MODEL: Model 3"
   ]
  },
  {
   "cell_type": "code",
   "execution_count": 4,
   "id": "970eda6a",
   "metadata": {},
   "outputs": [
    {
     "name": "stdout",
     "output_type": "stream",
     "text": [
      "<class 'pandas.core.frame.DataFrame'>\n",
      "RangeIndex: 200 entries, 0 to 199\n",
      "Data columns (total 4 columns):\n",
      " #   Column  Non-Null Count  Dtype \n",
      "---  ------  --------------  ----- \n",
      " 0   actual  200 non-null    object\n",
      " 1   model1  200 non-null    object\n",
      " 2   model2  200 non-null    object\n",
      " 3   model3  200 non-null    object\n",
      "dtypes: object(4)\n",
      "memory usage: 6.4+ KB\n"
     ]
    }
   ],
   "source": [
    "c3 = pd.read_csv('c3.csv')\n",
    "c3.info()"
   ]
  },
  {
   "cell_type": "code",
   "execution_count": 128,
   "id": "b9c4db8c",
   "metadata": {},
   "outputs": [
    {
     "data": {
      "text/plain": [
       "No Defect    0.92\n",
       "Defect       0.08\n",
       "Name: actual, dtype: float64"
      ]
     },
     "execution_count": 128,
     "metadata": {},
     "output_type": "execute_result"
    }
   ],
   "source": [
    "c3.actual.value_counts(normalize=True)"
   ]
  },
  {
   "cell_type": "code",
   "execution_count": 133,
   "id": "088b54c0",
   "metadata": {},
   "outputs": [],
   "source": [
    "#positive class\n",
    "c3['baseline'] = 'Defect'\n",
    "#negative class\n",
    "#NO DEFECT"
   ]
  },
  {
   "cell_type": "code",
   "execution_count": 134,
   "id": "d2f793fb",
   "metadata": {
    "scrolled": true
   },
   "outputs": [
    {
     "data": {
      "text/html": [
       "<div>\n",
       "<style scoped>\n",
       "    .dataframe tbody tr th:only-of-type {\n",
       "        vertical-align: middle;\n",
       "    }\n",
       "\n",
       "    .dataframe tbody tr th {\n",
       "        vertical-align: top;\n",
       "    }\n",
       "\n",
       "    .dataframe thead th {\n",
       "        text-align: right;\n",
       "    }\n",
       "</style>\n",
       "<table border=\"1\" class=\"dataframe\">\n",
       "  <thead>\n",
       "    <tr style=\"text-align: right;\">\n",
       "      <th></th>\n",
       "      <th>actual</th>\n",
       "      <th>model1</th>\n",
       "      <th>model2</th>\n",
       "      <th>model3</th>\n",
       "      <th>baseline</th>\n",
       "    </tr>\n",
       "  </thead>\n",
       "  <tbody>\n",
       "    <tr>\n",
       "      <th>0</th>\n",
       "      <td>No Defect</td>\n",
       "      <td>No Defect</td>\n",
       "      <td>Defect</td>\n",
       "      <td>No Defect</td>\n",
       "      <td>Defect</td>\n",
       "    </tr>\n",
       "    <tr>\n",
       "      <th>1</th>\n",
       "      <td>No Defect</td>\n",
       "      <td>No Defect</td>\n",
       "      <td>Defect</td>\n",
       "      <td>Defect</td>\n",
       "      <td>Defect</td>\n",
       "    </tr>\n",
       "    <tr>\n",
       "      <th>2</th>\n",
       "      <td>No Defect</td>\n",
       "      <td>No Defect</td>\n",
       "      <td>Defect</td>\n",
       "      <td>No Defect</td>\n",
       "      <td>Defect</td>\n",
       "    </tr>\n",
       "    <tr>\n",
       "      <th>3</th>\n",
       "      <td>No Defect</td>\n",
       "      <td>Defect</td>\n",
       "      <td>Defect</td>\n",
       "      <td>Defect</td>\n",
       "      <td>Defect</td>\n",
       "    </tr>\n",
       "    <tr>\n",
       "      <th>4</th>\n",
       "      <td>No Defect</td>\n",
       "      <td>No Defect</td>\n",
       "      <td>Defect</td>\n",
       "      <td>No Defect</td>\n",
       "      <td>Defect</td>\n",
       "    </tr>\n",
       "  </tbody>\n",
       "</table>\n",
       "</div>"
      ],
      "text/plain": [
       "      actual     model1  model2     model3 baseline\n",
       "0  No Defect  No Defect  Defect  No Defect   Defect\n",
       "1  No Defect  No Defect  Defect     Defect   Defect\n",
       "2  No Defect  No Defect  Defect  No Defect   Defect\n",
       "3  No Defect     Defect  Defect     Defect   Defect\n",
       "4  No Defect  No Defect  Defect  No Defect   Defect"
      ]
     },
     "execution_count": 134,
     "metadata": {},
     "output_type": "execute_result"
    }
   ],
   "source": [
    "c3.head()"
   ]
  },
  {
   "cell_type": "code",
   "execution_count": 135,
   "id": "52486e8f",
   "metadata": {},
   "outputs": [],
   "source": [
    "# ADDED A COLUMN HERE FOR BASELINE TO BE SET TO DEFECT"
   ]
  },
  {
   "cell_type": "code",
   "execution_count": 145,
   "id": "172dd157",
   "metadata": {
    "scrolled": true
   },
   "outputs": [
    {
     "name": "stdout",
     "output_type": "stream",
     "text": [
      "MODEL1\n",
      "              precision    recall  f1-score   support\n",
      "\n",
      "      Defect       0.80      0.50      0.62        16\n",
      "\n",
      "   micro avg       0.80      0.50      0.62        16\n",
      "   macro avg       0.80      0.50      0.62        16\n",
      "weighted avg       0.80      0.50      0.62        16\n",
      "\n",
      "MODEL2\n",
      "              precision    recall  f1-score   support\n",
      "\n",
      "      Defect       0.10      0.56      0.17        16\n",
      "\n",
      "   micro avg       0.10      0.56      0.17        16\n",
      "   macro avg       0.10      0.56      0.17        16\n",
      "weighted avg       0.10      0.56      0.17        16\n",
      "\n",
      "MODEL3\n",
      "              precision    recall  f1-score   support\n",
      "\n",
      "      Defect       0.13      0.81      0.23        16\n",
      "\n",
      "   micro avg       0.13      0.81      0.23        16\n",
      "   macro avg       0.13      0.81      0.23        16\n",
      "weighted avg       0.13      0.81      0.23        16\n",
      "\n",
      "BASELINE\n",
      "              precision    recall  f1-score   support\n",
      "\n",
      "      Defect       0.08      1.00      0.15        16\n",
      "\n",
      "   micro avg       0.08      1.00      0.15        16\n",
      "   macro avg       0.08      1.00      0.15        16\n",
      "weighted avg       0.08      1.00      0.15        16\n",
      "\n"
     ]
    }
   ],
   "source": [
    "#Accuracy for all three models\n",
    "for col in c3.columns[1:]:\n",
    "    y_actual = c3.actual\n",
    "    y_pred = c3[col]\n",
    "    # Classification report\n",
    "    print(col.upper())\n",
    "    print(classification_report(y_actual, y_pred, labels = ['Defect']))"
   ]
  },
  {
   "cell_type": "markdown",
   "id": "76b133c4",
   "metadata": {},
   "source": [
    "> ## model 3 at 81% and recall for defects"
   ]
  },
  {
   "cell_type": "markdown",
   "id": "d8babc9a",
   "metadata": {},
   "source": [
    "Recently several stories in the local news have come out highlighting customers who received a rubber duck with a defect, and portraying C3 in a bad light. The PR team has decided to launch a program that gives customers with a defective duck a vacation to Hawaii. They need you to predict which ducks will have defects, but tell you they really don't want to accidentally give out a vacation package when the duck really doesn't have a defect. Which evaluation metric would be appropriate here? Which model would be the best fit for this use case?"
   ]
  },
  {
   "cell_type": "markdown",
   "id": "29b86ed2",
   "metadata": {},
   "source": [
    "* Positive case is defect\n",
    "* Negative case is not defect\n",
    "\n",
    "* Team Want: Minimize false positives\n",
    "    * METRIC: Precision - minimize FP (pred is defect, is not actual defect)\n",
    "    * MODEL: Model 1"
   ]
  },
  {
   "cell_type": "code",
   "execution_count": 144,
   "id": "401d20da",
   "metadata": {
    "scrolled": true
   },
   "outputs": [
    {
     "name": "stdout",
     "output_type": "stream",
     "text": [
      "MODEL1\n",
      "              precision    recall  f1-score   support\n",
      "\n",
      "      Defect       0.80      0.50      0.62        16\n",
      "\n",
      "   micro avg       0.80      0.50      0.62        16\n",
      "   macro avg       0.80      0.50      0.62        16\n",
      "weighted avg       0.80      0.50      0.62        16\n",
      "\n",
      "MODEL2\n",
      "              precision    recall  f1-score   support\n",
      "\n",
      "      Defect       0.10      0.56      0.17        16\n",
      "\n",
      "   micro avg       0.10      0.56      0.17        16\n",
      "   macro avg       0.10      0.56      0.17        16\n",
      "weighted avg       0.10      0.56      0.17        16\n",
      "\n",
      "MODEL3\n",
      "              precision    recall  f1-score   support\n",
      "\n",
      "      Defect       0.13      0.81      0.23        16\n",
      "\n",
      "   micro avg       0.13      0.81      0.23        16\n",
      "   macro avg       0.13      0.81      0.23        16\n",
      "weighted avg       0.13      0.81      0.23        16\n",
      "\n",
      "BASELINE\n",
      "              precision    recall  f1-score   support\n",
      "\n",
      "      Defect       0.08      1.00      0.15        16\n",
      "\n",
      "   micro avg       0.08      1.00      0.15        16\n",
      "   macro avg       0.08      1.00      0.15        16\n",
      "weighted avg       0.08      1.00      0.15        16\n",
      "\n"
     ]
    }
   ],
   "source": [
    "#Accuracy for all three models\n",
    "for col in c3.columns[1:]:\n",
    "    y_actual = c3.actual\n",
    "    y_pred = c3[col]\n",
    "    # Classification report\n",
    "    print(col.upper())\n",
    "    print(classification_report(y_actual, y_pred, labels = ['Defect']))"
   ]
  },
  {
   "cell_type": "markdown",
   "id": "dbd9f39c",
   "metadata": {},
   "source": [
    "> ## model 1 at 80% for precision"
   ]
  },
  {
   "cell_type": "markdown",
   "id": "22e64a17",
   "metadata": {},
   "source": [
    "## 4"
   ]
  },
  {
   "cell_type": "markdown",
   "id": "38ca4e8a",
   "metadata": {},
   "source": [
    "Given this dataset, use pandas to create a baseline model (i.e. a model that just predicts the most common class)."
   ]
  },
  {
   "cell_type": "code",
   "execution_count": 6,
   "id": "f42a618a",
   "metadata": {},
   "outputs": [
    {
     "name": "stdout",
     "output_type": "stream",
     "text": [
      "<class 'pandas.core.frame.DataFrame'>\n",
      "RangeIndex: 5000 entries, 0 to 4999\n",
      "Data columns (total 5 columns):\n",
      " #   Column  Non-Null Count  Dtype \n",
      "---  ------  --------------  ----- \n",
      " 0   actual  5000 non-null   object\n",
      " 1   model1  5000 non-null   object\n",
      " 2   model2  5000 non-null   object\n",
      " 3   model3  5000 non-null   object\n",
      " 4   model4  5000 non-null   object\n",
      "dtypes: object(5)\n",
      "memory usage: 195.4+ KB\n"
     ]
    }
   ],
   "source": [
    "paws = pd.read_csv('gives_you_paws.csv')\n",
    "paws.info()"
   ]
  },
  {
   "cell_type": "code",
   "execution_count": 113,
   "id": "5b3803ef",
   "metadata": {},
   "outputs": [
    {
     "data": {
      "text/html": [
       "<div>\n",
       "<style scoped>\n",
       "    .dataframe tbody tr th:only-of-type {\n",
       "        vertical-align: middle;\n",
       "    }\n",
       "\n",
       "    .dataframe tbody tr th {\n",
       "        vertical-align: top;\n",
       "    }\n",
       "\n",
       "    .dataframe thead th {\n",
       "        text-align: right;\n",
       "    }\n",
       "</style>\n",
       "<table border=\"1\" class=\"dataframe\">\n",
       "  <thead>\n",
       "    <tr style=\"text-align: right;\">\n",
       "      <th></th>\n",
       "      <th>actual</th>\n",
       "      <th>model1</th>\n",
       "      <th>model2</th>\n",
       "      <th>model3</th>\n",
       "      <th>model4</th>\n",
       "      <th>baseline</th>\n",
       "    </tr>\n",
       "  </thead>\n",
       "  <tbody>\n",
       "    <tr>\n",
       "      <th>0</th>\n",
       "      <td>cat</td>\n",
       "      <td>cat</td>\n",
       "      <td>dog</td>\n",
       "      <td>cat</td>\n",
       "      <td>dog</td>\n",
       "      <td>dog</td>\n",
       "    </tr>\n",
       "    <tr>\n",
       "      <th>1</th>\n",
       "      <td>dog</td>\n",
       "      <td>dog</td>\n",
       "      <td>cat</td>\n",
       "      <td>cat</td>\n",
       "      <td>dog</td>\n",
       "      <td>dog</td>\n",
       "    </tr>\n",
       "    <tr>\n",
       "      <th>2</th>\n",
       "      <td>dog</td>\n",
       "      <td>cat</td>\n",
       "      <td>cat</td>\n",
       "      <td>cat</td>\n",
       "      <td>dog</td>\n",
       "      <td>dog</td>\n",
       "    </tr>\n",
       "    <tr>\n",
       "      <th>3</th>\n",
       "      <td>dog</td>\n",
       "      <td>dog</td>\n",
       "      <td>dog</td>\n",
       "      <td>cat</td>\n",
       "      <td>dog</td>\n",
       "      <td>dog</td>\n",
       "    </tr>\n",
       "    <tr>\n",
       "      <th>4</th>\n",
       "      <td>cat</td>\n",
       "      <td>cat</td>\n",
       "      <td>cat</td>\n",
       "      <td>dog</td>\n",
       "      <td>dog</td>\n",
       "      <td>dog</td>\n",
       "    </tr>\n",
       "  </tbody>\n",
       "</table>\n",
       "</div>"
      ],
      "text/plain": [
       "  actual model1 model2 model3 model4 baseline\n",
       "0    cat    cat    dog    cat    dog      dog\n",
       "1    dog    dog    cat    cat    dog      dog\n",
       "2    dog    cat    cat    cat    dog      dog\n",
       "3    dog    dog    dog    cat    dog      dog\n",
       "4    cat    cat    cat    dog    dog      dog"
      ]
     },
     "execution_count": 113,
     "metadata": {},
     "output_type": "execute_result"
    }
   ],
   "source": [
    "paws.head()"
   ]
  },
  {
   "cell_type": "code",
   "execution_count": 87,
   "id": "20508c7f",
   "metadata": {},
   "outputs": [],
   "source": [
    "# import sklearn functions\n",
    "from sklearn.metrics import precision_score\n",
    "from sklearn.metrics import accuracy_score\n",
    "from sklearn.metrics import recall_score\n",
    "from sklearn.metrics import classification_report"
   ]
  },
  {
   "cell_type": "code",
   "execution_count": 93,
   "id": "1ef68c6b",
   "metadata": {},
   "outputs": [],
   "source": [
    "y_actual = paws.actual\n",
    "y_pred1 = paws.model1\n",
    "y_pred2 = paws.model2\n",
    "y_pred3 = paws.model3\n",
    "y_pred4 = paws.model4"
   ]
  },
  {
   "cell_type": "markdown",
   "id": "5c5ef121",
   "metadata": {},
   "source": [
    "* In terms of accuracy, how do the various models compare to the baseline model? Are any of the models better than the baseline?"
   ]
  },
  {
   "cell_type": "code",
   "execution_count": 90,
   "id": "5a4dd85e",
   "metadata": {},
   "outputs": [],
   "source": [
    "# positive case is dog\n",
    "paws['baseline'] = \"dog\""
   ]
  },
  {
   "cell_type": "code",
   "execution_count": 92,
   "id": "954e1349",
   "metadata": {},
   "outputs": [
    {
     "data": {
      "text/html": [
       "<div>\n",
       "<style scoped>\n",
       "    .dataframe tbody tr th:only-of-type {\n",
       "        vertical-align: middle;\n",
       "    }\n",
       "\n",
       "    .dataframe tbody tr th {\n",
       "        vertical-align: top;\n",
       "    }\n",
       "\n",
       "    .dataframe thead th {\n",
       "        text-align: right;\n",
       "    }\n",
       "</style>\n",
       "<table border=\"1\" class=\"dataframe\">\n",
       "  <thead>\n",
       "    <tr style=\"text-align: right;\">\n",
       "      <th></th>\n",
       "      <th>actual</th>\n",
       "      <th>model1</th>\n",
       "      <th>model2</th>\n",
       "      <th>model3</th>\n",
       "      <th>model4</th>\n",
       "      <th>baseline</th>\n",
       "    </tr>\n",
       "  </thead>\n",
       "  <tbody>\n",
       "    <tr>\n",
       "      <th>0</th>\n",
       "      <td>cat</td>\n",
       "      <td>cat</td>\n",
       "      <td>dog</td>\n",
       "      <td>cat</td>\n",
       "      <td>dog</td>\n",
       "      <td>dog</td>\n",
       "    </tr>\n",
       "    <tr>\n",
       "      <th>1</th>\n",
       "      <td>dog</td>\n",
       "      <td>dog</td>\n",
       "      <td>cat</td>\n",
       "      <td>cat</td>\n",
       "      <td>dog</td>\n",
       "      <td>dog</td>\n",
       "    </tr>\n",
       "    <tr>\n",
       "      <th>2</th>\n",
       "      <td>dog</td>\n",
       "      <td>cat</td>\n",
       "      <td>cat</td>\n",
       "      <td>cat</td>\n",
       "      <td>dog</td>\n",
       "      <td>dog</td>\n",
       "    </tr>\n",
       "    <tr>\n",
       "      <th>3</th>\n",
       "      <td>dog</td>\n",
       "      <td>dog</td>\n",
       "      <td>dog</td>\n",
       "      <td>cat</td>\n",
       "      <td>dog</td>\n",
       "      <td>dog</td>\n",
       "    </tr>\n",
       "    <tr>\n",
       "      <th>4</th>\n",
       "      <td>cat</td>\n",
       "      <td>cat</td>\n",
       "      <td>cat</td>\n",
       "      <td>dog</td>\n",
       "      <td>dog</td>\n",
       "      <td>dog</td>\n",
       "    </tr>\n",
       "  </tbody>\n",
       "</table>\n",
       "</div>"
      ],
      "text/plain": [
       "  actual model1 model2 model3 model4 baseline\n",
       "0    cat    cat    dog    cat    dog      dog\n",
       "1    dog    dog    cat    cat    dog      dog\n",
       "2    dog    cat    cat    cat    dog      dog\n",
       "3    dog    dog    dog    cat    dog      dog\n",
       "4    cat    cat    cat    dog    dog      dog"
      ]
     },
     "execution_count": 92,
     "metadata": {},
     "output_type": "execute_result"
    }
   ],
   "source": [
    "paws.head()"
   ]
  },
  {
   "cell_type": "code",
   "execution_count": 141,
   "id": "404f839c",
   "metadata": {},
   "outputs": [
    {
     "data": {
      "text/plain": [
       "(0.6508, 0.8074, 0.6304, 0.5096, 0.7426)"
      ]
     },
     "execution_count": 141,
     "metadata": {},
     "output_type": "execute_result"
    }
   ],
   "source": [
    "# Accuracy\n",
    "(paws.actual == paws.baseline).mean(),\\\n",
    "(paws.actual == paws.model1).mean(),\\\n",
    "(paws.actual == paws.model2).mean(),\\\n",
    "(paws.actual == paws.model3).mean(),\\\n",
    "(paws.actual == paws.model4).mean()"
   ]
  },
  {
   "cell_type": "code",
   "execution_count": 100,
   "id": "ce46685f",
   "metadata": {},
   "outputs": [
    {
     "data": {
      "text/plain": [
       "(0.8074, 0.6304, 0.5096, 0.7426)"
      ]
     },
     "execution_count": 100,
     "metadata": {},
     "output_type": "execute_result"
    }
   ],
   "source": [
    "# sklearn accuracy\n",
    "accuracy_score(y_actual, y_pred1),\\\n",
    "accuracy_score(y_actual, y_pred2),\\\n",
    "accuracy_score(y_actual, y_pred3),\\\n",
    "accuracy_score(y_actual, y_pred4)\n",
    "\n",
    "# model 1 is the best fit for accuracy"
   ]
  },
  {
   "cell_type": "code",
   "execution_count": 116,
   "id": "f9c2b76b",
   "metadata": {},
   "outputs": [
    {
     "data": {
      "text/plain": [
       "0.6508"
      ]
     },
     "execution_count": 116,
     "metadata": {},
     "output_type": "execute_result"
    }
   ],
   "source": [
    "# baseline accuracy\n",
    "subset = paws[paws.baseline == 'dog']\n",
    "baseline_precision = (subset.actual == subset.baseline).mean()\n",
    "baseline_precision"
   ]
  },
  {
   "cell_type": "code",
   "execution_count": 103,
   "id": "2d2d5d44",
   "metadata": {},
   "outputs": [],
   "source": [
    "# models 1 and 4 were better than the baseline of 65%"
   ]
  },
  {
   "cell_type": "markdown",
   "id": "25054348",
   "metadata": {},
   "source": [
    "* Suppose you are working on a team that solely deals with dog pictures. Which of these models would you recommend?"
   ]
  },
  {
   "cell_type": "code",
   "execution_count": 142,
   "id": "2a1bf821",
   "metadata": {
    "scrolled": true
   },
   "outputs": [
    {
     "name": "stdout",
     "output_type": "stream",
     "text": [
      "\n",
      "MODEL1\n",
      "              precision    recall  f1-score   support\n",
      "\n",
      "         dog       0.89      0.80      0.84      3254\n",
      "\n",
      "   micro avg       0.89      0.80      0.84      3254\n",
      "   macro avg       0.89      0.80      0.84      3254\n",
      "weighted avg       0.89      0.80      0.84      3254\n",
      "\n",
      "\n",
      "MODEL2\n",
      "              precision    recall  f1-score   support\n",
      "\n",
      "         dog       0.89      0.49      0.63      3254\n",
      "\n",
      "   micro avg       0.89      0.49      0.63      3254\n",
      "   macro avg       0.89      0.49      0.63      3254\n",
      "weighted avg       0.89      0.49      0.63      3254\n",
      "\n",
      "\n",
      "MODEL3\n",
      "              precision    recall  f1-score   support\n",
      "\n",
      "         dog       0.66      0.51      0.57      3254\n",
      "\n",
      "   micro avg       0.66      0.51      0.57      3254\n",
      "   macro avg       0.66      0.51      0.57      3254\n",
      "weighted avg       0.66      0.51      0.57      3254\n",
      "\n",
      "\n",
      "MODEL4\n",
      "              precision    recall  f1-score   support\n",
      "\n",
      "         dog       0.73      0.96      0.83      3254\n",
      "\n",
      "   micro avg       0.73      0.96      0.83      3254\n",
      "   macro avg       0.73      0.96      0.83      3254\n",
      "weighted avg       0.73      0.96      0.83      3254\n",
      "\n",
      "\n",
      "BASELINE\n",
      "              precision    recall  f1-score   support\n",
      "\n",
      "         dog       0.65      1.00      0.79      3254\n",
      "\n",
      "   micro avg       0.65      1.00      0.79      3254\n",
      "   macro avg       0.65      1.00      0.79      3254\n",
      "weighted avg       0.65      1.00      0.79      3254\n",
      "\n"
     ]
    }
   ],
   "source": [
    "for col in paws.columns[1:]:\n",
    "    y_actual = paws.actual\n",
    "    y_pred = paws[col]\n",
    "    # Classification report\n",
    "    print()\n",
    "    print(col.upper())\n",
    "    print(classification_report(y_actual, y_pred, labels = ['dog']))"
   ]
  },
  {
   "cell_type": "markdown",
   "id": "c23dc5e3",
   "metadata": {},
   "source": [
    "> ## model 4 at 96% for the dog team"
   ]
  },
  {
   "cell_type": "markdown",
   "id": "075fdb60",
   "metadata": {},
   "source": [
    "* Suppose you are working on a team that solely deals with cat pictures. Which of these models would you recommend?"
   ]
  },
  {
   "cell_type": "code",
   "execution_count": 149,
   "id": "e0c0d688",
   "metadata": {
    "scrolled": true
   },
   "outputs": [
    {
     "name": "stdout",
     "output_type": "stream",
     "text": [
      "\n",
      "MODEL1\n",
      "              precision    recall  f1-score   support\n",
      "\n",
      "         cat       0.69      0.82      0.75      1746\n",
      "         dog       0.89      0.80      0.84      3254\n",
      "\n",
      "    accuracy                           0.81      5000\n",
      "   macro avg       0.79      0.81      0.80      5000\n",
      "weighted avg       0.82      0.81      0.81      5000\n",
      "\n",
      "\n",
      "MODEL2\n",
      "              precision    recall  f1-score   support\n",
      "\n",
      "         cat       0.48      0.89      0.63      1746\n",
      "         dog       0.89      0.49      0.63      3254\n",
      "\n",
      "    accuracy                           0.63      5000\n",
      "   macro avg       0.69      0.69      0.63      5000\n",
      "weighted avg       0.75      0.63      0.63      5000\n",
      "\n",
      "\n",
      "MODEL3\n",
      "              precision    recall  f1-score   support\n",
      "\n",
      "         cat       0.36      0.51      0.42      1746\n",
      "         dog       0.66      0.51      0.57      3254\n",
      "\n",
      "    accuracy                           0.51      5000\n",
      "   macro avg       0.51      0.51      0.50      5000\n",
      "weighted avg       0.55      0.51      0.52      5000\n",
      "\n",
      "\n",
      "MODEL4\n",
      "              precision    recall  f1-score   support\n",
      "\n",
      "         cat       0.81      0.35      0.48      1746\n",
      "         dog       0.73      0.96      0.83      3254\n",
      "\n",
      "    accuracy                           0.74      5000\n",
      "   macro avg       0.77      0.65      0.66      5000\n",
      "weighted avg       0.76      0.74      0.71      5000\n",
      "\n",
      "\n",
      "BASELINE\n",
      "              precision    recall  f1-score   support\n",
      "\n",
      "         cat       1.00      0.00      0.00      1746\n",
      "         dog       0.65      1.00      0.79      3254\n",
      "\n",
      "    accuracy                           0.65      5000\n",
      "   macro avg       0.83      0.50      0.39      5000\n",
      "weighted avg       0.77      0.65      0.51      5000\n",
      "\n"
     ]
    }
   ],
   "source": [
    "for col in paws.columns[1:]:\n",
    "    y_actual = paws.actual\n",
    "    y_pred = paws[col]\n",
    "    # Classification report\n",
    "    print()\n",
    "    print(col.upper())\n",
    "    print(classification_report(y_actual, y_pred, labels = ['cat', 'dog'], zero_division=1))"
   ]
  },
  {
   "cell_type": "markdown",
   "id": "71a66929",
   "metadata": {},
   "source": [
    "> ## model 2 recall at 89% for the cat team"
   ]
  }
 ],
 "metadata": {
  "kernelspec": {
   "display_name": "Python 3 (ipykernel)",
   "language": "python",
   "name": "python3"
  },
  "language_info": {
   "codemirror_mode": {
    "name": "ipython",
    "version": 3
   },
   "file_extension": ".py",
   "mimetype": "text/x-python",
   "name": "python",
   "nbconvert_exporter": "python",
   "pygments_lexer": "ipython3",
   "version": "3.9.13"
  }
 },
 "nbformat": 4,
 "nbformat_minor": 5
}
